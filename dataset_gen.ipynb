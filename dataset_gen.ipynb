{
 "cells": [
  {
   "cell_type": "code",
   "execution_count": 1,
   "metadata": {},
   "outputs": [
    {
     "name": "stderr",
     "output_type": "stream",
     "text": [
      "Using cache found in /mnt/d/torch_data/hub/huggingface_pytorch-transformers_main\n"
     ]
    }
   ],
   "source": [
    "import logging\n",
    "logging.basicConfig(level=logging.INFO)\n",
    "logger = logging.getLogger(__name__)\n",
    "\n",
    "from german_parser.util.const import CONSTS\n",
    "from german_parser.util.dataloader import TigerDatasetGenerator\n",
    "import dill as pickle"
   ]
  },
  {
   "cell_type": "code",
   "execution_count": 2,
   "metadata": {},
   "outputs": [],
   "source": [
    "character_flag_generators = [\n",
    "            lambda c: int(c.isupper()),\n",
    "            lambda c: int(c.lower() in [\"ä\", \"ö\", \"ü\", \"ß\"]),\n",
    "            lambda c: int(c.isdigit()),\n",
    "            lambda c: int(c in r\"\"\"!\"#$%&'()*+,-./:;<=>?@[\\]^_`{|}~\"\"\")\n",
    "        ]"
   ]
  },
  {
   "cell_type": "code",
   "execution_count": 6,
   "metadata": {},
   "outputs": [
    {
     "name": "stderr",
     "output_type": "stream",
     "text": [
      "INFO:model:Parsing dataset from '/home/james/programming/ml/german/german_parser/util/../../data/tiger/tiger_2.2_utf8.xml'...\n",
      "INFO:model:Parsed 20188 sentences.\n",
      "INFO:model:Generating trees...\n",
      "INFO:model:16885 (83.64%) trees generated.\n",
      "INFO:model:Dataset split into 13508 training, 1688 dev, and 1689 test trees.\n"
     ]
    }
   ],
   "source": [
    "dataset_generator = TigerDatasetGenerator(f\"{CONSTS['data_dir']}/tiger/tiger_2.2_utf8.xml\", (0.1, 0.1), character_flag_generators=character_flag_generators, prop_of_tiger_to_use=0.4) # type:ignore"
   ]
  },
  {
   "cell_type": "code",
   "execution_count": 7,
   "metadata": {},
   "outputs": [],
   "source": [
    "batch_size = 64\n",
    "\n",
    "required_vars = (dataset_generator.get_training_dataloader(batch_size=batch_size, shuffle=True),\n",
    "                 dataset_generator.get_dev_dataloader(batch_size=batch_size, shuffle=False),\n",
    "                 dataset_generator.get_test_dataloader(batch_size=batch_size, shuffle=False),\n",
    "                 dataset_generator.character_set,\n",
    "                 dataset_generator.character_flag_generators,\n",
    "                 dataset_generator.inverse_word_dict,\n",
    "                 dataset_generator.inverse_sym_set,\n",
    "                 dataset_generator.inverse_pos_set,\n",
    "                 dataset_generator.inverse_morph_dicts\n",
    "                )"
   ]
  },
  {
   "cell_type": "code",
   "execution_count": 5,
   "metadata": {},
   "outputs": [],
   "source": [
    "pickle.dump(required_vars, open(\"required_vars.pkl\", \"wb\"))"
   ]
  },
  {
   "cell_type": "code",
   "execution_count": 6,
   "metadata": {},
   "outputs": [],
   "source": [
    "(train_dataloader, train_new_words), (dev_dataloader, dev_new_words), (test_dataloader, test_new_words), character_set, character_flag_generators, inverse_word_dict, inverse_sym_dict, inverse_pos_dict, inverse_morph_dicts = pickle.load(open(\"required_vars.pkl\", \"rb\"))"
   ]
  },
  {
   "cell_type": "code",
   "execution_count": null,
   "metadata": {},
   "outputs": [],
   "source": []
  }
 ],
 "metadata": {
  "kernelspec": {
   "display_name": "german",
   "language": "python",
   "name": "python3"
  },
  "language_info": {
   "codemirror_mode": {
    "name": "ipython",
    "version": 3
   },
   "file_extension": ".py",
   "mimetype": "text/x-python",
   "name": "python",
   "nbconvert_exporter": "python",
   "pygments_lexer": "ipython3",
   "version": "3.11.4"
  },
  "orig_nbformat": 4
 },
 "nbformat": 4,
 "nbformat_minor": 2
}
