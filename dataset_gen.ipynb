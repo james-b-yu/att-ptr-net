{
 "cells": [
  {
   "cell_type": "code",
   "execution_count": 1,
   "metadata": {},
   "outputs": [
    {
     "name": "stderr",
     "output_type": "stream",
     "text": [
      "Using cache found in /mnt/d/torch_data/hub/huggingface_pytorch-transformers_main\n"
     ]
    }
   ],
   "source": [
    "import logging\n",
    "logging.basicConfig(level=logging.INFO)\n",
    "logger = logging.getLogger(__name__)\n",
    "\n",
    "from german_parser.util.const import CONSTS\n",
    "from german_parser.util.dataloader import TigerDatasetGenerator\n",
    "import dill as pickle\n",
    "\n",
    "import multiprocess"
   ]
  },
  {
   "cell_type": "code",
   "execution_count": 2,
   "metadata": {},
   "outputs": [],
   "source": [
    "character_flag_generators = [\n",
    "            lambda c: int(c.isupper()),\n",
    "            lambda c: int(c.lower() in [\"ä\", \"ö\", \"ü\", \"ß\"]),\n",
    "            lambda c: int(c.isdigit()),\n",
    "            lambda c: int(c in r\"\"\"!\"#$%&'()*+,-./:;<=>?@[\\]^_`{|}~\"\"\")\n",
    "        ]"
   ]
  },
  {
   "cell_type": "code",
   "execution_count": 3,
   "metadata": {},
   "outputs": [],
   "source": [
    "iterations = set(range(30)) - {3,12}"
   ]
  },
  {
   "cell_type": "code",
   "execution_count": 4,
   "metadata": {},
   "outputs": [],
   "source": [
    "def get_required_vars(character_flag_generators):\n",
    "    dataset_generator = TigerDatasetGenerator(f\"{CONSTS['data_dir']}/tiger/tiger_2.2_utf8.xml\", (0.001, 0.1), character_flag_generators=character_flag_generators, prop_of_tiger_to_use=1.0) # type:ignore\n",
    "\n",
    "    batch_size = 64\n",
    "\n",
    "    return (dataset_generator.get_training_dataloader(batch_size=batch_size, shuffle=True),\n",
    "                    dataset_generator.get_dev_dataloader(batch_size=batch_size, shuffle=False),\n",
    "                    dataset_generator.get_test_dataloader(batch_size=batch_size, shuffle=False),\n",
    "                    dataset_generator.character_set,\n",
    "                    dataset_generator.character_flag_generators,\n",
    "                    dataset_generator.inverse_word_dict,\n",
    "                    dataset_generator.inverse_sym_set,\n",
    "                    dataset_generator.inverse_pos_set,\n",
    "                    dataset_generator.inverse_morph_dicts\n",
    "                    )"
   ]
  },
  {
   "cell_type": "code",
   "execution_count": 5,
   "metadata": {},
   "outputs": [],
   "source": [
    "def dump_required_vars(character_flag_generators, parent_path, round):\n",
    "    print(f\"generating dataset round {round}\")\n",
    "    required_vars = get_required_vars(character_flag_generators)\n",
    "    pickle.dump(required_vars, open(f\"{parent_path}/required_vars_{round}.pkl\", \"wb\"))"
   ]
  },
  {
   "cell_type": "code",
   "execution_count": 6,
   "metadata": {},
   "outputs": [],
   "source": [
    "pool = multiprocess.Pool(2)"
   ]
  },
  {
   "cell_type": "code",
   "execution_count": 7,
   "metadata": {},
   "outputs": [],
   "source": [
    "def z(x):\n",
    "    dump_required_vars(character_flag_generators, \"./dataset_rounds\", x)\n"
   ]
  },
  {
   "cell_type": "code",
   "execution_count": 8,
   "metadata": {},
   "outputs": [
    {
     "name": "stdout",
     "output_type": "stream",
     "text": [
      "generating dataset round 0generating dataset round 5\n",
      "\n"
     ]
    },
    {
     "name": "stderr",
     "output_type": "stream",
     "text": [
      "INFO:model:Parsing dataset from '/home/james/programming/ml/german/german_parser/util/../../data/tiger/tiger_2.2_utf8.xml'...\n",
      "INFO:model:Parsing dataset from '/home/james/programming/ml/german/german_parser/util/../../data/tiger/tiger_2.2_utf8.xml'...\n",
      "INFO:model:Parsed 50472 sentences.\n",
      "INFO:model:Generating trees...\n",
      "INFO:model:Parsed 50472 sentences.\n",
      "INFO:model:Generating trees...\n",
      "INFO:model:48929 (96.94%) trees generated.\n",
      "INFO:model:Dataset split into 43987 training, 49 dev, and 4893 test trees.\n",
      "INFO:model:48929 (96.94%) trees generated.\n",
      "INFO:model:Dataset split into 43987 training, 49 dev, and 4893 test trees.\n"
     ]
    },
    {
     "name": "stdout",
     "output_type": "stream",
     "text": [
      "generating dataset round 6\n"
     ]
    },
    {
     "name": "stderr",
     "output_type": "stream",
     "text": [
      "INFO:model:Parsing dataset from '/home/james/programming/ml/german/german_parser/util/../../data/tiger/tiger_2.2_utf8.xml'...\n"
     ]
    },
    {
     "name": "stdout",
     "output_type": "stream",
     "text": [
      "generating dataset round 1\n"
     ]
    },
    {
     "name": "stderr",
     "output_type": "stream",
     "text": [
      "INFO:model:Parsing dataset from '/home/james/programming/ml/german/german_parser/util/../../data/tiger/tiger_2.2_utf8.xml'...\n",
      "INFO:model:Parsed 50472 sentences.\n",
      "INFO:model:Generating trees...\n",
      "INFO:model:Parsed 50472 sentences.\n",
      "INFO:model:Generating trees...\n",
      "INFO:model:48929 (96.94%) trees generated.\n",
      "INFO:model:Dataset split into 43987 training, 49 dev, and 4893 test trees.\n",
      "INFO:model:48929 (96.94%) trees generated.\n",
      "INFO:model:Dataset split into 43987 training, 49 dev, and 4893 test trees.\n"
     ]
    },
    {
     "name": "stdout",
     "output_type": "stream",
     "text": [
      "generating dataset round 7\n"
     ]
    },
    {
     "name": "stderr",
     "output_type": "stream",
     "text": [
      "INFO:model:Parsing dataset from '/home/james/programming/ml/german/german_parser/util/../../data/tiger/tiger_2.2_utf8.xml'...\n"
     ]
    },
    {
     "name": "stdout",
     "output_type": "stream",
     "text": [
      "generating dataset round 2\n"
     ]
    },
    {
     "name": "stderr",
     "output_type": "stream",
     "text": [
      "INFO:model:Parsing dataset from '/home/james/programming/ml/german/german_parser/util/../../data/tiger/tiger_2.2_utf8.xml'...\n",
      "INFO:model:Parsed 50472 sentences.\n",
      "INFO:model:Generating trees...\n",
      "INFO:model:Parsed 50472 sentences.\n",
      "INFO:model:Generating trees...\n",
      "INFO:model:48929 (96.94%) trees generated.\n",
      "INFO:model:Dataset split into 43987 training, 49 dev, and 4893 test trees.\n",
      "INFO:model:48929 (96.94%) trees generated.\n",
      "INFO:model:Dataset split into 43987 training, 49 dev, and 4893 test trees.\n"
     ]
    },
    {
     "name": "stdout",
     "output_type": "stream",
     "text": [
      "generating dataset round 8\n"
     ]
    },
    {
     "name": "stderr",
     "output_type": "stream",
     "text": [
      "INFO:model:Parsing dataset from '/home/james/programming/ml/german/german_parser/util/../../data/tiger/tiger_2.2_utf8.xml'...\n",
      "INFO:model:Parsed 50472 sentences.\n",
      "INFO:model:Generating trees...\n"
     ]
    },
    {
     "name": "stdout",
     "output_type": "stream",
     "text": [
      "generating dataset round 4\n"
     ]
    },
    {
     "name": "stderr",
     "output_type": "stream",
     "text": [
      "INFO:model:Parsing dataset from '/home/james/programming/ml/german/german_parser/util/../../data/tiger/tiger_2.2_utf8.xml'...\n",
      "INFO:model:Parsed 50472 sentences.\n",
      "INFO:model:Generating trees...\n",
      "INFO:model:48929 (96.94%) trees generated.\n",
      "INFO:model:Dataset split into 43987 training, 49 dev, and 4893 test trees.\n",
      "INFO:model:48929 (96.94%) trees generated.\n",
      "INFO:model:Dataset split into 43987 training, 49 dev, and 4893 test trees.\n"
     ]
    },
    {
     "name": "stdout",
     "output_type": "stream",
     "text": [
      "generating dataset round 9\n"
     ]
    },
    {
     "name": "stderr",
     "output_type": "stream",
     "text": [
      "INFO:model:Parsing dataset from '/home/james/programming/ml/german/german_parser/util/../../data/tiger/tiger_2.2_utf8.xml'...\n"
     ]
    },
    {
     "name": "stdout",
     "output_type": "stream",
     "text": [
      "generating dataset round 14\n"
     ]
    },
    {
     "name": "stderr",
     "output_type": "stream",
     "text": [
      "INFO:model:Parsing dataset from '/home/james/programming/ml/german/german_parser/util/../../data/tiger/tiger_2.2_utf8.xml'...\n",
      "INFO:model:Parsed 50472 sentences.\n",
      "INFO:model:Generating trees...\n",
      "INFO:model:Parsed 50472 sentences.\n",
      "INFO:model:Generating trees...\n",
      "INFO:model:48929 (96.94%) trees generated.\n",
      "INFO:model:Dataset split into 43987 training, 49 dev, and 4893 test trees.\n",
      "INFO:model:48929 (96.94%) trees generated.\n",
      "INFO:model:Dataset split into 43987 training, 49 dev, and 4893 test trees.\n"
     ]
    },
    {
     "name": "stdout",
     "output_type": "stream",
     "text": [
      "generating dataset round 15\n"
     ]
    },
    {
     "name": "stderr",
     "output_type": "stream",
     "text": [
      "INFO:model:Parsing dataset from '/home/james/programming/ml/german/german_parser/util/../../data/tiger/tiger_2.2_utf8.xml'...\n"
     ]
    },
    {
     "name": "stdout",
     "output_type": "stream",
     "text": [
      "generating dataset round 10\n"
     ]
    },
    {
     "name": "stderr",
     "output_type": "stream",
     "text": [
      "INFO:model:Parsing dataset from '/home/james/programming/ml/german/german_parser/util/../../data/tiger/tiger_2.2_utf8.xml'...\n",
      "INFO:model:Parsed 50472 sentences.\n",
      "INFO:model:Generating trees...\n",
      "INFO:model:Parsed 50472 sentences.\n",
      "INFO:model:Generating trees...\n",
      "INFO:model:48929 (96.94%) trees generated.\n",
      "INFO:model:Dataset split into 43987 training, 49 dev, and 4893 test trees.\n",
      "INFO:model:48929 (96.94%) trees generated.\n",
      "INFO:model:Dataset split into 43987 training, 49 dev, and 4893 test trees.\n"
     ]
    },
    {
     "name": "stdout",
     "output_type": "stream",
     "text": [
      "generating dataset round 16\n"
     ]
    },
    {
     "name": "stderr",
     "output_type": "stream",
     "text": [
      "INFO:model:Parsing dataset from '/home/james/programming/ml/german/german_parser/util/../../data/tiger/tiger_2.2_utf8.xml'...\n"
     ]
    },
    {
     "name": "stdout",
     "output_type": "stream",
     "text": [
      "generating dataset round 11\n"
     ]
    },
    {
     "name": "stderr",
     "output_type": "stream",
     "text": [
      "INFO:model:Parsing dataset from '/home/james/programming/ml/german/german_parser/util/../../data/tiger/tiger_2.2_utf8.xml'...\n",
      "INFO:model:Parsed 50472 sentences.\n",
      "INFO:model:Generating trees...\n",
      "INFO:model:Parsed 50472 sentences.\n",
      "INFO:model:Generating trees...\n",
      "INFO:model:48929 (96.94%) trees generated.\n",
      "INFO:model:Dataset split into 43987 training, 49 dev, and 4893 test trees.\n",
      "INFO:model:48929 (96.94%) trees generated.\n",
      "INFO:model:Dataset split into 43987 training, 49 dev, and 4893 test trees.\n"
     ]
    },
    {
     "name": "stdout",
     "output_type": "stream",
     "text": [
      "generating dataset round 17\n"
     ]
    },
    {
     "name": "stderr",
     "output_type": "stream",
     "text": [
      "INFO:model:Parsing dataset from '/home/james/programming/ml/german/german_parser/util/../../data/tiger/tiger_2.2_utf8.xml'...\n"
     ]
    },
    {
     "name": "stdout",
     "output_type": "stream",
     "text": [
      "generating dataset round 13\n"
     ]
    },
    {
     "name": "stderr",
     "output_type": "stream",
     "text": [
      "INFO:model:Parsing dataset from '/home/james/programming/ml/german/german_parser/util/../../data/tiger/tiger_2.2_utf8.xml'...\n",
      "INFO:model:Parsed 50472 sentences.\n",
      "INFO:model:Generating trees...\n",
      "INFO:model:Parsed 50472 sentences.\n",
      "INFO:model:Generating trees...\n",
      "INFO:model:48929 (96.94%) trees generated.\n",
      "INFO:model:Dataset split into 43987 training, 49 dev, and 4893 test trees.\n",
      "INFO:model:48929 (96.94%) trees generated.\n",
      "INFO:model:Dataset split into 43987 training, 49 dev, and 4893 test trees.\n"
     ]
    },
    {
     "name": "stdout",
     "output_type": "stream",
     "text": [
      "generating dataset round 18\n"
     ]
    },
    {
     "name": "stderr",
     "output_type": "stream",
     "text": [
      "INFO:model:Parsing dataset from '/home/james/programming/ml/german/german_parser/util/../../data/tiger/tiger_2.2_utf8.xml'...\n"
     ]
    },
    {
     "name": "stdout",
     "output_type": "stream",
     "text": [
      "generating dataset round 22\n"
     ]
    },
    {
     "name": "stderr",
     "output_type": "stream",
     "text": [
      "INFO:model:Parsing dataset from '/home/james/programming/ml/german/german_parser/util/../../data/tiger/tiger_2.2_utf8.xml'...\n",
      "INFO:model:Parsed 50472 sentences.\n",
      "INFO:model:Generating trees...\n",
      "INFO:model:Parsed 50472 sentences.\n",
      "INFO:model:Generating trees...\n",
      "INFO:model:48929 (96.94%) trees generated.\n",
      "INFO:model:Dataset split into 43987 training, 49 dev, and 4893 test trees.\n",
      "INFO:model:48929 (96.94%) trees generated.\n",
      "INFO:model:Dataset split into 43987 training, 49 dev, and 4893 test trees.\n"
     ]
    },
    {
     "name": "stdout",
     "output_type": "stream",
     "text": [
      "generating dataset round 19\n"
     ]
    },
    {
     "name": "stderr",
     "output_type": "stream",
     "text": [
      "INFO:model:Parsing dataset from '/home/james/programming/ml/german/german_parser/util/../../data/tiger/tiger_2.2_utf8.xml'...\n"
     ]
    },
    {
     "name": "stdout",
     "output_type": "stream",
     "text": [
      "generating dataset round 23\n"
     ]
    },
    {
     "name": "stderr",
     "output_type": "stream",
     "text": [
      "INFO:model:Parsing dataset from '/home/james/programming/ml/german/german_parser/util/../../data/tiger/tiger_2.2_utf8.xml'...\n",
      "INFO:model:Parsed 50472 sentences.\n",
      "INFO:model:Generating trees...\n",
      "INFO:model:Parsed 50472 sentences.\n",
      "INFO:model:Generating trees...\n",
      "INFO:model:48929 (96.94%) trees generated.\n",
      "INFO:model:Dataset split into 43987 training, 49 dev, and 4893 test trees.\n",
      "INFO:model:48929 (96.94%) trees generated.\n",
      "INFO:model:Dataset split into 43987 training, 49 dev, and 4893 test trees.\n"
     ]
    },
    {
     "name": "stdout",
     "output_type": "stream",
     "text": [
      "generating dataset round 24\n"
     ]
    },
    {
     "name": "stderr",
     "output_type": "stream",
     "text": [
      "INFO:model:Parsing dataset from '/home/james/programming/ml/german/german_parser/util/../../data/tiger/tiger_2.2_utf8.xml'...\n"
     ]
    },
    {
     "name": "stdout",
     "output_type": "stream",
     "text": [
      "generating dataset round 20\n"
     ]
    },
    {
     "name": "stderr",
     "output_type": "stream",
     "text": [
      "INFO:model:Parsing dataset from '/home/james/programming/ml/german/german_parser/util/../../data/tiger/tiger_2.2_utf8.xml'...\n",
      "INFO:model:Parsed 50472 sentences.\n",
      "INFO:model:Generating trees...\n",
      "INFO:model:Parsed 50472 sentences.\n",
      "INFO:model:Generating trees...\n",
      "INFO:model:48929 (96.94%) trees generated.\n",
      "INFO:model:Dataset split into 43987 training, 49 dev, and 4893 test trees.\n",
      "INFO:model:48929 (96.94%) trees generated.\n",
      "INFO:model:Dataset split into 43987 training, 49 dev, and 4893 test trees.\n"
     ]
    },
    {
     "name": "stdout",
     "output_type": "stream",
     "text": [
      "generating dataset round 25\n"
     ]
    },
    {
     "name": "stderr",
     "output_type": "stream",
     "text": [
      "INFO:model:Parsing dataset from '/home/james/programming/ml/german/german_parser/util/../../data/tiger/tiger_2.2_utf8.xml'...\n"
     ]
    },
    {
     "name": "stdout",
     "output_type": "stream",
     "text": [
      "generating dataset round 21\n"
     ]
    },
    {
     "name": "stderr",
     "output_type": "stream",
     "text": [
      "INFO:model:Parsing dataset from '/home/james/programming/ml/german/german_parser/util/../../data/tiger/tiger_2.2_utf8.xml'...\n",
      "INFO:model:Parsed 50472 sentences.\n",
      "INFO:model:Generating trees...\n",
      "INFO:model:Parsed 50472 sentences.\n",
      "INFO:model:Generating trees...\n",
      "INFO:model:48929 (96.94%) trees generated.\n",
      "INFO:model:Dataset split into 43987 training, 49 dev, and 4893 test trees.\n",
      "INFO:model:48929 (96.94%) trees generated.\n",
      "INFO:model:Dataset split into 43987 training, 49 dev, and 4893 test trees.\n"
     ]
    },
    {
     "name": "stdout",
     "output_type": "stream",
     "text": [
      "generating dataset round 26\n"
     ]
    },
    {
     "name": "stderr",
     "output_type": "stream",
     "text": [
      "INFO:model:Parsing dataset from '/home/james/programming/ml/german/german_parser/util/../../data/tiger/tiger_2.2_utf8.xml'...\n",
      "INFO:model:Parsed 50472 sentences.\n",
      "INFO:model:Generating trees...\n",
      "INFO:model:48929 (96.94%) trees generated.\n",
      "INFO:model:Dataset split into 43987 training, 49 dev, and 4893 test trees.\n"
     ]
    },
    {
     "name": "stdout",
     "output_type": "stream",
     "text": [
      "generating dataset round 27\n"
     ]
    },
    {
     "name": "stderr",
     "output_type": "stream",
     "text": [
      "INFO:model:Parsing dataset from '/home/james/programming/ml/german/german_parser/util/../../data/tiger/tiger_2.2_utf8.xml'...\n",
      "INFO:model:Parsed 50472 sentences.\n",
      "INFO:model:Generating trees...\n",
      "INFO:model:48929 (96.94%) trees generated.\n",
      "INFO:model:Dataset split into 43987 training, 49 dev, and 4893 test trees.\n"
     ]
    },
    {
     "name": "stdout",
     "output_type": "stream",
     "text": [
      "generating dataset round 28\n"
     ]
    },
    {
     "name": "stderr",
     "output_type": "stream",
     "text": [
      "INFO:model:Parsing dataset from '/home/james/programming/ml/german/german_parser/util/../../data/tiger/tiger_2.2_utf8.xml'...\n",
      "INFO:model:Parsed 50472 sentences.\n",
      "INFO:model:Generating trees...\n",
      "INFO:model:48929 (96.94%) trees generated.\n",
      "INFO:model:Dataset split into 43987 training, 49 dev, and 4893 test trees.\n"
     ]
    },
    {
     "name": "stdout",
     "output_type": "stream",
     "text": [
      "generating dataset round 29\n"
     ]
    },
    {
     "name": "stderr",
     "output_type": "stream",
     "text": [
      "INFO:model:Parsing dataset from '/home/james/programming/ml/german/german_parser/util/../../data/tiger/tiger_2.2_utf8.xml'...\n",
      "INFO:model:Parsed 50472 sentences.\n",
      "INFO:model:Generating trees...\n",
      "INFO:model:48929 (96.94%) trees generated.\n",
      "INFO:model:Dataset split into 43987 training, 49 dev, and 4893 test trees.\n"
     ]
    },
    {
     "name": "stdout",
     "output_type": "stream",
     "text": [
      "[None, None, None, None, None, None, None, None, None, None, None, None, None, None, None, None, None, None, None, None, None, None, None, None, None, None, None, None]\n"
     ]
    }
   ],
   "source": [
    "print(pool.map(z, iterations))"
   ]
  },
  {
   "cell_type": "code",
   "execution_count": 9,
   "metadata": {},
   "outputs": [],
   "source": [
    "# (train_dataloader, train_new_words), (dev_dataloader, dev_new_words), (test_dataloader, test_new_words), character_set, character_flag_generators, inverse_word_dict, inverse_sym_dict, inverse_pos_dict, inverse_morph_dicts = pickle.load(open(\"required_vars.pkl\", \"rb\"))"
   ]
  },
  {
   "cell_type": "code",
   "execution_count": null,
   "metadata": {},
   "outputs": [],
   "source": []
  }
 ],
 "metadata": {
  "kernelspec": {
   "display_name": "german",
   "language": "python",
   "name": "python3"
  },
  "language_info": {
   "codemirror_mode": {
    "name": "ipython",
    "version": 3
   },
   "file_extension": ".py",
   "mimetype": "text/x-python",
   "name": "python",
   "nbconvert_exporter": "python",
   "pygments_lexer": "ipython3",
   "version": "3.11.4"
  },
  "orig_nbformat": 4
 },
 "nbformat": 4,
 "nbformat_minor": 2
}
