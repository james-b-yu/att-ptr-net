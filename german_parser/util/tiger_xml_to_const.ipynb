{
 "cells": [
  {
   "cell_type": "code",
   "execution_count": 21,
   "metadata": {},
   "outputs": [],
   "source": [
    "from const import CONSTS\n",
    "\n",
    "import tiger_xml_to_const\n",
    "import c_to_d\n",
    "\n",
    "from tiger_xml_to_const import ConstituentTree, Constituent, Terminal\n",
    "import xml.etree.ElementTree as ET\n",
    "import pickle\n",
    "\n",
    "import importlib\n",
    "importlib.reload(tiger_xml_to_const)\n",
    "importlib.reload(c_to_d)\n",
    "\n",
    "from c_to_d import DependencyTree, Dependency"
   ]
  },
  {
   "cell_type": "code",
   "execution_count": 2,
   "metadata": {},
   "outputs": [],
   "source": [
    "document = ET.parse(open(f\"{CONSTS['data_dir']}/tiger/tiger_2.2_utf8.xml\", \"r\", encoding=\"utf-8\"))"
   ]
  },
  {
   "cell_type": "code",
   "execution_count": 3,
   "metadata": {},
   "outputs": [],
   "source": [
    "all_s = document.findall(\".//s\")"
   ]
  },
  {
   "cell_type": "code",
   "execution_count": 4,
   "metadata": {},
   "outputs": [],
   "source": [
    "# errors = 0\n",
    "# has_unary = 0\n",
    "# has_empty_verb_constituents = 0\n",
    "\n",
    "# cannot_use = 0\n",
    "\n",
    "# error_messages = []\n",
    "\n",
    "# sents = []\n",
    "# for idx, s in enumerate(all_s):\n",
    "#     print(f\"Parsing sentence {idx + 1}; errors {errors}\")\n",
    "#     s_cannot_use = False\n",
    "\n",
    "#     try:\n",
    "#         sent = ConstituentTree(s)\n",
    "#         has_unary += int(sent.has_unary)\n",
    "#         has_empty_verb_constituents += int(sent.has_empty_verb_constituents)\n",
    "\n",
    "#         s_cannot_use = sent.has_unary or sent.has_empty_verb_constituents\n",
    "\n",
    "#         sent.check_constituent_rules()\n",
    "#     except Exception as e:\n",
    "#         errors += 1\n",
    "#         error_messages.append(f\"sentence id {idx + 1} has error {e}\")\n",
    "\n",
    "#         s_cannot_use = True\n",
    "#         # break\n",
    "\n",
    "#     if not s_cannot_use:\n",
    "#         sents.append(sent)\n",
    "#     cannot_use += int(s_cannot_use)"
   ]
  },
  {
   "cell_type": "code",
   "execution_count": 22,
   "metadata": {},
   "outputs": [
    {
     "name": "stdout",
     "output_type": "stream",
     "text": [
      "Warning: 2 candidate edges exist\n",
      "Warning: 3 candidate edges exist\n",
      "Warning: 3 candidate edges exist\n",
      "Warning: 2 candidate edges exist\n",
      "Warning: 2 candidate edges exist\n"
     ]
    }
   ],
   "source": [
    "s_test = ConstituentTree(all_s[23300])"
   ]
  },
  {
   "cell_type": "code",
   "execution_count": 25,
   "metadata": {},
   "outputs": [],
   "source": [
    "d_tree = DependencyTree(s_test)"
   ]
  },
  {
   "cell_type": "code",
   "execution_count": 29,
   "metadata": {},
   "outputs": [
    {
     "data": {
      "text/plain": [
       "{12: {2: [Dependency(head=12, modifier=11, sym='PN')]},\n",
       " 10: {2: [Dependency(head=10, modifier=9, sym='NP'),\n",
       "   Dependency(head=10, modifier=12, sym='NP')]},\n",
       " 8: {2: [Dependency(head=8, modifier=6, sym='NP'),\n",
       "   Dependency(head=8, modifier=7, sym='NP'),\n",
       "   Dependency(head=8, modifier=10, sym='NP')]},\n",
       " 4: {2: [Dependency(head=4, modifier=8, sym='NP')]},\n",
       " 14: {2: [Dependency(head=14, modifier=4, sym='VP')]},\n",
       " 2: {2: [Dependency(head=2, modifier=1, sym='S'),\n",
       "   Dependency(head=2, modifier=14, sym='S')],\n",
       "  3: [Dependency(head=2, modifier=3, sym='VROOT'),\n",
       "   Dependency(head=2, modifier=5, sym='VROOT'),\n",
       "   Dependency(head=2, modifier=13, sym='VROOT'),\n",
       "   Dependency(head=2, modifier=15, sym='VROOT')]}}"
      ]
     },
     "execution_count": 29,
     "metadata": {},
     "output_type": "execute_result"
    }
   ],
   "source": [
    "d_tree.modifiers"
   ]
  },
  {
   "cell_type": "code",
   "execution_count": null,
   "metadata": {},
   "outputs": [],
   "source": []
  }
 ],
 "metadata": {
  "kernelspec": {
   "display_name": "german",
   "language": "python",
   "name": "python3"
  },
  "language_info": {
   "codemirror_mode": {
    "name": "ipython",
    "version": 3
   },
   "file_extension": ".py",
   "mimetype": "text/x-python",
   "name": "python",
   "nbconvert_exporter": "python",
   "pygments_lexer": "ipython3",
   "version": "3.11.4"
  },
  "orig_nbformat": 4
 },
 "nbformat": 4,
 "nbformat_minor": 2
}
