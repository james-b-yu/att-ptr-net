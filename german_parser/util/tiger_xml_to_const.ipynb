{
 "cells": [
  {
   "cell_type": "code",
   "execution_count": 1,
   "metadata": {},
   "outputs": [
    {
     "data": {
      "text/plain": [
       "<module 'converter' from '/Users/jamesyu/programming/ml/german/german_parser/util/converter.py'>"
      ]
     },
     "execution_count": 1,
     "metadata": {},
     "output_type": "execute_result"
    }
   ],
   "source": [
    "from const import CONSTS\n",
    "\n",
    "import util\n",
    "import tiger_xml_to_const\n",
    "import converter\n",
    "\n",
    "from tiger_xml_to_const import ConstituentTree, DependencyTree\n",
    "import xml.etree.ElementTree as ET\n",
    "import pickle\n",
    "\n",
    "import importlib\n",
    "importlib.reload(util)\n",
    "importlib.reload(tiger_xml_to_const)\n",
    "importlib.reload(converter)\n"
   ]
  },
  {
   "cell_type": "code",
   "execution_count": 2,
   "metadata": {},
   "outputs": [],
   "source": [
    "document = ET.parse(open(f\"{CONSTS['data_dir']}/tiger/tiger_2.2_utf8.xml\", \"r\", encoding=\"utf-8\"))"
   ]
  },
  {
   "cell_type": "code",
   "execution_count": 3,
   "metadata": {},
   "outputs": [],
   "source": [
    "all_s = document.findall(\".//s\")"
   ]
  },
  {
   "cell_type": "code",
   "execution_count": 4,
   "metadata": {},
   "outputs": [],
   "source": [
    "# errors = 0\n",
    "# has_unary = 0\n",
    "# has_empty_verb_constituents = 0\n",
    "\n",
    "# cannot_use = 0\n",
    "\n",
    "# error_messages = []\n",
    "\n",
    "# sents = []\n",
    "# for idx, s in enumerate(all_s):\n",
    "#     print(f\"Parsing sentence {idx + 1}; errors {errors}\")\n",
    "#     s_cannot_use = False\n",
    "\n",
    "#     try:\n",
    "#         sent = ConstituentTree(s)\n",
    "#         has_unary += int(sent.has_unary)\n",
    "#         has_empty_verb_constituents += int(sent.has_empty_verb_constituents)\n",
    "\n",
    "#         s_cannot_use = sent.has_unary or sent.has_empty_verb_constituents\n",
    "\n",
    "#         sent.check_constituent_rules()\n",
    "#     except Exception as e:\n",
    "#         errors += 1\n",
    "#         error_messages.append(f\"sentence id {idx + 1} has error {e}\")\n",
    "\n",
    "#         s_cannot_use = True\n",
    "#         # break\n",
    "\n",
    "#     if not s_cannot_use:\n",
    "#         sents.append(sent)\n",
    "#     cannot_use += int(s_cannot_use)"
   ]
  },
  {
   "cell_type": "code",
   "execution_count": 5,
   "metadata": {},
   "outputs": [
    {
     "name": "stdout",
     "output_type": "stream",
     "text": [
      "Warning: 2 candidate edges exist\n",
      "Warning: 3 candidate edges exist\n",
      "Warning: 3 candidate edges exist\n",
      "Warning: 2 candidate edges exist\n",
      "Warning: 2 candidate edges exist\n"
     ]
    }
   ],
   "source": [
    "s_test = ConstituentTree.from_tiger_xml(all_s[23300])"
   ]
  },
  {
   "cell_type": "code",
   "execution_count": 6,
   "metadata": {},
   "outputs": [],
   "source": [
    "d_tree = DependencyTree.from_c_tree(s_test)"
   ]
  },
  {
   "cell_type": "code",
   "execution_count": 54,
   "metadata": {},
   "outputs": [],
   "source": [
    "c_tree = ConstituentTree.from_d_tree(d_tree)"
   ]
  },
  {
   "cell_type": "code",
   "execution_count": 61,
   "metadata": {},
   "outputs": [],
   "source": [
    "newick = s_test.get_newick()"
   ]
  },
  {
   "cell_type": "code",
   "execution_count": 56,
   "metadata": {},
   "outputs": [
    {
     "data": {
      "text/plain": [
       "'((2.VVFIN,1.PPER,(14.VVIZU,(4.NN,(8.NN,6.KOKOM,7.ART,(10.NN,9.ART,(12.NE,11.NE)PN)NP)NP)NP)VP)S,3.$COMMA,5.$COMMA,13.$COMMA,15.$.)VROOT;'"
      ]
     },
     "execution_count": 56,
     "metadata": {},
     "output_type": "execute_result"
    }
   ],
   "source": [
    "newick"
   ]
  },
  {
   "cell_type": "code",
   "execution_count": 57,
   "metadata": {},
   "outputs": [],
   "source": [
    "! unset DYLD_LIBRARY_PATH\n",
    "import toytree"
   ]
  },
  {
   "cell_type": "code",
   "execution_count": 62,
   "metadata": {},
   "outputs": [],
   "source": [
    "tree = toytree.tree(newick=newick, tree_format=8, quoted_node_names=True)"
   ]
  },
  {
   "cell_type": "code",
   "execution_count": 68,
   "metadata": {},
   "outputs": [],
   "source": [
    "sorted_tip_labels = sorted(tree.get_tip_labels(), key=lambda s: int(s.split('.')[0]))"
   ]
  },
  {
   "cell_type": "code",
   "execution_count": 69,
   "metadata": {},
   "outputs": [
    {
     "data": {
      "text/plain": [
       "(<toyplot.canvas.Canvas at 0x2fdb58910>,\n",
       " <toyplot.coordinates.Cartesian at 0x2fdaae5d0>,\n",
       " <toytree.Render.ToytreeMark at 0x2fdb5a910>)"
      ]
     },
     "execution_count": 69,
     "metadata": {},
     "output_type": "execute_result"
    },
    {
     "data": {
      "text/html": [
       "<div class=\"toyplot\" id=\"t8ee7244e428c4261b5b0082726195b11\" style=\"text-align:center\"><svg class=\"toyplot-canvas-Canvas\" xmlns:toyplot=\"http://www.sandia.gov/toyplot\" xmlns:xlink=\"http://www.w3.org/1999/xlink\" xmlns=\"http://www.w3.org/2000/svg\" width=\"600.0px\" height=\"600.0px\" viewBox=\"0 0 600.0 600.0\" preserveAspectRatio=\"xMidYMid meet\" style=\"background-color:transparent;border-color:#292724;border-style:none;border-width:1.0;fill:rgb(16.1%,15.3%,14.1%);fill-opacity:1.0;font-family:Helvetica;font-size:12px;opacity:1.0;stroke:rgb(16.1%,15.3%,14.1%);stroke-opacity:1.0;stroke-width:1.0\" id=\"ta35e8926ff6348caa64e58a2b60561e3\"><g class=\"toyplot-coordinates-Cartesian\" id=\"t8635b3b2375a4b8db58830a55a0f3527\"><clipPath id=\"t11401448595d4af7a9e7d6b3c49bdc71\"><rect x=\"30.0\" y=\"30.0\" width=\"540.0\" height=\"540.0\"></rect></clipPath><g clip-path=\"url(#t11401448595d4af7a9e7d6b3c49bdc71)\"><g class=\"toytree-mark-Toytree\" id=\"t143960c636d14006b2fe638143dbbf3a\"><g class=\"toytree-Edges\" style=\"fill:none;stroke:rgb(55.3%,62.7%,79.6%);stroke-linecap:round;stroke-opacity:0.5;stroke-width:2.5\"><path d=\"M 302.1 62.7 L 174.7 123.3\" id=\"21,20\"></path><path d=\"M 174.7 123.3 L 366.2 183.9\" id=\"20,19\"></path><path d=\"M 366.2 183.9 L 228.5 244.5\" id=\"19,18\"></path><path d=\"M 228.5 244.5 L 292.9 305.1\" id=\"18,17\"></path><path d=\"M 292.9 305.1 L 373.7 365.7\" id=\"17,16\"></path><path d=\"M 373.7 365.7 L 419.0 426.3\" id=\"16,15\"></path><path d=\"M 302.1 62.7 L 130.0 123.3\" id=\"21,14\"></path><path d=\"M 302.1 62.7 L 198.0 123.3\" id=\"21,13\"></path><path d=\"M 302.1 62.7 L 470.0 123.3\" id=\"21,12\"></path><path d=\"M 302.1 62.7 L 538.0 123.3\" id=\"21,11\"></path><path d=\"M 174.7 123.3 L 62.0 183.9\" id=\"20,10\"></path><path d=\"M 174.7 123.3 L 96.0 183.9\" id=\"20,9\"></path><path d=\"M 366.2 183.9 L 504.0 244.5\" id=\"19,8\"></path><path d=\"M 228.5 244.5 L 164.0 305.1\" id=\"18,7\"></path><path d=\"M 292.9 305.1 L 232.0 365.7\" id=\"17,6\"></path><path d=\"M 292.9 305.1 L 266.0 365.7\" id=\"17,5\"></path><path d=\"M 292.9 305.1 L 300.0 365.7\" id=\"17,4\"></path><path d=\"M 373.7 365.7 L 334.0 426.3\" id=\"16,3\"></path><path d=\"M 373.7 365.7 L 368.0 426.3\" id=\"16,2\"></path><path d=\"M 419.0 426.3 L 402.0 486.9\" id=\"15,1\"></path><path d=\"M 419.0 426.3 L 436.0 486.9\" id=\"15,0\"></path></g><g class=\"toytree-AlignEdges\" style=\"stroke:rgb(66.3%,66.3%,66.3%);stroke-dasharray:2, 4;stroke-linecap:round;stroke-opacity:1.0;stroke-width:2\"><path d=\"M 436.0 486.9 L 436.0 486.9\"></path><path d=\"M 402.0 486.9 L 402.0 486.9\"></path><path d=\"M 368.0 486.9 L 368.0 426.3\"></path><path d=\"M 334.0 486.9 L 334.0 426.3\"></path><path d=\"M 300.0 486.9 L 300.0 365.7\"></path><path d=\"M 266.0 486.9 L 266.0 365.7\"></path><path d=\"M 232.0 486.9 L 232.0 365.7\"></path><path d=\"M 164.0 486.9 L 164.0 305.1\"></path><path d=\"M 504.0 486.9 L 504.0 244.5\"></path><path d=\"M 96.0 486.9 L 96.0 183.9\"></path><path d=\"M 62.0 486.9 L 62.0 183.9\"></path><path d=\"M 538.0 486.9 L 538.0 123.3\"></path><path d=\"M 470.0 486.9 L 470.0 123.3\"></path><path d=\"M 198.0 486.9 L 198.0 123.3\"></path><path d=\"M 130.0 486.9 L 130.0 123.3\"></path></g><g class=\"toytree-Nodes\" style=\"fill:rgb(40%,76.1%,64.7%);fill-opacity:1.0;stroke:None;stroke-width:1\"><g id=\"node-0\" transform=\"translate(436.003,486.915)\"><circle r=\"0.0\"></circle></g><g id=\"node-1\" transform=\"translate(402.002,486.915)\"><circle r=\"0.0\"></circle></g><g id=\"node-2\" transform=\"translate(368.001,426.317)\"><circle r=\"0.0\"></circle></g><g id=\"node-3\" transform=\"translate(334.001,426.317)\"><circle r=\"0.0\"></circle></g><g id=\"node-4\" transform=\"translate(300.000,365.718)\"><circle r=\"0.0\"></circle></g><g id=\"node-5\" transform=\"translate(265.999,365.718)\"><circle r=\"0.0\"></circle></g><g id=\"node-6\" transform=\"translate(231.999,365.718)\"><circle r=\"0.0\"></circle></g><g id=\"node-7\" transform=\"translate(163.997,305.120)\"><circle r=\"0.0\"></circle></g><g id=\"node-8\" transform=\"translate(504.004,244.521)\"><circle r=\"0.0\"></circle></g><g id=\"node-9\" transform=\"translate(95.996,183.923)\"><circle r=\"0.0\"></circle></g><g id=\"node-10\" transform=\"translate(61.995,183.923)\"><circle r=\"0.0\"></circle></g><g id=\"node-11\" transform=\"translate(538.005,123.324)\"><circle r=\"0.0\"></circle></g><g id=\"node-12\" transform=\"translate(470.003,123.324)\"><circle r=\"0.0\"></circle></g><g id=\"node-13\" transform=\"translate(197.998,123.324)\"><circle r=\"0.0\"></circle></g><g id=\"node-14\" transform=\"translate(129.997,123.324)\"><circle r=\"0.0\"></circle></g><g id=\"node-15\" transform=\"translate(419.002,426.317)\"><circle r=\"7.5\"></circle></g><g id=\"node-16\" transform=\"translate(373.668,365.718)\"><circle r=\"7.5\"></circle></g><g id=\"node-17\" transform=\"translate(292.917,305.120)\"><circle r=\"7.5\"></circle></g><g id=\"node-18\" transform=\"translate(228.457,244.521)\"><circle r=\"7.5\"></circle></g><g id=\"node-19\" transform=\"translate(366.230,183.923)\"><circle r=\"7.5\"></circle></g><g id=\"node-20\" transform=\"translate(174.741,123.324)\"><circle r=\"7.5\"></circle></g><g id=\"node-21\" transform=\"translate(302.149,62.726)\"><circle r=\"7.5\"></circle></g></g><g class=\"toytree-NodeLabels\" style=\"fill:rgb(14.9%,14.9%,14.9%);fill-opacity:1.0;font-size:9px;stroke:none\"><g transform=\"translate(412.75,428.62)\"><text>PN</text></g><g transform=\"translate(367.42,368.02)\"><text>NP</text></g><g transform=\"translate(286.67,307.42)\"><text>NP</text></g><g transform=\"translate(222.21,246.82)\"><text>NP</text></g><g transform=\"translate(360.23,186.22)\"><text>VP</text></g><g transform=\"translate(171.74,125.62)\"><text>S</text></g><g transform=\"translate(286.15,65.03)\"><text>VROOT</text></g></g><g class=\"toytree-TipLabels\" style=\"fill:rgb(14.9%,14.9%,14.9%);fill-opacity:1.0;font-family:helvetica;font-size:11px;font-weight:normal;stroke:none;white-space:pre\"><g transform=\"translate(436.00,486.92)rotate(-90)\"><text x=\"-45.57\" y=\"2.81\" style=\"\">12.NE</text></g><g transform=\"translate(402.00,486.92)rotate(-90)\"><text x=\"-45.57\" y=\"2.81\" style=\"\">11.NE</text></g><g transform=\"translate(368.00,486.92)rotate(-90)\"><text x=\"-46.17\" y=\"2.81\" style=\"\">10.NN</text></g><g transform=\"translate(334.00,486.92)rotate(-90)\"><text x=\"-46.17\" y=\"2.81\" style=\"\">9.ART</text></g><g transform=\"translate(300.00,486.92)rotate(-90)\"><text x=\"-40.06\" y=\"2.81\" style=\"\">8.NN</text></g><g transform=\"translate(266.00,486.92)rotate(-90)\"><text x=\"-46.17\" y=\"2.81\" style=\"\">7.ART</text></g><g transform=\"translate(232.00,486.92)rotate(-90)\"><text x=\"-65.13\" y=\"2.81\" style=\"\">6.KOKOM</text></g><g transform=\"translate(164.00,486.92)rotate(-90)\"><text x=\"-40.06\" y=\"2.81\" style=\"\">4.NN</text></g><g transform=\"translate(504.00,486.92)rotate(-90)\"><text x=\"-62.69\" y=\"2.81\" style=\"\">14.VVIZU</text></g><g transform=\"translate(96.00,486.92)rotate(-90)\"><text x=\"-56.57\" y=\"2.81\" style=\"\">2.VVFIN</text></g><g transform=\"translate(62.00,486.92)rotate(-90)\"><text x=\"-54.13\" y=\"2.81\" style=\"\">1.PPER</text></g><g transform=\"translate(538.00,486.92)rotate(-90)\"><text x=\"-39.46\" y=\"2.81\" style=\"\">15.$.</text></g><g transform=\"translate(470.00,486.92)rotate(-90)\"><text x=\"-78.57\" y=\"2.81\" style=\"\">13.$COMMA</text></g><g transform=\"translate(198.00,486.92)rotate(-90)\"><text x=\"-72.45\" y=\"2.81\" style=\"\">5.$COMMA</text></g><g transform=\"translate(130.00,486.92)rotate(-90)\"><text x=\"-72.45\" y=\"2.81\" style=\"\">3.$COMMA</text></g></g></g></g></g></svg><div class=\"toyplot-behavior\"><script>(function()\n",
       "{\n",
       "var modules={};\n",
       "})();</script></div></div>"
      ]
     },
     "metadata": {},
     "output_type": "display_data"
    }
   ],
   "source": [
    "tree.draw(\n",
    "    node_labels=tree.get_node_values(\"name\", show_root=True, show_tips=False),\n",
    "    tip_labels=True,\n",
    "    fixed_order=sorted_tip_labels,\n",
    "    edge_type='c',\n",
    "    edge_style={\n",
    "        \"stroke\": toytree.colors[2],\n",
    "        \"stroke-width\": 2.5,\n",
    "        \"stroke-opacity\": 0.5,\n",
    "    },\n",
    "    tip_labels_align=True,\n",
    "    shrink=True,\n",
    "    height=600,\n",
    "    width=600,\n",
    "    # use_edge_lengths=False,\n",
    "    node_sizes=15,\n",
    "    layout=\"d\"\n",
    "    )"
   ]
  },
  {
   "cell_type": "code",
   "execution_count": null,
   "metadata": {},
   "outputs": [],
   "source": []
  }
 ],
 "metadata": {
  "kernelspec": {
   "display_name": "german",
   "language": "python",
   "name": "python3"
  },
  "language_info": {
   "codemirror_mode": {
    "name": "ipython",
    "version": 3
   },
   "file_extension": ".py",
   "mimetype": "text/x-python",
   "name": "python",
   "nbconvert_exporter": "python",
   "pygments_lexer": "ipython3",
   "version": "3.11.4"
  },
  "orig_nbformat": 4
 },
 "nbformat": 4,
 "nbformat_minor": 2
}
