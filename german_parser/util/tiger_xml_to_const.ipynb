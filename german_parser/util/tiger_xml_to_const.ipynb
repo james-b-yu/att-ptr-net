{
 "cells": [
  {
   "cell_type": "code",
   "execution_count": 5,
   "metadata": {},
   "outputs": [],
   "source": [
    "from const import CONSTS\n",
    "from tiger_xml_to_const import Sentence, Constituent, Terminal\n",
    "import xml.etree.ElementTree as ET"
   ]
  },
  {
   "cell_type": "code",
   "execution_count": 6,
   "metadata": {},
   "outputs": [],
   "source": [
    "document = ET.parse(open(f\"{CONSTS['data_dir']}/tiger/tiger_2.2_utf8.xml\", \"r\", encoding=\"utf-8\"))"
   ]
  },
  {
   "cell_type": "code",
   "execution_count": 7,
   "metadata": {},
   "outputs": [
    {
     "name": "stdout",
     "output_type": "stream",
     "text": [
      "Found head word 1 for constituent 500\n",
      "Found head word 7 for constituent 503\n",
      "Found head word -1 for constituent 504\n"
     ]
    }
   ],
   "source": [
    "sent = Sentence(document.find('.//*[@id=\"s31\"]')) # type:ignore"
   ]
  },
  {
   "cell_type": "code",
   "execution_count": 8,
   "metadata": {},
   "outputs": [
    {
     "ename": "AttributeError",
     "evalue": "'Sentence' object has no attribute 'has_unary'",
     "output_type": "error",
     "traceback": [
      "\u001b[0;31m---------------------------------------------------------------------------\u001b[0m",
      "\u001b[0;31mAttributeError\u001b[0m                            Traceback (most recent call last)",
      "Cell \u001b[0;32mIn[8], line 1\u001b[0m\n\u001b[0;32m----> 1\u001b[0m sent\u001b[39m.\u001b[39;49mhas_unary\n",
      "\u001b[0;31mAttributeError\u001b[0m: 'Sentence' object has no attribute 'has_unary'"
     ]
    }
   ],
   "source": [
    "sent.has_unary"
   ]
  },
  {
   "cell_type": "code",
   "execution_count": 41,
   "metadata": {},
   "outputs": [],
   "source": [
    "all_s = document.findall(\".//s\")"
   ]
  },
  {
   "cell_type": "code",
   "execution_count": 82,
   "metadata": {},
   "outputs": [],
   "source": [
    "%%capture\n",
    "\n",
    "errors = 0\n",
    "sents = []\n",
    "for idx, s in enumerate(all_s):\n",
    "    print(f\"Parsing sentence {idx + 1}; errors {errors}\")\n",
    "    try:\n",
    "        sents.append(Sentence(s))\n",
    "    except Exception:\n",
    "        errors += 1"
   ]
  },
  {
   "cell_type": "code",
   "execution_count": 83,
   "metadata": {},
   "outputs": [
    {
     "data": {
      "text/plain": [
       "298"
      ]
     },
     "execution_count": 83,
     "metadata": {},
     "output_type": "execute_result"
    }
   ],
   "source": [
    "errors"
   ]
  },
  {
   "cell_type": "code",
   "execution_count": 79,
   "metadata": {},
   "outputs": [
    {
     "data": {
      "text/plain": [
       "{1: Constituent(id=1, head=1, yld={1}, sym='$(', edge_label='--', parent=1048577, is_pre_terminal=True, children=[1]),\n",
       " 2: Constituent(id=2, head=2, yld={2}, sym='NE', edge_label='PNC', parent=500, is_pre_terminal=True, children=[2]),\n",
       " 3: Constituent(id=3, head=3, yld={3}, sym='NE', edge_label='PNC', parent=500, is_pre_terminal=True, children=[3]),\n",
       " 4: Constituent(id=4, head=4, yld={4}, sym='VAFIN', edge_label='HD', parent=502, is_pre_terminal=True, children=[4]),\n",
       " 5: Constituent(id=5, head=5, yld={5}, sym='ADV', edge_label='MO', parent=502, is_pre_terminal=True, children=[5]),\n",
       " 6: Constituent(id=6, head=6, yld={6}, sym='ART', edge_label='NK', parent=501, is_pre_terminal=True, children=[6]),\n",
       " 7: Constituent(id=7, head=7, yld={7}, sym='ADJA', edge_label='NK', parent=501, is_pre_terminal=True, children=[7]),\n",
       " 8: Constituent(id=8, head=8, yld={8}, sym='NN', edge_label='NK', parent=501, is_pre_terminal=True, children=[8]),\n",
       " 9: Constituent(id=9, head=9, yld={9}, sym='$(', edge_label='--', parent=1048577, is_pre_terminal=True, children=[9]),\n",
       " 500: Constituent(id=500, head=3, yld={2, 3}, sym='PN', edge_label='SB', parent=502, is_pre_terminal=False, children=[2, 3]),\n",
       " 501: Constituent(id=501, head=8, yld={8, 6, 7}, sym='NP', edge_label='PD', parent=502, is_pre_terminal=False, children=[6, 7, 8]),\n",
       " 502: Constituent(id=502, head=4, yld={2, 3, 4, 5, 6, 7, 8}, sym='S', edge_label='--', parent=1048577, is_pre_terminal=False, children=[500, 4, 5, 501]),\n",
       " 1048577: Constituent(id=1048577, head=None, yld={1, 2, 3, 4, 5, 6, 7, 8, 9}, sym='VROOT', edge_label=None, parent=None, is_pre_terminal=False, children=[1, 502, 9])}"
      ]
     },
     "execution_count": 79,
     "metadata": {},
     "output_type": "execute_result"
    }
   ],
   "source": [
    "sents[0].constituents"
   ]
  },
  {
   "cell_type": "code",
   "execution_count": 80,
   "metadata": {},
   "outputs": [],
   "source": [
    "sents_lengths = [v for v in map(lambda v : len(v.terminals), sents)]"
   ]
  },
  {
   "cell_type": "code",
   "execution_count": 81,
   "metadata": {},
   "outputs": [
    {
     "name": "stdout",
     "output_type": "stream",
     "text": [
      "5221\n",
      "34835\n"
     ]
    }
   ],
   "source": [
    "for i, l in enumerate(sents_lengths):\n",
    "    if l == 130:\n",
    "        print (i)"
   ]
  },
  {
   "cell_type": "code",
   "execution_count": 77,
   "metadata": {},
   "outputs": [
    {
     "data": {
      "text/plain": [
       "<__main__.Sentence at 0x7ff274995690>"
      ]
     },
     "execution_count": 77,
     "metadata": {},
     "output_type": "execute_result"
    }
   ],
   "source": [
    "sents[3]"
   ]
  },
  {
   "cell_type": "code",
   "execution_count": 78,
   "metadata": {},
   "outputs": [],
   "source": [
    "# TODO: check behaviour if multiple candidate edges exist is expected: r means find largest index word (rightmost word)\n",
    "# TODO: check head rules satisfy definition of constituent"
   ]
  }
 ],
 "metadata": {
  "kernelspec": {
   "display_name": "german",
   "language": "python",
   "name": "python3"
  },
  "language_info": {
   "codemirror_mode": {
    "name": "ipython",
    "version": 3
   },
   "file_extension": ".py",
   "mimetype": "text/x-python",
   "name": "python",
   "nbconvert_exporter": "python",
   "pygments_lexer": "ipython3",
   "version": "3.11.4"
  },
  "orig_nbformat": 4
 },
 "nbformat": 4,
 "nbformat_minor": 2
}
