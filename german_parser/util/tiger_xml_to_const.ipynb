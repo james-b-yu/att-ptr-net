{
 "cells": [
  {
   "cell_type": "code",
   "execution_count": 33,
   "metadata": {},
   "outputs": [
    {
     "data": {
      "text/plain": [
       "<module 'tiger_xml_to_const' from '/home/james/programming/ml/german/german_parser/util/tiger_xml_to_const.py'>"
      ]
     },
     "execution_count": 33,
     "metadata": {},
     "output_type": "execute_result"
    }
   ],
   "source": [
    "from const import CONSTS\n",
    "import tiger_xml_to_const\n",
    "from tiger_xml_to_const import ConstituentTree, Constituent, Terminal\n",
    "import xml.etree.ElementTree as ET\n",
    "import pickle\n",
    "\n",
    "import importlib\n",
    "importlib.reload(tiger_xml_to_const)"
   ]
  },
  {
   "cell_type": "code",
   "execution_count": 2,
   "metadata": {},
   "outputs": [],
   "source": [
    "document = ET.parse(open(f\"{CONSTS['data_dir']}/tiger/tiger_2.2_utf8.xml\", \"r\", encoding=\"utf-8\"))"
   ]
  },
  {
   "cell_type": "code",
   "execution_count": 3,
   "metadata": {},
   "outputs": [],
   "source": [
    "all_s = document.findall(\".//s\")"
   ]
  },
  {
   "cell_type": "code",
   "execution_count": 34,
   "metadata": {},
   "outputs": [],
   "source": [
    "%%capture\n",
    "\n",
    "errors = 0\n",
    "has_unary = 0\n",
    "has_empty_verb_constituents = 0\n",
    "\n",
    "cannot_use = 0\n",
    "\n",
    "error_messages = []\n",
    "\n",
    "sents = []\n",
    "for idx, s in enumerate(all_s):\n",
    "    print(f\"Parsing sentence {idx + 1}; errors {errors}\")\n",
    "    s_cannot_use = False\n",
    "\n",
    "    try:\n",
    "        sent = ConstituentTree(s)\n",
    "        has_unary += int(sent.has_unary)\n",
    "        has_empty_verb_constituents += int(sent.has_empty_verb_constituents)\n",
    "\n",
    "        s_cannot_use = sent.has_unary or sent.has_empty_verb_constituents\n",
    "\n",
    "        sent.check_constituent_rules()\n",
    "    except Exception as e:\n",
    "        errors += 1\n",
    "        error_messages.append(f\"sentence id {idx + 1} has error {e}\")\n",
    "\n",
    "        s_cannot_use = True\n",
    "        # break\n",
    "\n",
    "    if not s_cannot_use:\n",
    "        sents.append(sent)\n",
    "    cannot_use += int(s_cannot_use)"
   ]
  },
  {
   "cell_type": "code",
   "execution_count": 40,
   "metadata": {},
   "outputs": [],
   "source": [
    "s_test = sents[23300]"
   ]
  },
  {
   "cell_type": "code",
   "execution_count": 41,
   "metadata": {},
   "outputs": [
    {
     "data": {
      "text/plain": [
       "{1: Constituent(id=1, head=1, yld={1}, sym='PPER', edge_label='SB', parent=504, is_pre_terminal=True, children=[1]),\n",
       " 2: Constituent(id=2, head=2, yld={2}, sym='VAFIN', edge_label='HD', parent=504, is_pre_terminal=True, children=[2]),\n",
       " 3: Constituent(id=3, head=3, yld={3}, sym='PDAT', edge_label='NK', parent=503, is_pre_terminal=True, children=[3]),\n",
       " 4: Constituent(id=4, head=4, yld={4}, sym='NN', edge_label='NK', parent=503, is_pre_terminal=True, children=[4]),\n",
       " 5: Constituent(id=5, head=5, yld={5}, sym='NE', edge_label='NK', parent=503, is_pre_terminal=True, children=[5]),\n",
       " 6: Constituent(id=6, head=6, yld={6}, sym='$,', edge_label='--', parent=1048577, is_pre_terminal=True, children=[6]),\n",
       " 7: Constituent(id=7, head=7, yld={7}, sym='APPR', edge_label='AC', parent=500, is_pre_terminal=True, children=[7]),\n",
       " 8: Constituent(id=8, head=8, yld={8}, sym='PRELS', edge_label='NK', parent=500, is_pre_terminal=True, children=[8]),\n",
       " 9: Constituent(id=9, head=9, yld={9}, sym='NE', edge_label='SB', parent=502, is_pre_terminal=True, children=[9]),\n",
       " 10: Constituent(id=10, head=10, yld={10}, sym='CARD', edge_label='NK', parent=501, is_pre_terminal=True, children=[10]),\n",
       " 11: Constituent(id=11, head=11, yld={11}, sym='ADJA', edge_label='NK', parent=501, is_pre_terminal=True, children=[11]),\n",
       " 12: Constituent(id=12, head=12, yld={12}, sym='NN', edge_label='NK', parent=501, is_pre_terminal=True, children=[12]),\n",
       " 13: Constituent(id=13, head=13, yld={13}, sym='VAFIN', edge_label='HD', parent=502, is_pre_terminal=True, children=[13]),\n",
       " 14: Constituent(id=14, head=14, yld={14}, sym='$.', edge_label='--', parent=1048577, is_pre_terminal=True, children=[14]),\n",
       " 500: Constituent(id=500, head=7, yld={8, 7}, sym='PP', edge_label='MO', parent=502, is_pre_terminal=False, children=[7, 8]),\n",
       " 501: Constituent(id=501, head=12, yld={10, 11, 12}, sym='NP', edge_label='OA', parent=502, is_pre_terminal=False, children=[10, 11, 12]),\n",
       " 502: Constituent(id=502, head=13, yld={7, 8, 9, 10, 11, 12, 13}, sym='S', edge_label='RC', parent=503, is_pre_terminal=False, children=[500, 9, 501, 13]),\n",
       " 503: Constituent(id=503, head=4, yld={3, 4, 5, 7, 8, 9, 10, 11, 12, 13}, sym='NP', edge_label='PD', parent=504, is_pre_terminal=False, children=[3, 4, 5, 502]),\n",
       " 504: Constituent(id=504, head=2, yld={1, 2, 3, 4, 5, 7, 8, 9, 10, 11, 12, 13}, sym='S', edge_label='--', parent=1048577, is_pre_terminal=False, children=[1, 2, 503]),\n",
       " 1048577: Constituent(id=1048577, head=2, yld={1, 2, 3, 4, 5, 6, 7, 8, 9, 10, 11, 12, 13, 14}, sym='VROOT', edge_label=None, parent=None, is_pre_terminal=False, children=[504, 6, 14])}"
      ]
     },
     "execution_count": 41,
     "metadata": {},
     "output_type": "execute_result"
    }
   ],
   "source": [
    "s_test.constituents"
   ]
  },
  {
   "cell_type": "code",
   "execution_count": 42,
   "metadata": {},
   "outputs": [
    {
     "ename": "AttributeError",
     "evalue": "'ConstituentTree' object has no attribute 'get_post_order_traversal'",
     "output_type": "error",
     "traceback": [
      "\u001b[0;31m---------------------------------------------------------------------------\u001b[0m",
      "\u001b[0;31mAttributeError\u001b[0m                            Traceback (most recent call last)",
      "Cell \u001b[0;32mIn[42], line 1\u001b[0m\n\u001b[0;32m----> 1\u001b[0m s_test\u001b[39m.\u001b[39;49mget_post_order_traversal()\n",
      "\u001b[0;31mAttributeError\u001b[0m: 'ConstituentTree' object has no attribute 'get_post_order_traversal'"
     ]
    }
   ],
   "source": [
    "s_test.get_post_order_traversal()"
   ]
  }
 ],
 "metadata": {
  "kernelspec": {
   "display_name": "german",
   "language": "python",
   "name": "python3"
  },
  "language_info": {
   "codemirror_mode": {
    "name": "ipython",
    "version": 3
   },
   "file_extension": ".py",
   "mimetype": "text/x-python",
   "name": "python",
   "nbconvert_exporter": "python",
   "pygments_lexer": "ipython3",
   "version": "3.11.4"
  },
  "orig_nbformat": 4
 },
 "nbformat": 4,
 "nbformat_minor": 2
}
