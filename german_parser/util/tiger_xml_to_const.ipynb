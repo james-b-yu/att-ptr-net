{
 "cells": [
  {
   "cell_type": "code",
   "execution_count": 67,
   "metadata": {},
   "outputs": [],
   "source": [
    "from const import CONSTS\n",
    "\n",
    "import tiger_xml_to_const\n",
    "import converter\n",
    "\n",
    "from tiger_xml_to_const import ConstituentTree, Constituent, Terminal\n",
    "import xml.etree.ElementTree as ET\n",
    "import pickle\n",
    "\n",
    "import importlib\n",
    "importlib.reload(tiger_xml_to_const)\n",
    "importlib.reload(converter)\n",
    "\n",
    "from converter import DependencyTree, Dependency, d_to_c"
   ]
  },
  {
   "cell_type": "code",
   "execution_count": 56,
   "metadata": {},
   "outputs": [],
   "source": [
    "document = ET.parse(open(f\"{CONSTS['data_dir']}/tiger/tiger_2.2_utf8.xml\", \"r\", encoding=\"utf-8\"))"
   ]
  },
  {
   "cell_type": "code",
   "execution_count": 57,
   "metadata": {},
   "outputs": [],
   "source": [
    "all_s = document.findall(\".//s\")"
   ]
  },
  {
   "cell_type": "code",
   "execution_count": 58,
   "metadata": {},
   "outputs": [],
   "source": [
    "# errors = 0\n",
    "# has_unary = 0\n",
    "# has_empty_verb_constituents = 0\n",
    "\n",
    "# cannot_use = 0\n",
    "\n",
    "# error_messages = []\n",
    "\n",
    "# sents = []\n",
    "# for idx, s in enumerate(all_s):\n",
    "#     print(f\"Parsing sentence {idx + 1}; errors {errors}\")\n",
    "#     s_cannot_use = False\n",
    "\n",
    "#     try:\n",
    "#         sent = ConstituentTree(s)\n",
    "#         has_unary += int(sent.has_unary)\n",
    "#         has_empty_verb_constituents += int(sent.has_empty_verb_constituents)\n",
    "\n",
    "#         s_cannot_use = sent.has_unary or sent.has_empty_verb_constituents\n",
    "\n",
    "#         sent.check_constituent_rules()\n",
    "#     except Exception as e:\n",
    "#         errors += 1\n",
    "#         error_messages.append(f\"sentence id {idx + 1} has error {e}\")\n",
    "\n",
    "#         s_cannot_use = True\n",
    "#         # break\n",
    "\n",
    "#     if not s_cannot_use:\n",
    "#         sents.append(sent)\n",
    "#     cannot_use += int(s_cannot_use)"
   ]
  },
  {
   "cell_type": "code",
   "execution_count": 59,
   "metadata": {},
   "outputs": [
    {
     "name": "stdout",
     "output_type": "stream",
     "text": [
      "Warning: 2 candidate edges exist\n",
      "Warning: 3 candidate edges exist\n",
      "Warning: 3 candidate edges exist\n",
      "Warning: 2 candidate edges exist\n",
      "Warning: 2 candidate edges exist\n"
     ]
    }
   ],
   "source": [
    "s_test = ConstituentTree(all_s[23300])"
   ]
  },
  {
   "cell_type": "code",
   "execution_count": 60,
   "metadata": {},
   "outputs": [
    {
     "data": {
      "text/plain": [
       "{1: Constituent(id=1, head=1, yld={1}, sym='PPER', edge_label='SB', parent=505, is_pre_terminal=True, children=[1]),\n",
       " 2: Constituent(id=2, head=2, yld={2}, sym='VVFIN', edge_label='HD', parent=505, is_pre_terminal=True, children=[2]),\n",
       " 3: Constituent(id=3, head=3, yld={3}, sym='$,', edge_label='--', parent=1048577, is_pre_terminal=True, children=[3]),\n",
       " 4: Constituent(id=4, head=4, yld={4}, sym='NN', edge_label='NK', parent=503, is_pre_terminal=True, children=[4]),\n",
       " 5: Constituent(id=5, head=5, yld={5}, sym='$,', edge_label='--', parent=1048577, is_pre_terminal=True, children=[5]),\n",
       " 6: Constituent(id=6, head=6, yld={6}, sym='KOKOM', edge_label='CM', parent=502, is_pre_terminal=True, children=[6]),\n",
       " 7: Constituent(id=7, head=7, yld={7}, sym='ART', edge_label='NK', parent=502, is_pre_terminal=True, children=[7]),\n",
       " 8: Constituent(id=8, head=8, yld={8}, sym='NN', edge_label='NK', parent=502, is_pre_terminal=True, children=[8]),\n",
       " 9: Constituent(id=9, head=9, yld={9}, sym='ART', edge_label='NK', parent=501, is_pre_terminal=True, children=[9]),\n",
       " 10: Constituent(id=10, head=10, yld={10}, sym='NN', edge_label='NK', parent=501, is_pre_terminal=True, children=[10]),\n",
       " 11: Constituent(id=11, head=11, yld={11}, sym='NE', edge_label='PNC', parent=500, is_pre_terminal=True, children=[11]),\n",
       " 12: Constituent(id=12, head=12, yld={12}, sym='NE', edge_label='PNC', parent=500, is_pre_terminal=True, children=[12]),\n",
       " 13: Constituent(id=13, head=13, yld={13}, sym='$,', edge_label='--', parent=1048577, is_pre_terminal=True, children=[13]),\n",
       " 14: Constituent(id=14, head=14, yld={14}, sym='VVIZU', edge_label='HD', parent=504, is_pre_terminal=True, children=[14]),\n",
       " 15: Constituent(id=15, head=15, yld={15}, sym='$.', edge_label='--', parent=1048577, is_pre_terminal=True, children=[15]),\n",
       " 500: Constituent(id=500, head=12, yld={11, 12}, sym='PN', edge_label='NK', parent=501, is_pre_terminal=False, children=[11, 12]),\n",
       " 501: Constituent(id=501, head=10, yld={9, 10, 11, 12}, sym='NP', edge_label='AG', parent=502, is_pre_terminal=False, children=[9, 10, 500]),\n",
       " 502: Constituent(id=502, head=8, yld={6, 7, 8, 9, 10, 11, 12}, sym='NP', edge_label='CC', parent=503, is_pre_terminal=False, children=[6, 7, 8, 501]),\n",
       " 503: Constituent(id=503, head=4, yld={4, 6, 7, 8, 9, 10, 11, 12}, sym='NP', edge_label='OA', parent=504, is_pre_terminal=False, children=[4, 502]),\n",
       " 504: Constituent(id=504, head=14, yld={4, 6, 7, 8, 9, 10, 11, 12, 14}, sym='VP', edge_label='OC', parent=505, is_pre_terminal=False, children=[503, 14]),\n",
       " 505: Constituent(id=505, head=2, yld={1, 2, 4, 6, 7, 8, 9, 10, 11, 12, 14}, sym='S', edge_label='--', parent=1048577, is_pre_terminal=False, children=[1, 2, 504]),\n",
       " 1048577: Constituent(id=1048577, head=2, yld={1, 2, 3, 4, 5, 6, 7, 8, 9, 10, 11, 12, 13, 14, 15}, sym='VROOT', edge_label=None, parent=None, is_pre_terminal=False, children=[505, 3, 5, 13, 15])}"
      ]
     },
     "execution_count": 60,
     "metadata": {},
     "output_type": "execute_result"
    }
   ],
   "source": [
    "s_test.constituents"
   ]
  },
  {
   "cell_type": "code",
   "execution_count": 61,
   "metadata": {},
   "outputs": [],
   "source": [
    "d_tree = DependencyTree(s_test)"
   ]
  },
  {
   "cell_type": "code",
   "execution_count": 62,
   "metadata": {},
   "outputs": [
    {
     "data": {
      "text/plain": [
       "[1, 3, 5, 13, 9, 11, 12, 10, 6, 7, 8, 4, 14, 15, 2]"
      ]
     },
     "execution_count": 62,
     "metadata": {},
     "output_type": "execute_result"
    }
   ],
   "source": [
    "[v for v in d_tree.get_post_order_traversal()]"
   ]
  },
  {
   "cell_type": "code",
   "execution_count": 63,
   "metadata": {},
   "outputs": [
    {
     "data": {
      "text/plain": [
       "{12: {2: [Dependency(head=12, modifier=11, sym='PN')]},\n",
       " 10: {2: [Dependency(head=10, modifier=9, sym='NP'),\n",
       "   Dependency(head=10, modifier=12, sym='NP')]},\n",
       " 8: {2: [Dependency(head=8, modifier=6, sym='NP'),\n",
       "   Dependency(head=8, modifier=7, sym='NP'),\n",
       "   Dependency(head=8, modifier=10, sym='NP')]},\n",
       " 4: {2: [Dependency(head=4, modifier=8, sym='NP')]},\n",
       " 14: {2: [Dependency(head=14, modifier=4, sym='VP')]},\n",
       " 2: {2: [Dependency(head=2, modifier=1, sym='S'),\n",
       "   Dependency(head=2, modifier=14, sym='S')],\n",
       "  3: [Dependency(head=2, modifier=3, sym='VROOT'),\n",
       "   Dependency(head=2, modifier=5, sym='VROOT'),\n",
       "   Dependency(head=2, modifier=13, sym='VROOT'),\n",
       "   Dependency(head=2, modifier=15, sym='VROOT')]}}"
      ]
     },
     "execution_count": 63,
     "metadata": {},
     "output_type": "execute_result"
    }
   ],
   "source": [
    "d_tree.modifiers"
   ]
  },
  {
   "cell_type": "code",
   "execution_count": 68,
   "metadata": {},
   "outputs": [
    {
     "data": {
      "text/plain": [
       "[Constituent(id=8, head=12, yld={11, 12}, sym='PN', edge_label=None, parent=None, is_pre_terminal=False, children=[7, 6]),\n",
       " Constituent(id=10, head=10, yld={9, 10, 11, 12}, sym='NP', edge_label=None, parent=None, is_pre_terminal=False, children=[9, 5, 8]),\n",
       " Constituent(id=14, head=8, yld={6, 7, 8, 9, 10, 11, 12}, sym='NP', edge_label=None, parent=None, is_pre_terminal=False, children=[13, 11, 12, 10]),\n",
       " Constituent(id=16, head=4, yld={4, 6, 7, 8, 9, 10, 11, 12}, sym='NP', edge_label=None, parent=None, is_pre_terminal=False, children=[15, 14]),\n",
       " Constituent(id=18, head=14, yld={4, 6, 7, 8, 9, 10, 11, 12, 14}, sym='VP', edge_label=None, parent=None, is_pre_terminal=False, children=[17, 16]),\n",
       " Constituent(id=21, head=2, yld={1, 2, 4, 6, 7, 8, 9, 10, 11, 12, 14}, sym='S', edge_label=None, parent=None, is_pre_terminal=False, children=[20, 1, 18]),\n",
       " Constituent(id=22, head=2, yld={1, 2, 3, 4, 5, 6, 7, 8, 9, 10, 11, 12, 13, 14, 15}, sym='VROOT', edge_label=None, parent=None, is_pre_terminal=False, children=[21, 2, 3, 4, 19])]"
      ]
     },
     "execution_count": 68,
     "metadata": {},
     "output_type": "execute_result"
    }
   ],
   "source": [
    "d_to_c(d_tree)"
   ]
  },
  {
   "cell_type": "code",
   "execution_count": 69,
   "metadata": {},
   "outputs": [
    {
     "data": {
      "text/plain": [
       "{1: Constituent(id=1, head=1, yld={1}, sym='PPER', edge_label='SB', parent=505, is_pre_terminal=True, children=[1]),\n",
       " 2: Constituent(id=2, head=2, yld={2}, sym='VVFIN', edge_label='HD', parent=505, is_pre_terminal=True, children=[2]),\n",
       " 3: Constituent(id=3, head=3, yld={3}, sym='$,', edge_label='--', parent=1048577, is_pre_terminal=True, children=[3]),\n",
       " 4: Constituent(id=4, head=4, yld={4}, sym='NN', edge_label='NK', parent=503, is_pre_terminal=True, children=[4]),\n",
       " 5: Constituent(id=5, head=5, yld={5}, sym='$,', edge_label='--', parent=1048577, is_pre_terminal=True, children=[5]),\n",
       " 6: Constituent(id=6, head=6, yld={6}, sym='KOKOM', edge_label='CM', parent=502, is_pre_terminal=True, children=[6]),\n",
       " 7: Constituent(id=7, head=7, yld={7}, sym='ART', edge_label='NK', parent=502, is_pre_terminal=True, children=[7]),\n",
       " 8: Constituent(id=8, head=8, yld={8}, sym='NN', edge_label='NK', parent=502, is_pre_terminal=True, children=[8]),\n",
       " 9: Constituent(id=9, head=9, yld={9}, sym='ART', edge_label='NK', parent=501, is_pre_terminal=True, children=[9]),\n",
       " 10: Constituent(id=10, head=10, yld={10}, sym='NN', edge_label='NK', parent=501, is_pre_terminal=True, children=[10]),\n",
       " 11: Constituent(id=11, head=11, yld={11}, sym='NE', edge_label='PNC', parent=500, is_pre_terminal=True, children=[11]),\n",
       " 12: Constituent(id=12, head=12, yld={12}, sym='NE', edge_label='PNC', parent=500, is_pre_terminal=True, children=[12]),\n",
       " 13: Constituent(id=13, head=13, yld={13}, sym='$,', edge_label='--', parent=1048577, is_pre_terminal=True, children=[13]),\n",
       " 14: Constituent(id=14, head=14, yld={14}, sym='VVIZU', edge_label='HD', parent=504, is_pre_terminal=True, children=[14]),\n",
       " 15: Constituent(id=15, head=15, yld={15}, sym='$.', edge_label='--', parent=1048577, is_pre_terminal=True, children=[15]),\n",
       " 500: Constituent(id=500, head=12, yld={11, 12}, sym='PN', edge_label='NK', parent=501, is_pre_terminal=False, children=[11, 12]),\n",
       " 501: Constituent(id=501, head=10, yld={9, 10, 11, 12}, sym='NP', edge_label='AG', parent=502, is_pre_terminal=False, children=[9, 10, 500]),\n",
       " 502: Constituent(id=502, head=8, yld={6, 7, 8, 9, 10, 11, 12}, sym='NP', edge_label='CC', parent=503, is_pre_terminal=False, children=[6, 7, 8, 501]),\n",
       " 503: Constituent(id=503, head=4, yld={4, 6, 7, 8, 9, 10, 11, 12}, sym='NP', edge_label='OA', parent=504, is_pre_terminal=False, children=[4, 502]),\n",
       " 504: Constituent(id=504, head=14, yld={4, 6, 7, 8, 9, 10, 11, 12, 14}, sym='VP', edge_label='OC', parent=505, is_pre_terminal=False, children=[503, 14]),\n",
       " 505: Constituent(id=505, head=2, yld={1, 2, 4, 6, 7, 8, 9, 10, 11, 12, 14}, sym='S', edge_label='--', parent=1048577, is_pre_terminal=False, children=[1, 2, 504]),\n",
       " 1048577: Constituent(id=1048577, head=2, yld={1, 2, 3, 4, 5, 6, 7, 8, 9, 10, 11, 12, 13, 14, 15}, sym='VROOT', edge_label=None, parent=None, is_pre_terminal=False, children=[505, 3, 5, 13, 15])}"
      ]
     },
     "execution_count": 69,
     "metadata": {},
     "output_type": "execute_result"
    }
   ],
   "source": [
    "s_test.constituents"
   ]
  },
  {
   "cell_type": "code",
   "execution_count": null,
   "metadata": {},
   "outputs": [],
   "source": []
  }
 ],
 "metadata": {
  "kernelspec": {
   "display_name": "german",
   "language": "python",
   "name": "python3"
  },
  "language_info": {
   "codemirror_mode": {
    "name": "ipython",
    "version": 3
   },
   "file_extension": ".py",
   "mimetype": "text/x-python",
   "name": "python",
   "nbconvert_exporter": "python",
   "pygments_lexer": "ipython3",
   "version": "3.11.4"
  },
  "orig_nbformat": 4
 },
 "nbformat": 4,
 "nbformat_minor": 2
}
