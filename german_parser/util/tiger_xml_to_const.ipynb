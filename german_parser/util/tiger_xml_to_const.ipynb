{
 "cells": [
  {
   "cell_type": "code",
   "execution_count": 19,
   "metadata": {},
   "outputs": [],
   "source": [
    "from const import CONSTS\n",
    "\n",
    "import tiger_xml_to_const\n",
    "import converter\n",
    "\n",
    "from tiger_xml_to_const import ConstituentTree, Constituent, Terminal\n",
    "import xml.etree.ElementTree as ET\n",
    "import pickle\n",
    "\n",
    "import importlib\n",
    "importlib.reload(tiger_xml_to_const)\n",
    "importlib.reload(converter)\n",
    "\n",
    "from converter import DependencyTree, Dependency, d_to_c"
   ]
  },
  {
   "cell_type": "code",
   "execution_count": 2,
   "metadata": {},
   "outputs": [],
   "source": [
    "document = ET.parse(open(f\"{CONSTS['data_dir']}/tiger/tiger_2.2_utf8.xml\", \"r\", encoding=\"utf-8\"))"
   ]
  },
  {
   "cell_type": "code",
   "execution_count": 3,
   "metadata": {},
   "outputs": [],
   "source": [
    "all_s = document.findall(\".//s\")"
   ]
  },
  {
   "cell_type": "code",
   "execution_count": 4,
   "metadata": {},
   "outputs": [],
   "source": [
    "# errors = 0\n",
    "# has_unary = 0\n",
    "# has_empty_verb_constituents = 0\n",
    "\n",
    "# cannot_use = 0\n",
    "\n",
    "# error_messages = []\n",
    "\n",
    "# sents = []\n",
    "# for idx, s in enumerate(all_s):\n",
    "#     print(f\"Parsing sentence {idx + 1}; errors {errors}\")\n",
    "#     s_cannot_use = False\n",
    "\n",
    "#     try:\n",
    "#         sent = ConstituentTree(s)\n",
    "#         has_unary += int(sent.has_unary)\n",
    "#         has_empty_verb_constituents += int(sent.has_empty_verb_constituents)\n",
    "\n",
    "#         s_cannot_use = sent.has_unary or sent.has_empty_verb_constituents\n",
    "\n",
    "#         sent.check_constituent_rules()\n",
    "#     except Exception as e:\n",
    "#         errors += 1\n",
    "#         error_messages.append(f\"sentence id {idx + 1} has error {e}\")\n",
    "\n",
    "#         s_cannot_use = True\n",
    "#         # break\n",
    "\n",
    "#     if not s_cannot_use:\n",
    "#         sents.append(sent)\n",
    "#     cannot_use += int(s_cannot_use)"
   ]
  },
  {
   "cell_type": "code",
   "execution_count": 5,
   "metadata": {},
   "outputs": [
    {
     "name": "stdout",
     "output_type": "stream",
     "text": [
      "Warning: 2 candidate edges exist\n",
      "Warning: 3 candidate edges exist\n",
      "Warning: 3 candidate edges exist\n",
      "Warning: 2 candidate edges exist\n",
      "Warning: 2 candidate edges exist\n"
     ]
    }
   ],
   "source": [
    "s_test = ConstituentTree.from_tiger_xml(all_s[23300])"
   ]
  },
  {
   "cell_type": "code",
   "execution_count": 21,
   "metadata": {},
   "outputs": [],
   "source": [
    "d_tree = DependencyTree.from_c_tree(s_test)"
   ]
  },
  {
   "cell_type": "code",
   "execution_count": 22,
   "metadata": {},
   "outputs": [
    {
     "data": {
      "text/plain": [
       "[1, 3, 5, 13, 9, 11, 12, 10, 6, 7, 8, 4, 14, 15, 2]"
      ]
     },
     "execution_count": 22,
     "metadata": {},
     "output_type": "execute_result"
    }
   ],
   "source": [
    "[v for v in d_tree.get_post_order_traversal()]"
   ]
  },
  {
   "cell_type": "code",
   "execution_count": 24,
   "metadata": {},
   "outputs": [
    {
     "data": {
      "text/plain": [
       "ConstituentTree(terminals={1: Terminal(word='Sie', lemma='sie', pos='PPER', morph='3.Nom.Pl.*', case='Nom', number='Pl', gender='*', person='3', degree='--', tense='--', mood='--', idx=1), 2: Terminal(word='forderten', lemma='fordern', pos='VVFIN', morph='3.Pl.Past.Ind', case='--', number='Pl', gender='--', person='3', degree='--', tense='Past', mood='Ind', idx=2), 3: Terminal(word=',', lemma='--', pos='$,', morph='--', case='--', number='--', gender='--', person='--', degree='--', tense='--', mood='--', idx=3), 4: Terminal(word='BeschÃ¤ftigungsinitiativen', lemma='BeschÃ¤ftigungsinitiative', pos='NN', morph='Acc.Pl.Fem', case='Acc', number='Pl', gender='Fem', person='--', degree='--', tense='--', mood='--', idx=4), 5: Terminal(word=',', lemma='--', pos='$,', morph='--', case='--', number='--', gender='--', person='--', degree='--', tense='--', mood='--', idx=5), 6: Terminal(word='wie', lemma='wie', pos='KOKOM', morph='--', case='--', number='--', gender='--', person='--', degree='--', tense='--', mood='--', idx=6), 7: Terminal(word='die', lemma='der', pos='ART', morph='Acc.Pl.Masc', case='Acc', number='Pl', gender='Masc', person='--', degree='--', tense='--', mood='--', idx=7), 8: Terminal(word='VorschlÃ¤ge', lemma='Vorschlag', pos='NN', morph='Acc.Pl.Masc', case='Acc', number='Pl', gender='Masc', person='--', degree='--', tense='--', mood='--', idx=8), 9: Terminal(word='des', lemma='der', pos='ART', morph='Gen.Sg.Masc', case='Gen', number='Sg', gender='Masc', person='--', degree='--', tense='--', mood='--', idx=9), 10: Terminal(word='IG-Metall-Vorsitzenden', lemma='IG-Metall-Vorsitzender', pos='NN', morph='Gen.Sg.Masc', case='Gen', number='Sg', gender='Masc', person='--', degree='--', tense='--', mood='--', idx=10), 11: Terminal(word='Klaus', lemma='Klaus', pos='NE', morph='Nom.Sg.Masc', case='Nom', number='Sg', gender='Masc', person='--', degree='--', tense='--', mood='--', idx=11), 12: Terminal(word='Zwickel', lemma='Zwickel', pos='NE', morph='Nom.Sg.Masc', case='Nom', number='Sg', gender='Masc', person='--', degree='--', tense='--', mood='--', idx=12), 13: Terminal(word=',', lemma='--', pos='$,', morph='--', case='--', number='--', gender='--', person='--', degree='--', tense='--', mood='--', idx=13), 14: Terminal(word='aufzugreifen', lemma='aufgreifen', pos='VVIZU', morph='Infzu', case='--', number='--', gender='--', person='--', degree='--', tense='--', mood='--', idx=14), 15: Terminal(word='.', lemma='--', pos='$.', morph='--', case='--', number='--', gender='--', person='--', degree='--', tense='--', mood='--', idx=15)}, constituents={1: Constituent(id=1, head=1, yld={1}, sym='PPER', edge_label=None, parent=1000006, is_pre_terminal=True, children=[1]), 3: Constituent(id=3, head=3, yld={3}, sym='$,', edge_label=None, parent=1000007, is_pre_terminal=True, children=[3]), 5: Constituent(id=5, head=5, yld={5}, sym='$,', edge_label=None, parent=1000007, is_pre_terminal=True, children=[5]), 13: Constituent(id=13, head=13, yld={13}, sym='$,', edge_label=None, parent=1000007, is_pre_terminal=True, children=[13]), 9: Constituent(id=9, head=9, yld={9}, sym='ART', edge_label=None, parent=1000002, is_pre_terminal=True, children=[9]), 11: Constituent(id=11, head=11, yld={11}, sym='NE', edge_label=None, parent=1000001, is_pre_terminal=True, children=[11]), 12: Constituent(id=12, head=12, yld={12}, sym='NE', edge_label=None, parent=1000001, is_pre_terminal=True, children=[12]), 1000001: Constituent(id=1000001, head=12, yld={11, 12}, sym='PN', edge_label=None, parent=1000002, is_pre_terminal=False, children=[12, 11]), 10: Constituent(id=10, head=10, yld={10}, sym='NN', edge_label=None, parent=1000002, is_pre_terminal=True, children=[10]), 1000002: Constituent(id=1000002, head=10, yld={9, 10, 11, 12}, sym='NP', edge_label=None, parent=1000003, is_pre_terminal=False, children=[10, 9, 1000001]), 6: Constituent(id=6, head=6, yld={6}, sym='KOKOM', edge_label=None, parent=1000003, is_pre_terminal=True, children=[6]), 7: Constituent(id=7, head=7, yld={7}, sym='ART', edge_label=None, parent=1000003, is_pre_terminal=True, children=[7]), 8: Constituent(id=8, head=8, yld={8}, sym='NN', edge_label=None, parent=1000003, is_pre_terminal=True, children=[8]), 1000003: Constituent(id=1000003, head=8, yld={6, 7, 8, 9, 10, 11, 12}, sym='NP', edge_label=None, parent=1000004, is_pre_terminal=False, children=[8, 6, 7, 1000002]), 4: Constituent(id=4, head=4, yld={4}, sym='NN', edge_label=None, parent=1000004, is_pre_terminal=True, children=[4]), 1000004: Constituent(id=1000004, head=4, yld={4, 6, 7, 8, 9, 10, 11, 12}, sym='NP', edge_label=None, parent=1000005, is_pre_terminal=False, children=[4, 1000003]), 14: Constituent(id=14, head=14, yld={14}, sym='VVIZU', edge_label=None, parent=1000005, is_pre_terminal=True, children=[14]), 1000005: Constituent(id=1000005, head=14, yld={4, 6, 7, 8, 9, 10, 11, 12, 14}, sym='VP', edge_label=None, parent=1000006, is_pre_terminal=False, children=[14, 1000004]), 15: Constituent(id=15, head=15, yld={15}, sym='$.', edge_label=None, parent=1000007, is_pre_terminal=True, children=[15]), 2: Constituent(id=2, head=2, yld={2}, sym='VVFIN', edge_label=None, parent=1000006, is_pre_terminal=True, children=[2]), 1000006: Constituent(id=1000006, head=2, yld={1, 2, 4, 6, 7, 8, 9, 10, 11, 12, 14}, sym='S', edge_label=None, parent=1000007, is_pre_terminal=False, children=[2, 1, 1000005]), 1000007: Constituent(id=1000007, head=2, yld={1, 2, 3, 4, 5, 6, 7, 8, 9, 10, 11, 12, 13, 14, 15}, sym='VROOT', edge_label=None, parent=None, is_pre_terminal=False, children=[1000006, 3, 5, 13, 15])}, root=1000007, is_discontinuous=True, has_empty_verb_constituents=False, has_unary=False)"
      ]
     },
     "execution_count": 24,
     "metadata": {},
     "output_type": "execute_result"
    }
   ],
   "source": [
    "d_to_c(d_tree)"
   ]
  },
  {
   "cell_type": "code",
   "execution_count": null,
   "metadata": {},
   "outputs": [],
   "source": []
  }
 ],
 "metadata": {
  "kernelspec": {
   "display_name": "german",
   "language": "python",
   "name": "python3"
  },
  "language_info": {
   "codemirror_mode": {
    "name": "ipython",
    "version": 3
   },
   "file_extension": ".py",
   "mimetype": "text/x-python",
   "name": "python",
   "nbconvert_exporter": "python",
   "pygments_lexer": "ipython3",
   "version": "3.11.4"
  },
  "orig_nbformat": 4
 },
 "nbformat": 4,
 "nbformat_minor": 2
}
