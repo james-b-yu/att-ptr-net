{
 "cells": [
  {
   "cell_type": "code",
   "execution_count": 1,
   "metadata": {},
   "outputs": [],
   "source": [
    "import torch as t\n",
    "from torch.utils.data import DataLoader, Dataset\n",
    "import torch.nn as nn\n",
    "from timeit import timeit"
   ]
  },
  {
   "cell_type": "code",
   "execution_count": 16,
   "metadata": {},
   "outputs": [],
   "source": [
    "DEVICE = t.device(\"cuda\")\n",
    "FLOAT_TYPE = t.float32\n",
    "INT_TYPE = t.int32"
   ]
  },
  {
   "cell_type": "code",
   "execution_count": 17,
   "metadata": {},
   "outputs": [],
   "source": [
    "class ConvexHullDataset(Dataset):\n",
    "    def __init__(self, txt_file: str, n_points: int, device: t.device, float_dtype: t.dtype, int_dtype: t.dtype, cap: int | None = None):\n",
    "        self.n_points = n_points\n",
    "\n",
    "        with open(txt_file, 'r') as f:\n",
    "            raw_data = f.readlines()\n",
    "            self.data_x = t.zeros(len(raw_data), n_points, 2, dtype=float_dtype, device=\"cpu\")\n",
    "            self.data_y = t.zeros(len(raw_data), n_points + 1, dtype=int_dtype, device=\"cpu\") # loops back around\n",
    "\n",
    "            for i, line in enumerate(raw_data):\n",
    "                if cap is not None and i >= cap:\n",
    "                    self.data_x = self.data_x[:i]\n",
    "                    self.data_y = self.data_y[:i]\n",
    "                    break\n",
    "\n",
    "                if (i + 1) % 10000 == 0:\n",
    "                    print(f\"Loaded data: {i + 1}/{len(raw_data)}; cap: {cap}\")\n",
    "\n",
    "                index = 0\n",
    "                x_mode = True\n",
    "                for token in line.split(\" \"):\n",
    "                    if token == \"\\n\":\n",
    "                        continue\n",
    "\n",
    "                    if token == \"output\":\n",
    "                        x_mode = False\n",
    "                        index = 0\n",
    "                        continue\n",
    "                    \n",
    "                    if x_mode:\n",
    "                        self.data_x[i, index // 2, index % 2] = float(token)\n",
    "                        index += 1\n",
    "                    else:\n",
    "                        self.data_y[i, index] = float(token)\n",
    "                        index += 1\n",
    "\n",
    "            print(\"Copying x to device\")\n",
    "            self.data_x = self.data_x.to(device)\n",
    "            print(\"Copying y to device\")\n",
    "            self.data_y = self.data_y.to(device)\n",
    "\n",
    "    def __len__(self):\n",
    "        return len(self.data_x)\n",
    "\n",
    "    def __getitem__(self, idx):\n",
    "        return self.data_x[idx], self.data_y[idx].long() # NO LONGER - 1 # -1 to make it 0-indexed"
   ]
  },
  {
   "cell_type": "code",
   "execution_count": 18,
   "metadata": {},
   "outputs": [
    {
     "name": "stdout",
     "output_type": "stream",
     "text": [
      "Loaded data: 10000/1000000; cap: 100000\n",
      "Loaded data: 20000/1000000; cap: 100000\n",
      "Loaded data: 30000/1000000; cap: 100000\n",
      "Loaded data: 40000/1000000; cap: 100000\n",
      "Loaded data: 50000/1000000; cap: 100000\n",
      "Loaded data: 60000/1000000; cap: 100000\n",
      "Loaded data: 70000/1000000; cap: 100000\n",
      "Loaded data: 80000/1000000; cap: 100000\n",
      "Loaded data: 90000/1000000; cap: 100000\n",
      "Loaded data: 100000/1000000; cap: 100000\n",
      "Copying x to device\n",
      "Copying y to device\n"
     ]
    }
   ],
   "source": [
    "convex_hull_dataset = ConvexHullDataset(\"../data/ptr_nets/tsp10.txt\", 10, DEVICE, FLOAT_TYPE, INT_TYPE, cap=100000)"
   ]
  },
  {
   "cell_type": "code",
   "execution_count": 19,
   "metadata": {},
   "outputs": [],
   "source": [
    "class PtrNet2(nn.Module):\n",
    "    def __init__(self, in_dim: int, m_out: int, dtype: t.dtype, hidden_dim: int = 512) -> None:\n",
    "        super().__init__()\n",
    "\n",
    "        self.in_dim = in_dim # input embedding size\n",
    "        self.n_out = m_out   # number of output indices to return\n",
    "        self.dtype = dtype\n",
    "\n",
    "        self.hidden_dim = hidden_dim\n",
    "\n",
    "        self.encoder = nn.LSTM(in_dim, hidden_dim, 1, dtype=dtype)\n",
    "        self.decoder = nn.LSTM(in_dim, hidden_dim, 1, dtype=dtype)\n",
    "\n",
    "        self.starting_token = t.ones(in_dim, dtype=dtype) * -1.0\n",
    "        self.ending_token = t.ones(hidden_dim, dtype=dtype)\n",
    "\n",
    "        for i in range(hidden_dim):\n",
    "            self.ending_token[i] = - ((i + 1) % 2)\n",
    "\n",
    "        self.W1 = nn.Parameter(t.randn(hidden_dim, hidden_dim, dtype=dtype))\n",
    "        self.W2 = nn.Parameter(t.randn(hidden_dim, hidden_dim, dtype=dtype))\n",
    "        self.v  = nn.Parameter(t.randn(1, hidden_dim, dtype=dtype))\n",
    "\n",
    "\n",
    "    def forward(self, x: t.Tensor, y: t.Tensor | None = None):\n",
    "        \"\"\"\n",
    "        x is a batch_size x in_len x in_dim tensor\n",
    "        y is a batch_size x n_out tensor of indices. The indices are one-indexed:\n",
    "          used for during training as teacher forcing. ignored during validation\n",
    "          if y[n, i] = k, this means for the nth batch, the ith output vector is to be equal to the (k)th input vector\n",
    "          the 0th index is reserved for the ending token\n",
    "\n",
    "        returns: a tuple (A, (encoder_all_hiddens, decoder_all_hiddens)) where:\n",
    "            A is a batch_size x (n_out + 1) x (in_len + 1) matrix; for each batch, we get (n_out + 1) probability pointers to the input sequence. The pointers are effectively 1-indexed: the 0th index refers to a pointer to the ending token, which is a signal to stop. The 1st index refers to a pointer to the 0th position in the input sequence, and so on.\n",
    "            encoder_all_hiddens is a batch_size x in_len + 1 x hidden_dim matrix; the first position is the ending token\n",
    "            decoder_all_hiddens is a batch_size x n_out + 1 x hidden_dim matrix; the first position is first output token, viz. the hidden state AFTER the starting token; the (i + 1)th position is the hidden state AFTER the ith output token; the (n_out + 1)th position is the hidden state AFTER the final output token, which should be used to generate a pointer to the start token\n",
    "        \"\"\"\n",
    "\n",
    "        # force batched\n",
    "        if x.dim() == 2:\n",
    "            x = x.unsqueeze(0)\n",
    "        assert x.dim() == 3\n",
    "        batch_size = len(x)\n",
    "        batch_size_arange = t.arange(batch_size)\n",
    "        in_len = x.shape[1]\n",
    "\n",
    "        if self.training:\n",
    "            assert y is not None\n",
    "            assert x.shape[0] == y.shape[0]\n",
    "            assert y.shape[1] == self.n_out\n",
    "\n",
    "        \n",
    "        assert x.shape[2] == self.in_dim\n",
    "\n",
    "        x = x.permute(1, 0, 2) # TODO: change it so that input is already permuted\n",
    "\n",
    "        # define L\n",
    "        # define encoder_all_hiddens, an N * L + 1 * embedding_dim matrix\n",
    "        encoder_all_hiddens = t.zeros(in_len + 1, batch_size, self.hidden_dim, dtype=self.dtype, device=self.device)\n",
    "        encoder_first_hidden = self.ending_token.repeat(1, batch_size, 1) # NOTE: FIRST position in L dimension is the ending token. Thus, a pointer to the FIRST (0)th position is a signal to stop\n",
    "        encoder_all_hiddens[0:1, :, :] = encoder_first_hidden\n",
    "\n",
    "        # encode\n",
    "        encoder_all_hiddens[1:, :, :], (encoder_last_hidden, encoder_last_cell_state) = self.encoder(x, (encoder_first_hidden, t.zeros(1, batch_size, self.hidden_dim, dtype=self.dtype, device=self.device)))\n",
    "\n",
    "        # initialize decode variables\n",
    "        decoder_all_hiddens = t.zeros(self.n_out + 1, batch_size, self.hidden_dim, dtype=self.dtype, device=self.device)\n",
    "        decoder_current_cell_state = encoder_last_cell_state\n",
    "\n",
    "        # decode\n",
    "        if self.training:\n",
    "            decoder_input = t.empty(self.n_out + 1, batch_size, self.in_dim, dtype=self.dtype, device=self.device)\n",
    "            decoder_input[0:1, :, :] = self.starting_token.repeat(1, batch_size, 1)\n",
    "            decoder_input[1:, :, :] = x[y.t() - 1, batch_size_arange.view(1, batch_size), :]\n",
    "\n",
    "            decoder_all_hiddens[:, :, :], _ = self.decoder(decoder_input, (encoder_last_hidden, decoder_current_cell_state))\n",
    "\n",
    "            lin_enc = self.W1 @ encoder_all_hiddens.permute(1, 2, 0)\n",
    "            lin_dec = self.W2 @ decoder_all_hiddens.permute(1, 2, 0)\n",
    "\n",
    "            TANH = (lin_enc.unsqueeze(3) + lin_dec.unsqueeze(2)).tanh()\n",
    "            U = self.v @ TANH.permute(0, 3, 1, 2) # batch_size x (n_out + 1) x 1 x in_len + 1\n",
    "\n",
    "            A = U.squeeze(dim=2)\n",
    "            # A = U.softmax(dim=3).squeeze(dim=2) # batch_size x (n_out + 1) x in_len + 1\n",
    "\n",
    "            return A, (encoder_all_hiddens.permute(1, 0, 2), decoder_all_hiddens.permute(1, 0, 2))\n",
    "                      # returns a batch_size x in_len + 1 x hidden_dim matrix,\n",
    "                      # a batch_size x n_out + 1 x hidden_dim matrix,\n",
    "                      # and a batch_size x (n_out + 1) x in_len + 1 matrix\n",
    "        else:\n",
    "            decoder_current_input  = self.starting_token.repeat(1, batch_size, 1)\n",
    "            decoder_current_hidden = encoder_last_hidden\n",
    "\n",
    "            \n",
    "            A = t.empty(self.n_out + 1, batch_size, in_len + 1, dtype=self.dtype, device=self.device)\n",
    "\n",
    "            for i in range(self.n_out + 1):\n",
    "                _, (decoder_current_hidden, decoder_current_cell_state) = self.decoder(decoder_current_input, (decoder_current_hidden, decoder_current_cell_state))\n",
    "                TANH_i = (self.W1 @ encoder_all_hiddens.permute(1, 2, 0) + self.W2 @ decoder_current_hidden.permute(1, 2, 0)).tanh()\n",
    "                U_i    = self.v @ TANH_i\n",
    "\n",
    "                A_i = U_i.squeeze(dim=1) # no softmaxing here\n",
    "\n",
    "                # A_i    = U_i.softmax(dim=2).squeeze(dim=1) # gives an batch_size x in_len matrix where m[n] is a probability distribution over in_length input indices\n",
    "                \n",
    "                next_index = A_i.argmax(dim=1) # TODO: handle when next_index[n][0] is 0 for some n, meaning that for the nth batch, the decoder should stop. TODO: add beam search functionality\n",
    "                A[i, :, :] = A_i\n",
    "                decoder_current_input = x[next_index - 1, batch_size_arange].unsqueeze(0)\n",
    "                decoder_all_hiddens[i, :, :] = decoder_current_hidden.squeeze(dim=0)\n",
    "            \n",
    "            return A.permute(1, 0, 2), (encoder_all_hiddens.permute(1, 0, 2), decoder_all_hiddens.permute(1, 0, 2))\n",
    "        \n",
    "    \n",
    "    def to(self, *args, **kwargs):\n",
    "        super().to(*args, **kwargs)\n",
    "        self.device = args[0]\n",
    "        self.starting_token = self.starting_token.to(self.device)\n",
    "        self.ending_token = self.ending_token.to(self.device)\n",
    "\n",
    "        return self"
   ]
  },
  {
   "cell_type": "code",
   "execution_count": 20,
   "metadata": {},
   "outputs": [],
   "source": [
    "model_one = PtrNet2(2, 11, FLOAT_TYPE).to(DEVICE)\n",
    "optim_one = t.optim.Adam(model_one.parameters(), lr=0.001)"
   ]
  },
  {
   "cell_type": "code",
   "execution_count": 21,
   "metadata": {},
   "outputs": [],
   "source": [
    "dataloader = DataLoader(convex_hull_dataset, batch_size=512, shuffle=True)"
   ]
  },
  {
   "cell_type": "code",
   "execution_count": 22,
   "metadata": {},
   "outputs": [],
   "source": [
    "def train(model: PtrNet2, d: DataLoader, optim: t.optim.Optimizer, n_epochs: int = 100):\n",
    "    # NOTE: assuming all inputs are of same sequence length model.n_out\n",
    "    n_out = model.n_out\n",
    "    n_batches = len(d)\n",
    "\n",
    "    model.train()\n",
    "\n",
    "    ce = t.nn.CrossEntropyLoss()\n",
    "    for epoch_number in range(n_epochs):\n",
    "        for batch_number, (x_train, y_train) in enumerate(d):\n",
    "            optim.zero_grad()\n",
    "\n",
    "            probabilities, _ = model(x_train, y_train)\n",
    "\n",
    "            targets = t.zeros((y_train.shape[0], n_out + 1), dtype=t.long, device=x_train.device)\n",
    "            targets[:,:-1] = y_train\n",
    "            targets[:,-1] = 0\n",
    "\n",
    "            loss = ce(probabilities.permute(0, 2, 1), targets)\n",
    "\n",
    "            if batch_number % 100 == 0:\n",
    "                print(f\"Epoch {epoch_number + 1}/{n_epochs} Batch {batch_number + 1}/{n_batches} loss {loss.item()} accuracy: {(probabilities.argmax(dim=2)[:,1:-1] == targets[:,1:-1]).sum() / targets[:,1:-1].numel()}\")\n",
    "            \n",
    "            loss.backward()\n",
    "            optim.step()\n"
   ]
  },
  {
   "cell_type": "code",
   "execution_count": 25,
   "metadata": {},
   "outputs": [
    {
     "name": "stdout",
     "output_type": "stream",
     "text": [
      "Epoch 1/10 Batch 1/196 loss 0.8247752785682678 accuracy: 0.608593761920929\n",
      "Epoch 1/10 Batch 101/196 loss 0.8240684866905212 accuracy: 0.615039050579071\n",
      "Epoch 2/10 Batch 1/196 loss 0.9943934082984924 accuracy: 0.5267578363418579\n",
      "Epoch 2/10 Batch 101/196 loss 0.8175281882286072 accuracy: 0.6236328482627869\n",
      "Epoch 3/10 Batch 1/196 loss 0.7884207367897034 accuracy: 0.62890625\n",
      "Epoch 3/10 Batch 101/196 loss 0.7984790802001953 accuracy: 0.6333984732627869\n",
      "Epoch 4/10 Batch 1/196 loss 0.7687947750091553 accuracy: 0.646484375\n",
      "Epoch 4/10 Batch 101/196 loss 0.7814452052116394 accuracy: 0.640429675579071\n",
      "Epoch 5/10 Batch 1/196 loss 0.7287089228630066 accuracy: 0.6630859375\n",
      "Epoch 5/10 Batch 101/196 loss 0.7415135502815247 accuracy: 0.6539062857627869\n",
      "Epoch 6/10 Batch 1/196 loss 0.7199351191520691 accuracy: 0.6673828363418579\n",
      "Epoch 6/10 Batch 101/196 loss 1.9863914251327515 accuracy: 0.29804688692092896\n",
      "Epoch 7/10 Batch 1/196 loss 1.0388647317886353 accuracy: 0.5042968988418579\n",
      "Epoch 7/10 Batch 101/196 loss 0.9019700884819031 accuracy: 0.5755859613418579\n",
      "Epoch 8/10 Batch 1/196 loss 0.8784993290901184 accuracy: 0.592578113079071\n",
      "Epoch 8/10 Batch 101/196 loss 0.845630943775177 accuracy: 0.616992175579071\n",
      "Epoch 9/10 Batch 1/196 loss 0.8038883805274963 accuracy: 0.625781238079071\n",
      "Epoch 9/10 Batch 101/196 loss 0.8321101069450378 accuracy: 0.607421875\n",
      "Epoch 10/10 Batch 1/196 loss 0.7979571223258972 accuracy: 0.6279296875\n",
      "Epoch 10/10 Batch 101/196 loss 0.7670387625694275 accuracy: 0.6498047113418579\n"
     ]
    }
   ],
   "source": [
    "train(model_one, dataloader, optim_one, n_epochs=10)"
   ]
  },
  {
   "cell_type": "code",
   "execution_count": 10,
   "metadata": {},
   "outputs": [],
   "source": [
    "x_test, y_test = convex_hull_dataset[0:3]"
   ]
  },
  {
   "cell_type": "code",
   "execution_count": 11,
   "metadata": {},
   "outputs": [
    {
     "data": {
      "text/plain": [
       "(torch.Size([3, 10, 2]), torch.Size([3, 11]))"
      ]
     },
     "execution_count": 11,
     "metadata": {},
     "output_type": "execute_result"
    }
   ],
   "source": [
    "x_test.shape, y_test.shape"
   ]
  },
  {
   "cell_type": "code",
   "execution_count": 12,
   "metadata": {},
   "outputs": [],
   "source": [
    "model_one.train()\n",
    "p, _ = model_one(x_test, y_test)"
   ]
  },
  {
   "cell_type": "code",
   "execution_count": 14,
   "metadata": {},
   "outputs": [
    {
     "data": {
      "text/plain": [
       "tensor([[0, 0, 0, 0, 0, 0, 0, 0, 0, 0, 0, 0],\n",
       "        [0, 0, 0, 0, 0, 0, 0, 0, 0, 0, 0, 0],\n",
       "        [0, 0, 0, 0, 0, 0, 0, 0, 0, 0, 0, 0]], device='cuda:0')"
      ]
     },
     "execution_count": 14,
     "metadata": {},
     "output_type": "execute_result"
    }
   ],
   "source": [
    "p.argmax(dim=2)"
   ]
  },
  {
   "cell_type": "code",
   "execution_count": null,
   "metadata": {},
   "outputs": [],
   "source": []
  }
 ],
 "metadata": {
  "kernelspec": {
   "display_name": "german",
   "language": "python",
   "name": "python3"
  },
  "language_info": {
   "codemirror_mode": {
    "name": "ipython",
    "version": 3
   },
   "file_extension": ".py",
   "mimetype": "text/x-python",
   "name": "python",
   "nbconvert_exporter": "python",
   "pygments_lexer": "ipython3",
   "version": "3.11.4"
  },
  "orig_nbformat": 4
 },
 "nbformat": 4,
 "nbformat_minor": 2
}
