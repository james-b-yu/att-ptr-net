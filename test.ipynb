{
 "cells": [
  {
   "cell_type": "code",
   "execution_count": 19,
   "metadata": {},
   "outputs": [],
   "source": [
    "import logging\n",
    "logging.basicConfig(level=logging.INFO)\n",
    "logger = logging.getLogger(__name__)\n",
    "import torch\n",
    "import torch.nn.functional as F\n",
    "\n",
    "from german_parser.util.const import CONSTS\n",
    "from german_parser.util.dataloader import TigerDatasetGenerator\n",
    "import dill as pickle\n",
    "from string import punctuation\n",
    "from german_parser.model import TigerModel\n",
    "from german_parser.util import BatchUnionFind\n",
    "\n",
    "from german_parser.util.c_and_d import Dependency, DependencyTree, ConstituentTree, Terminal\n",
    "from collections import defaultdict\n",
    "from typing import Sequence"
   ]
  },
  {
   "cell_type": "code",
   "execution_count": 20,
   "metadata": {},
   "outputs": [],
   "source": [
    "(train_dataloader, train_new_words), (dev_dataloader, dev_new_words), (test_dataloader, test_new_words), character_set, character_flag_generators, inverse_word_dict, inverse_sym_dict = pickle.load(open(\"required_vars.pkl\", \"rb\"))\n",
    "model: TigerModel = pickle.load(open(\"./models/tiger_model_2023_09_05-03_04_35_PM_epoch_6.pickle\", \"rb\"))\n",
    "dl_en = enumerate(test_dataloader)"
   ]
  },
  {
   "cell_type": "code",
   "execution_count": 21,
   "metadata": {},
   "outputs": [],
   "source": [
    "model = model.eval().to(\"cpu\")"
   ]
  },
  {
   "cell_type": "markdown",
   "metadata": {},
   "source": [
    "# Define Methods"
   ]
  },
  {
   "cell_type": "code",
   "execution_count": 22,
   "metadata": {},
   "outputs": [],
   "source": [
    "def find_tree(model: TigerModel, input: tuple[torch.Tensor, torch.Tensor], new_words_dict: dict[int, str] | None):\n",
    "    \"\"\"NOTE: indices are 1-indexed. index 0 corresponds to virtual root of D-tree (which is different from virtual root of C-tree)\n",
    "\n",
    "    Args:\n",
    "        model (TigerModel): _description_\n",
    "        input (tuple[torch.Tensor, torch.Tensor]): _description_\n",
    "        new_words_dict (dict[int, str] | None): _description_\n",
    "    \"\"\"    \n",
    "    x, lengths = input\n",
    "    self_attention, constituent_labels, attachment_orders, indices = model.forward(input, new_words_dict)\n",
    "    # self_attention has size (B, T, T + 1)\n",
    "\n",
    "    B, T, *_ = self_attention.shape\n",
    "    uf = BatchUnionFind(B, model.beam_size, N=T + 1, device=model.dummy_param.device)\n",
    "\n",
    "    # initialise beams by finding top-K most probable root nodes\n",
    "    best_roots = self_attention[:, :, 0].topk(k=model.beam_size, dim=-1)\n",
    "\n",
    "    current_root_indices = best_roots.indices # (B, K)\n",
    "    joint_logits = best_roots.values # (B, K)\n",
    "\n",
    "    edges = torch.zeros(B, model.beam_size, T, dtype=torch.long, device=model.dummy_param.device) # (B, K, T); m[b, k, t - 1] is the 1-indexed parent of 1-indexed node t, in batch b, beam k\n",
    "\n",
    "    same_as_beams = torch.zeros(B, model.beam_size) # m[b, k] == 1 if beam k in batch b is equal to beam 1 in batch b. allows us to keep track of duplicates. duplicates are when m[b, k] != k\n",
    "    \n",
    "    def beams_are_unique():\n",
    "        return same_as_beams == torch.arange(model.beam_size).repeat(B, 1) # return where m[b, k] == same_as_beams[b, k] != k\n",
    "\n",
    "\n",
    "    for t in range(T):\n",
    "        relevant_batches = t < lengths # used for updating the final arcs. otherwise, we get nans in batch b if t >= sentence_length[b]\n",
    "\n",
    "        arc_probs = self_attention[:, t, :].log_softmax(dim=-1) # (B, T + 1)\n",
    "\n",
    "        candidate_joint_logits = joint_logits[:, :, None] + arc_probs[:, None, :] # (B, K, T + 1); the heuristic we would like to maximise\n",
    "\n",
    "        children = torch.tensor(t + 1, device=model.dummy_param.device) # all batches and beams share the same child index (1-indexed)\n",
    "        parents = torch.arange(0, T + 1, 1, device=model.dummy_param.device, dtype=torch.long).repeat(B, model.beam_size, 1) # (B, K, T + 1), where m[b, k, t] = t to represent the index of each parent \n",
    "\n",
    "        # prevent cycles\n",
    "        disable_mask = uf.is_same_set(children.expand_as(parents), parents) # (B, K, T + 1); m[b, k, s + 1] is true if in batch b, beam k, joining child (t + 1) and parent (s + 1) would lead to a cycle\n",
    "        # avoid setting words as head that are beyond the end of the sentence\n",
    "        disable_mask[:, :, 1:] |= ~indices.unsqueeze(1).to(device=model.dummy_param.device) \n",
    "        # force beams to be unique\n",
    "        disable_mask |= ~beams_are_unique()[:, :, None]\n",
    "        # force root indices to be enabled\n",
    "        disable_mask[:, :, 1:][current_root_indices == t] = True # for the batches and beams where t would be a root node, t's parent must be 0 (cannot be 1:)\n",
    "        # prevent other indices from becoming root\n",
    "        disable_mask[:, :, 0][current_root_indices != t] = True\n",
    "        candidate_joint_logits[disable_mask] = -torch.inf # these indices can never be a maximiser\n",
    "\n",
    "        flattened_top_candidate_idx = candidate_joint_logits.flatten(-2, -1).topk(k=model.beam_size, dim=-1).indices # (B, K) in range [0, (K * T + 1)); for each batch, find top 10 best performing parent-beam combinations\n",
    "        \n",
    "        top_parents = parents.flatten(-2, -1).gather(index=flattened_top_candidate_idx, dim=-1) # (B, K); for each batch and beam, get the 1-indexed id of the parent we want to attach\n",
    "\n",
    "        batch_names = torch.arange(model.beam_size, device=model.dummy_param.device, dtype=torch.long).view(1, -1, 1).expand(B, -1, T + 1).flatten(-2, -1) # (B, K, T + 1); m[b, k, s] = k for all b, s, k\n",
    "        used_batches = batch_names.gather(index=flattened_top_candidate_idx, dim=-1) # (B, K) where each element is in the range [0, K). m[b, k] tells you what the kth new beam should be\n",
    "\n",
    "        same_as_beams = used_batches # we have copied over these beams, so for now, these beams must be equal\n",
    "\n",
    "        new_data = uf.data.gather(index=used_batches.unsqueeze(-1).expand_as(uf.data), dim=1)\n",
    "        new_rank = uf.rank.gather(index=used_batches.unsqueeze(-1).expand_as(uf.rank), dim=1)\n",
    "        new_edges = edges.gather(index=used_batches.unsqueeze(-1).expand_as(edges), dim=1)\n",
    "        new_joint_logits = candidate_joint_logits.flatten(-2, -1).gather(index=flattened_top_candidate_idx, dim=-1)\n",
    "        new_roots = current_root_indices.gather(index=used_batches, dim=-1)\n",
    "        \n",
    "\n",
    "        uf.data[relevant_batches] = new_data[relevant_batches]\n",
    "        uf.rank[relevant_batches] = new_rank[relevant_batches]\n",
    "        edges[relevant_batches] = new_edges[relevant_batches]\n",
    "        joint_logits[relevant_batches] = new_joint_logits[relevant_batches]\n",
    "        current_root_indices[relevant_batches] = new_roots[relevant_batches]\n",
    "\n",
    "        uf.union(children.expand_as(top_parents), top_parents)\n",
    "\n",
    "        edges[:, :, t] = top_parents\n",
    "        new_unique_beams = top_parents.gather(index=same_as_beams, dim=-1) != top_parents  # indicates the beams that have BECOME unqiue: given any batch b, suppose beam j was a copy of beam k. suppose the new parent for beam j is different to the new parent of beam k. then m[b, j] = True\n",
    "        same_as_beams[new_unique_beams] = torch.arange(model.beam_size).repeat(B, 1)[new_unique_beams]\n",
    "\n",
    "        pass\n",
    "\n",
    "    num_labels = constituent_labels.shape[-1]\n",
    "    num_attachment_orders = attachment_orders.shape[-1]\n",
    "\n",
    "    best_edges = edges[torch.arange(edges.shape[0]), joint_logits.argmax(dim=-1)] # (B, T) containing elements in range [0, T + 1), where m[b, t - 1] denotes the 1-indexed parent of 1-indexed node t\n",
    "\n",
    "    label_logits_best_edges = constituent_labels.gather(index=best_edges[:, :, None, None].expand(-1, -1, -1, num_labels), dim=2).squeeze(2)\n",
    "    attachment_logits_best_edges = attachment_orders.gather(index=best_edges[:, :, None, None].expand(-1, -1, -1, num_attachment_orders), dim=2).squeeze(2)\n",
    "\n",
    "    labels_best_edges = label_logits_best_edges.argmax(-1)\n",
    "    attachment_orders_best_edges = attachment_logits_best_edges.argmax(-1)\n",
    "\n",
    "    return best_edges, labels_best_edges, attachment_orders_best_edges, (edges, joint_logits)"
   ]
  },
  {
   "cell_type": "code",
   "execution_count": 23,
   "metadata": {},
   "outputs": [],
   "source": [
    "def create_d_tree(heads: Sequence[int] | torch.Tensor, labels: Sequence[int] | torch.Tensor, orders: Sequence[int] | torch.Tensor, words: list[str]):\n",
    "    assert len(labels) == len(heads) and len(orders) == len(labels) and len(words) == len(orders)\n",
    "    num_words = len(heads)\n",
    "\n",
    "    modifiers: dict[int, dict[int, list[Dependency]]] = defaultdict(lambda: defaultdict(lambda x=None: []))\n",
    "    terminals: dict[int, Terminal] = {}\n",
    "\n",
    "    for child, (head, label, order, word) in enumerate(zip(heads, labels, orders, words), start=1):\n",
    "        if isinstance(head, torch.Tensor):\n",
    "            head = int(head.item())\n",
    "        if isinstance(label, torch.Tensor):\n",
    "            label = int(label.item())\n",
    "        if isinstance(order, torch.Tensor):\n",
    "            order = int(order.item())\n",
    "\n",
    "        terminals[child] = Terminal(\n",
    "            idx=child,\n",
    "            word=word\n",
    "        )\n",
    "\n",
    "        # child with head of 0 is the root node of the d-tree; don't add it to modifiers dict\n",
    "        if head == 0:\n",
    "            continue\n",
    "        \n",
    "        modifiers[head][order].append(Dependency(head=head, modifier=child, sym=inverse_sym_dict[label]))\n",
    "\n",
    "    # with an ordering, all arcs must have the same symbol between dependency and head\n",
    "    for h in modifiers:\n",
    "        for o in modifiers[h]:\n",
    "            dependencies = modifiers[h][o]\n",
    "            closest_dependency_to_head = max(dependencies, key=lambda d: abs(d.head - d.modifier))\n",
    "            for d in dependencies:\n",
    "                if d.sym != closest_dependency_to_head.sym:\n",
    "                    print(f\"Warning: arc symbol from {d.modifier} to {d.head} ({d.sym}) does not match arc from closest dependency {closest_dependency_to_head.modifier} ({closest_dependency_to_head.sym}). Setting this to ({closest_dependency_to_head.sym})\")\n",
    "                    d.sym = closest_dependency_to_head.sym\n",
    "            pass\n",
    "\n",
    "    return DependencyTree(modifiers=modifiers, terminals=terminals, num_words=num_words)\n",
    "\n",
    "def create_c_tree(heads: Sequence[int] | torch.Tensor, labels: Sequence[int] | torch.Tensor, orders: Sequence[int] | torch.Tensor, words: list[str]):\n",
    "    d_tree = create_d_tree(heads, labels, orders, words)\n",
    "    return ConstituentTree.from_d_tree(d_tree)"
   ]
  },
  {
   "cell_type": "markdown",
   "metadata": {},
   "source": [
    "# Playing Around"
   ]
  },
  {
   "cell_type": "code",
   "execution_count": 24,
   "metadata": {},
   "outputs": [],
   "source": [
    "_, (x, l, target_ex, target_lab, target_att) = next(dl_en)"
   ]
  },
  {
   "cell_type": "code",
   "execution_count": 25,
   "metadata": {},
   "outputs": [],
   "source": [
    "best_edges, labels_best_edges, attachment_orders_best_edges, (edges, joint_logits) = find_tree(model, (x, l), test_new_words)"
   ]
  },
  {
   "cell_type": "code",
   "execution_count": 26,
   "metadata": {},
   "outputs": [
    {
     "data": {
      "text/plain": [
       "tensor([-16.7786, -16.8741, -16.9794, -17.0701, -17.1065, -17.1906, -17.2020,\n",
       "        -17.2709, -18.1423, -18.2378], grad_fn=<SelectBackward0>)"
      ]
     },
     "execution_count": 26,
     "metadata": {},
     "output_type": "execute_result"
    }
   ],
   "source": [
    "joint_logits[0]"
   ]
  },
  {
   "cell_type": "code",
   "execution_count": 27,
   "metadata": {},
   "outputs": [],
   "source": [
    "s_num = 3\n",
    "\n",
    "words = x[s_num, :l[s_num]].to(\"cpu\")\n",
    "\n",
    "ex = best_edges[s_num, :l[s_num]].to(\"cpu\")\n",
    "lab = labels_best_edges[s_num, :l[s_num]].to(\"cpu\")\n",
    "att = attachment_orders_best_edges[s_num, :l[s_num]].to(\"cpu\")\n",
    "\n",
    "t_ex = target_ex[s_num, :l[s_num]].to(\"cpu\")\n",
    "t_lab = target_lab[s_num, :l[s_num]].to(\"cpu\")\n",
    "t_att = target_att[s_num, :l[s_num]].to(\"cpu\")"
   ]
  },
  {
   "cell_type": "code",
   "execution_count": 28,
   "metadata": {},
   "outputs": [
    {
     "name": "stdout",
     "output_type": "stream",
     "text": [
      "TreePlot[{{2->1, \"S#1\"}, {0->2, \"DROOT#1\"}, {5->3, \"NP#1\"}, {5->4, \"NP#1\"}, {7->5, \"VP#1\"}, {7->6, \"VP#1\"}, {2->7, \"S#1\"}, {2->8, \"VROOT#2\"}, {20->9, \"S#1\"}, {11->10, \"NP#1\"}, {20->11, \"S#1\"}, {14->12, \"NP#1\"}, {14->13, \"NP#1\"}, {20->14, \"S#1\"}, {17->15, \"NP#1\"}, {17->16, \"NP#1\"}, {20->17, \"S#1\"}, {20->18, \"S#1\"}, {18->19, \"PP#1\"}, {2->20, \"S#1\"}, {2->21, \"VROOT#2\"}, {26->22, \"S#1\"}, {26->23, \"S#1\"}, {26->24, \"S#1\"}, {26->25, \"VP#1\"}, {20->26, \"CS#1\"}, {2->27, \"VROOT#2\"}}, Top, 0, VertexLabels -> Automatic, DirectedEdges -> True]\n"
     ]
    }
   ],
   "source": [
    "edges = []\n",
    "\n",
    "for i, (i_parent, i_lab, i_att) in enumerate(zip(ex, lab, att), 1):\n",
    "    edges.append(f\"{{{i_parent}->{i}, \\\"{inverse_sym_dict[i_lab.item()]}#{i_att}\\\"}}\")\n",
    "\n",
    "print(f\"TreePlot[{{{', '.join(edges)}}}, Top, 0, VertexLabels -> Automatic, DirectedEdges -> True]\")"
   ]
  },
  {
   "cell_type": "code",
   "execution_count": 29,
   "metadata": {},
   "outputs": [
    {
     "name": "stdout",
     "output_type": "stream",
     "text": [
      "TreePlot[{{2->1, \"S#1\"}, {0->2, \"DROOT#1\"}, {5->3, \"NP#1\"}, {5->4, \"NP#1\"}, {2->5, \"S#1\"}, {7->6, \"VP#1\"}, {2->7, \"S#1\"}, {2->8, \"VROOT#2\"}, {20->9, \"S#1\"}, {11->10, \"NP#1\"}, {20->11, \"S#1\"}, {14->12, \"NP#1\"}, {14->13, \"NP#1\"}, {11->14, \"NP#1\"}, {17->15, \"NP#1\"}, {17->16, \"NP#1\"}, {20->17, \"S#1\"}, {20->18, \"S#1\"}, {18->19, \"PP#1\"}, {6->20, \"PP#1\"}, {2->21, \"VROOT#2\"}, {26->22, \"S#1\"}, {26->23, \"S#1\"}, {26->24, \"S#1\"}, {22->25, \"NP#1\"}, {17->26, \"NP#1\"}, {2->27, \"VROOT#2\"}}, Top, 0, VertexLabels -> Automatic, DirectedEdges -> True]\n"
     ]
    }
   ],
   "source": [
    "target_edges = []\n",
    "\n",
    "for i, (i_parent, i_lab, i_att) in enumerate(zip(t_ex, t_lab, t_att), 1):\n",
    "    target_edges.append(f\"{{{i_parent}->{i}, \\\"{inverse_sym_dict[i_lab.item()]}#{i_att}\\\"}}\")\n",
    "\n",
    "print(f\"TreePlot[{{{', '.join(target_edges)}}}, Top, 0, VertexLabels -> Automatic, DirectedEdges -> True]\")"
   ]
  },
  {
   "cell_type": "code",
   "execution_count": 30,
   "metadata": {},
   "outputs": [
    {
     "name": "stdout",
     "output_type": "stream",
     "text": [
      "Warning: arc symbol from 26 to 20 (CS) does not match arc from closest dependency 9 (S). Setting this to (S)\n",
      "Warning: arc symbol from 25 to 26 (VP) does not match arc from closest dependency 22 (S). Setting this to (S)\n"
     ]
    }
   ],
   "source": [
    "the_sentence = [inverse_word_dict[w.item()] if w > 0 else test_new_words[-w.item()] for w in words]\n",
    "c_tree = create_c_tree(heads=ex, labels=lab, orders=att, words=the_sentence)\n",
    "t_c_tree = create_c_tree(heads=t_ex, labels=t_lab, orders=t_att, words=the_sentence)"
   ]
  },
  {
   "cell_type": "code",
   "execution_count": 31,
   "metadata": {},
   "outputs": [
    {
     "data": {
      "text/plain": [
       "(<toyplot.canvas.Canvas at 0x16af6ea90>,\n",
       " <toyplot.coordinates.Cartesian at 0x12b1c3490>,\n",
       " <toytree.Render.ToytreeMark at 0x31be85ed0>)"
      ]
     },
     "execution_count": 31,
     "metadata": {},
     "output_type": "execute_result"
    },
    {
     "data": {
      "text/html": [
       "<div class=\"toyplot\" id=\"te334381a1f9b4f2fb0077aa5df7f7eee\" style=\"text-align:center\"><svg class=\"toyplot-canvas-Canvas\" xmlns:toyplot=\"http://www.sandia.gov/toyplot\" xmlns:xlink=\"http://www.w3.org/1999/xlink\" xmlns=\"http://www.w3.org/2000/svg\" width=\"600.0px\" height=\"600.0px\" viewBox=\"0 0 600.0 600.0\" preserveAspectRatio=\"xMidYMid meet\" style=\"background-color:transparent;border-color:#292724;border-style:none;border-width:1.0;fill:rgb(16.1%,15.3%,14.1%);fill-opacity:1.0;font-family:Helvetica;font-size:12px;opacity:1.0;stroke:rgb(16.1%,15.3%,14.1%);stroke-opacity:1.0;stroke-width:1.0\" id=\"t6497be5ca19341e3911c5eb3e5acb01c\"><g class=\"toyplot-coordinates-Cartesian\" id=\"t3e1cde0c3826435793ef45f829313ee7\"><clipPath id=\"t7d51fe1179a745af957b408ba82fcfa0\"><rect x=\"30.0\" y=\"30.0\" width=\"540.0\" height=\"540.0\"></rect></clipPath><g clip-path=\"url(#t7d51fe1179a745af957b408ba82fcfa0)\"><g class=\"toytree-mark-Toytree\" id=\"ta299e82b5a15424cb2b583c0a386596b\"><g class=\"toytree-Edges\" style=\"fill:none;stroke:rgb(55.3%,62.7%,79.6%);stroke-linecap:round;stroke-opacity:0.5;stroke-width:2.5\"><path d=\"M 60.5 327.8 L 147.8 157.2\" id=\"36,35\"></path><path d=\"M 147.8 157.2 L 235.2 148.8\" id=\"35,34\"></path><path d=\"M 147.8 157.2 L 235.2 333.7\" id=\"35,33\"></path><path d=\"M 235.2 148.8 L 322.5 118.6\" id=\"34,32\"></path><path d=\"M 235.2 333.7 L 322.5 236.5\" id=\"33,31\"></path><path d=\"M 235.2 333.7 L 322.5 381.6\" id=\"33,30\"></path><path d=\"M 235.2 333.7 L 322.5 281.9\" id=\"33,29\"></path><path d=\"M 235.2 333.7 L 322.5 336.3\" id=\"33,28\"></path><path d=\"M 235.2 333.7 L 322.5 481.4\" id=\"33,27\"></path><path d=\"M 60.5 327.8 L 147.8 191.1\" id=\"36,26\"></path><path d=\"M 60.5 327.8 L 147.8 427.0\" id=\"36,25\"></path><path d=\"M 60.5 327.8 L 147.8 535.8\" id=\"36,24\"></path><path d=\"M 147.8 157.2 L 235.2 82.3\" id=\"35,23\"></path><path d=\"M 147.8 157.2 L 235.2 64.2\" id=\"35,22\"></path><path d=\"M 235.2 148.8 L 322.5 173.0\" id=\"34,21\"></path><path d=\"M 235.2 148.8 L 322.5 154.9\" id=\"34,20\"></path><path d=\"M 322.5 118.6 L 409.9 136.7\" id=\"32,19\"></path><path d=\"M 322.5 118.6 L 409.9 100.4\" id=\"32,18\"></path><path d=\"M 322.5 118.6 L 409.9 118.6\" id=\"32,17\"></path><path d=\"M 235.2 333.7 L 322.5 408.9\" id=\"33,16\"></path><path d=\"M 235.2 333.7 L 322.5 209.3\" id=\"33,15\"></path><path d=\"M 322.5 236.5 L 409.9 245.6\" id=\"31,14\"></path><path d=\"M 322.5 236.5 L 409.9 227.4\" id=\"31,13\"></path><path d=\"M 322.5 381.6 L 409.9 372.6\" id=\"30,12\"></path><path d=\"M 322.5 381.6 L 409.9 390.7\" id=\"30,11\"></path><path d=\"M 322.5 281.9 L 409.9 300.0\" id=\"29,10\"></path><path d=\"M 322.5 281.9 L 409.9 263.7\" id=\"29,9\"></path><path d=\"M 322.5 281.9 L 409.9 281.9\" id=\"29,8\"></path><path d=\"M 322.5 336.3 L 409.9 354.4\" id=\"28,7\"></path><path d=\"M 322.5 336.3 L 409.9 318.1\" id=\"28,6\"></path><path d=\"M 322.5 336.3 L 409.9 336.3\" id=\"28,5\"></path><path d=\"M 322.5 481.4 L 409.9 517.7\" id=\"27,4\"></path><path d=\"M 322.5 481.4 L 409.9 445.1\" id=\"27,3\"></path><path d=\"M 322.5 481.4 L 409.9 463.3\" id=\"27,2\"></path><path d=\"M 322.5 481.4 L 409.9 481.4\" id=\"27,1\"></path><path d=\"M 322.5 481.4 L 409.9 499.6\" id=\"27,0\"></path></g><g class=\"toytree-AlignEdges\" style=\"stroke:rgb(66.3%,66.3%,66.3%);stroke-dasharray:2, 4;stroke-linecap:round;stroke-opacity:1.0;stroke-width:2\"><path d=\"M 409.9 499.6 L 409.9 499.6\"></path><path d=\"M 409.9 481.4 L 409.9 481.4\"></path><path d=\"M 409.9 463.3 L 409.9 463.3\"></path><path d=\"M 409.9 445.1 L 409.9 445.1\"></path><path d=\"M 409.9 517.7 L 409.9 517.7\"></path><path d=\"M 409.9 336.3 L 409.9 336.3\"></path><path d=\"M 409.9 318.1 L 409.9 318.1\"></path><path d=\"M 409.9 354.4 L 409.9 354.4\"></path><path d=\"M 409.9 281.9 L 409.9 281.9\"></path><path d=\"M 409.9 263.7 L 409.9 263.7\"></path><path d=\"M 409.9 300.0 L 409.9 300.0\"></path><path d=\"M 409.9 390.7 L 409.9 390.7\"></path><path d=\"M 409.9 372.6 L 409.9 372.6\"></path><path d=\"M 409.9 227.4 L 409.9 227.4\"></path><path d=\"M 409.9 245.6 L 409.9 245.6\"></path><path d=\"M 409.9 209.3 L 322.5 209.3\"></path><path d=\"M 409.9 408.9 L 322.5 408.9\"></path><path d=\"M 409.9 118.6 L 409.9 118.6\"></path><path d=\"M 409.9 100.4 L 409.9 100.4\"></path><path d=\"M 409.9 136.7 L 409.9 136.7\"></path><path d=\"M 409.9 154.9 L 322.5 154.9\"></path><path d=\"M 409.9 173.0 L 322.5 173.0\"></path><path d=\"M 409.9 64.2 L 235.2 64.2\"></path><path d=\"M 409.9 82.3 L 235.2 82.3\"></path><path d=\"M 409.9 535.8 L 147.8 535.8\"></path><path d=\"M 409.9 427.0 L 147.8 427.0\"></path><path d=\"M 409.9 191.1 L 147.8 191.1\"></path></g><g class=\"toytree-Nodes\" style=\"fill:rgb(40%,76.1%,64.7%);fill-opacity:1.0;stroke:None;stroke-width:1\"><g id=\"node-0\" transform=\"translate(409.860,499.565)\"><circle r=\"7.5\"></circle></g><g id=\"node-1\" transform=\"translate(409.860,481.422)\"><circle r=\"7.5\"></circle></g><g id=\"node-2\" transform=\"translate(409.860,463.280)\"><circle r=\"7.5\"></circle></g><g id=\"node-3\" transform=\"translate(409.860,445.138)\"><circle r=\"7.5\"></circle></g><g id=\"node-4\" transform=\"translate(409.860,517.707)\"><circle r=\"7.5\"></circle></g><g id=\"node-5\" transform=\"translate(409.860,336.284)\"><circle r=\"7.5\"></circle></g><g id=\"node-6\" transform=\"translate(409.860,318.142)\"><circle r=\"7.5\"></circle></g><g id=\"node-7\" transform=\"translate(409.860,354.427)\"><circle r=\"7.5\"></circle></g><g id=\"node-8\" transform=\"translate(409.860,281.858)\"><circle r=\"7.5\"></circle></g><g id=\"node-9\" transform=\"translate(409.860,263.716)\"><circle r=\"7.5\"></circle></g><g id=\"node-10\" transform=\"translate(409.860,300.000)\"><circle r=\"7.5\"></circle></g><g id=\"node-11\" transform=\"translate(409.860,390.711)\"><circle r=\"7.5\"></circle></g><g id=\"node-12\" transform=\"translate(409.860,372.569)\"><circle r=\"7.5\"></circle></g><g id=\"node-13\" transform=\"translate(409.860,227.431)\"><circle r=\"7.5\"></circle></g><g id=\"node-14\" transform=\"translate(409.860,245.573)\"><circle r=\"7.5\"></circle></g><g id=\"node-15\" transform=\"translate(322.515,209.289)\"><circle r=\"7.5\"></circle></g><g id=\"node-16\" transform=\"translate(322.515,408.853)\"><circle r=\"7.5\"></circle></g><g id=\"node-17\" transform=\"translate(409.860,118.578)\"><circle r=\"7.5\"></circle></g><g id=\"node-18\" transform=\"translate(409.860,100.435)\"><circle r=\"7.5\"></circle></g><g id=\"node-19\" transform=\"translate(409.860,136.720)\"><circle r=\"7.5\"></circle></g><g id=\"node-20\" transform=\"translate(322.515,154.862)\"><circle r=\"7.5\"></circle></g><g id=\"node-21\" transform=\"translate(322.515,173.004)\"><circle r=\"7.5\"></circle></g><g id=\"node-22\" transform=\"translate(235.171,64.151)\"><circle r=\"7.5\"></circle></g><g id=\"node-23\" transform=\"translate(235.171,82.293)\"><circle r=\"7.5\"></circle></g><g id=\"node-24\" transform=\"translate(147.826,535.849)\"><circle r=\"7.5\"></circle></g><g id=\"node-25\" transform=\"translate(147.826,426.996)\"><circle r=\"7.5\"></circle></g><g id=\"node-26\" transform=\"translate(147.826,191.147)\"><circle r=\"7.5\"></circle></g><g id=\"node-27\" transform=\"translate(322.515,481.422)\"><circle r=\"7.5\"></circle></g><g id=\"node-28\" transform=\"translate(322.515,336.284)\"><circle r=\"7.5\"></circle></g><g id=\"node-29\" transform=\"translate(322.515,281.858)\"><circle r=\"7.5\"></circle></g><g id=\"node-30\" transform=\"translate(322.515,381.640)\"><circle r=\"7.5\"></circle></g><g id=\"node-31\" transform=\"translate(322.515,236.502)\"><circle r=\"7.5\"></circle></g><g id=\"node-32\" transform=\"translate(322.515,118.578)\"><circle r=\"7.5\"></circle></g><g id=\"node-33\" transform=\"translate(235.171,333.693)\"><circle r=\"7.5\"></circle></g><g id=\"node-34\" transform=\"translate(235.171,148.815)\"><circle r=\"7.5\"></circle></g><g id=\"node-35\" transform=\"translate(147.826,157.238)\"><circle r=\"7.5\"></circle></g><g id=\"node-36\" transform=\"translate(60.481,327.807)\"><circle r=\"7.5\"></circle></g></g><g class=\"toytree-NodeLabels\" style=\"fill:rgb(14.9%,14.9%,14.9%);fill-opacity:1.0;font-size:9px;stroke:none\"><g transform=\"translate(401.10,501.86)\"><text>25.?</text></g><g transform=\"translate(401.10,483.72)\"><text>24.?</text></g><g transform=\"translate(401.10,465.58)\"><text>23.?</text></g><g transform=\"translate(401.10,447.44)\"><text>22.?</text></g><g transform=\"translate(401.10,520.01)\"><text>26.?</text></g><g transform=\"translate(401.10,338.58)\"><text>16.?</text></g><g transform=\"translate(401.10,320.44)\"><text>15.?</text></g><g transform=\"translate(401.10,356.73)\"><text>17.?</text></g><g transform=\"translate(401.10,284.16)\"><text>13.?</text></g><g transform=\"translate(401.10,266.02)\"><text>12.?</text></g><g transform=\"translate(401.10,302.30)\"><text>14.?</text></g><g transform=\"translate(401.10,393.01)\"><text>19.?</text></g><g transform=\"translate(401.10,374.87)\"><text>18.?</text></g><g transform=\"translate(401.10,229.73)\"><text>10.?</text></g><g transform=\"translate(401.10,247.87)\"><text>11.?</text></g><g transform=\"translate(316.26,211.59)\"><text>9.?</text></g><g transform=\"translate(313.76,411.15)\"><text>20.?</text></g><g transform=\"translate(403.61,120.88)\"><text>4.?</text></g><g transform=\"translate(403.61,102.73)\"><text>3.?</text></g><g transform=\"translate(403.61,139.02)\"><text>5.?</text></g><g transform=\"translate(316.26,157.16)\"><text>6.?</text></g><g transform=\"translate(316.26,175.30)\"><text>7.?</text></g><g transform=\"translate(228.92,66.45)\"><text>1.?</text></g><g transform=\"translate(228.92,84.59)\"><text>2.?</text></g><g transform=\"translate(139.07,538.15)\"><text>27.?</text></g><g transform=\"translate(139.07,429.30)\"><text>21.?</text></g><g transform=\"translate(141.57,193.45)\"><text>8.?</text></g><g transform=\"translate(319.51,483.72)\"><text>S</text></g><g transform=\"translate(316.26,338.58)\"><text>NP</text></g><g transform=\"translate(316.26,284.16)\"><text>NP</text></g><g transform=\"translate(316.51,383.94)\"><text>PP</text></g><g transform=\"translate(316.26,238.80)\"><text>NP</text></g><g transform=\"translate(316.26,120.88)\"><text>NP</text></g><g transform=\"translate(232.17,335.99)\"><text>S</text></g><g transform=\"translate(229.17,151.11)\"><text>VP</text></g><g transform=\"translate(144.82,159.54)\"><text>S</text></g><g transform=\"translate(44.48,330.11)\"><text>VROOT</text></g></g><g class=\"toytree-TipLabels\" style=\"fill:rgb(14.9%,14.9%,14.9%);fill-opacity:1.0;font-family:helvetica;font-size:11px;font-weight:normal;stroke:none;white-space:pre\"><g transform=\"translate(409.86,499.56)rotate(0)\"><text x=\"15.00\" y=\"2.81\" style=\"\">selbst</text></g><g transform=\"translate(409.86,481.42)rotate(0)\"><text x=\"15.00\" y=\"2.81\" style=\"\">nicht</text></g><g transform=\"translate(409.86,463.28)rotate(0)\"><text x=\"15.00\" y=\"2.81\" style=\"\">sie</text></g><g transform=\"translate(409.86,445.14)rotate(0)\"><text x=\"15.00\" y=\"2.81\" style=\"\">die</text></g><g transform=\"translate(409.86,517.71)rotate(0)\"><text x=\"15.00\" y=\"2.81\" style=\"\">besitzen</text></g><g transform=\"translate(409.86,336.28)rotate(0)\"><text x=\"15.00\" y=\"2.81\" style=\"\">jenen</text></g><g transform=\"translate(409.86,318.14)rotate(0)\"><text x=\"15.00\" y=\"2.81\" style=\"\">auch</text></g><g transform=\"translate(409.86,354.43)rotate(0)\"><text x=\"15.00\" y=\"2.81\" style=\"\">Programmanbietern</text></g><g transform=\"translate(409.86,281.86)rotate(0)\"><text x=\"15.00\" y=\"2.81\" style=\"\">digitalen</text></g><g transform=\"translate(409.86,263.72)rotate(0)\"><text x=\"15.00\" y=\"2.81\" style=\"\">des</text></g><g transform=\"translate(409.86,300.00)rotate(0)\"><text x=\"15.00\" y=\"2.81\" style=\"\">Fernsehens</text></g><g transform=\"translate(409.86,390.71)rotate(0)\"><text x=\"15.00\" y=\"2.81\" style=\"\">VerfÃ¼gung</text></g><g transform=\"translate(409.86,372.57)rotate(0)\"><text x=\"15.00\" y=\"2.81\" style=\"\">zur</text></g><g transform=\"translate(409.86,227.43)rotate(0)\"><text x=\"15.00\" y=\"2.81\" style=\"\">die</text></g><g transform=\"translate(409.86,245.57)rotate(0)\"><text x=\"15.00\" y=\"2.81\" style=\"\">Bausteine</text></g><g transform=\"translate(409.86,209.29)rotate(0)\"><text x=\"15.00\" y=\"2.81\" style=\"\">daÃ</text></g><g transform=\"translate(409.86,408.85)rotate(0)\"><text x=\"15.00\" y=\"2.81\" style=\"\">stehen</text></g><g transform=\"translate(409.86,118.58)rotate(0)\"><text x=\"15.00\" y=\"2.81\" style=\"\">staatlichen</text></g><g transform=\"translate(409.86,100.44)rotate(0)\"><text x=\"15.00\" y=\"2.81\" style=\"\">die</text></g><g transform=\"translate(409.86,136.72)rotate(0)\"><text x=\"15.00\" y=\"2.81\" style=\"\">Stellen</text></g><g transform=\"translate(409.86,154.86)rotate(0)\"><text x=\"15.00\" y=\"2.81\" style=\"\">dafÃ¼r</text></g><g transform=\"translate(409.86,173.00)rotate(0)\"><text x=\"15.00\" y=\"2.81\" style=\"\">sorgen</text></g><g transform=\"translate(409.86,64.15)rotate(0)\"><text x=\"15.00\" y=\"2.81\" style=\"\">Dabei</text></g><g transform=\"translate(409.86,82.29)rotate(0)\"><text x=\"15.00\" y=\"2.81\" style=\"\">mÃ¼Ãten</text></g><g transform=\"translate(409.86,535.85)rotate(0)\"><text x=\"15.00\" y=\"2.81\" style=\"\">.</text></g><g transform=\"translate(409.86,427.00)rotate(0)\"><text x=\"15.00\" y=\"2.81\" style=\"\">,</text></g><g transform=\"translate(409.86,191.15)rotate(0)\"><text x=\"15.00\" y=\"2.81\" style=\"\">,</text></g></g></g></g></g></svg><div class=\"toyplot-behavior\"><script>(function()\n",
       "{\n",
       "var modules={};\n",
       "})();</script></div></div>"
      ]
     },
     "metadata": {},
     "output_type": "display_data"
    }
   ],
   "source": [
    "c_tree.draw()"
   ]
  },
  {
   "cell_type": "code",
   "execution_count": 32,
   "metadata": {},
   "outputs": [
    {
     "data": {
      "text/plain": [
       "(<toyplot.canvas.Canvas at 0x16ae3fd90>,\n",
       " <toyplot.coordinates.Cartesian at 0x16ae2f690>,\n",
       " <toytree.Render.ToytreeMark at 0x16ae10750>)"
      ]
     },
     "execution_count": 32,
     "metadata": {},
     "output_type": "execute_result"
    },
    {
     "data": {
      "text/html": [
       "<div class=\"toyplot\" id=\"tcd0527326b534ad7a096fcffd8a14abe\" style=\"text-align:center\"><svg class=\"toyplot-canvas-Canvas\" xmlns:toyplot=\"http://www.sandia.gov/toyplot\" xmlns:xlink=\"http://www.w3.org/1999/xlink\" xmlns=\"http://www.w3.org/2000/svg\" width=\"600.0px\" height=\"600.0px\" viewBox=\"0 0 600.0 600.0\" preserveAspectRatio=\"xMidYMid meet\" style=\"background-color:transparent;border-color:#292724;border-style:none;border-width:1.0;fill:rgb(16.1%,15.3%,14.1%);fill-opacity:1.0;font-family:Helvetica;font-size:12px;opacity:1.0;stroke:rgb(16.1%,15.3%,14.1%);stroke-opacity:1.0;stroke-width:1.0\" id=\"tf51e7795845440738ee4d617515f4a25\"><g class=\"toyplot-coordinates-Cartesian\" id=\"tc9544da48e694a3fbfae33ec38fdb68c\"><clipPath id=\"t8c7719105a8444c8bc1cf9b68d166a20\"><rect x=\"30.0\" y=\"30.0\" width=\"540.0\" height=\"540.0\"></rect></clipPath><g clip-path=\"url(#t8c7719105a8444c8bc1cf9b68d166a20)\"><g class=\"toytree-mark-Toytree\" id=\"tc8cdecf8042549919e69c5ae5d4031af\"><g class=\"toytree-Edges\" style=\"fill:none;stroke:rgb(55.3%,62.7%,79.6%);stroke-linecap:round;stroke-opacity:0.5;stroke-width:2.5\"><path d=\"M 62.7 318.0 L 115.6 117.9\" id=\"38,37\"></path><path d=\"M 115.6 117.9 L 168.5 118.6\" id=\"37,36\"></path><path d=\"M 115.6 117.9 L 168.5 206.4\" id=\"37,35\"></path><path d=\"M 168.5 206.4 L 221.4 239.9\" id=\"35,34\"></path><path d=\"M 221.4 239.9 L 274.4 324.9\" id=\"34,33\"></path><path d=\"M 274.4 324.9 L 327.3 381.6\" id=\"33,32\"></path><path d=\"M 274.4 324.9 L 327.3 251.6\" id=\"33,31\"></path><path d=\"M 274.4 324.9 L 327.3 373.1\" id=\"33,30\"></path><path d=\"M 327.3 251.6 L 380.2 281.9\" id=\"31,29\"></path><path d=\"M 327.3 373.1 L 380.2 483.7\" id=\"30,28\"></path><path d=\"M 380.2 483.7 L 433.1 472.4\" id=\"28,27\"></path><path d=\"M 62.7 318.0 L 115.6 191.1\" id=\"38,26\"></path><path d=\"M 62.7 318.0 L 115.6 427.0\" id=\"38,25\"></path><path d=\"M 62.7 318.0 L 115.6 535.8\" id=\"38,24\"></path><path d=\"M 115.6 117.9 L 168.5 82.3\" id=\"37,23\"></path><path d=\"M 115.6 117.9 L 168.5 64.2\" id=\"37,22\"></path><path d=\"M 168.5 118.6 L 221.4 136.7\" id=\"36,21\"></path><path d=\"M 168.5 118.6 L 221.4 100.4\" id=\"36,20\"></path><path d=\"M 168.5 118.6 L 221.4 118.6\" id=\"36,19\"></path><path d=\"M 168.5 206.4 L 221.4 173.0\" id=\"35,18\"></path><path d=\"M 221.4 239.9 L 274.4 154.9\" id=\"34,17\"></path><path d=\"M 274.4 324.9 L 327.3 408.9\" id=\"33,16\"></path><path d=\"M 274.4 324.9 L 327.3 209.3\" id=\"33,15\"></path><path d=\"M 327.3 381.6 L 380.2 372.6\" id=\"32,14\"></path><path d=\"M 327.3 381.6 L 380.2 390.7\" id=\"32,13\"></path><path d=\"M 327.3 251.6 L 380.2 245.6\" id=\"31,12\"></path><path d=\"M 327.3 251.6 L 380.2 227.4\" id=\"31,11\"></path><path d=\"M 380.2 281.9 L 433.1 300.0\" id=\"29,10\"></path><path d=\"M 380.2 281.9 L 433.1 263.7\" id=\"29,9\"></path><path d=\"M 380.2 281.9 L 433.1 281.9\" id=\"29,8\"></path><path d=\"M 327.3 373.1 L 380.2 354.4\" id=\"30,7\"></path><path d=\"M 327.3 373.1 L 380.2 318.1\" id=\"30,6\"></path><path d=\"M 327.3 373.1 L 380.2 336.3\" id=\"30,5\"></path><path d=\"M 380.2 483.7 L 433.1 517.7\" id=\"28,4\"></path><path d=\"M 380.2 483.7 L 433.1 463.3\" id=\"28,3\"></path><path d=\"M 380.2 483.7 L 433.1 481.4\" id=\"28,2\"></path><path d=\"M 433.1 472.4 L 486.0 445.1\" id=\"27,1\"></path><path d=\"M 433.1 472.4 L 486.0 499.6\" id=\"27,0\"></path></g><g class=\"toytree-AlignEdges\" style=\"stroke:rgb(66.3%,66.3%,66.3%);stroke-dasharray:2, 4;stroke-linecap:round;stroke-opacity:1.0;stroke-width:2\"><path d=\"M 486.0 499.6 L 486.0 499.6\"></path><path d=\"M 486.0 445.1 L 486.0 445.1\"></path><path d=\"M 486.0 481.4 L 433.1 481.4\"></path><path d=\"M 486.0 463.3 L 433.1 463.3\"></path><path d=\"M 486.0 517.7 L 433.1 517.7\"></path><path d=\"M 486.0 336.3 L 380.2 336.3\"></path><path d=\"M 486.0 318.1 L 380.2 318.1\"></path><path d=\"M 486.0 354.4 L 380.2 354.4\"></path><path d=\"M 486.0 281.9 L 433.1 281.9\"></path><path d=\"M 486.0 263.7 L 433.1 263.7\"></path><path d=\"M 486.0 300.0 L 433.1 300.0\"></path><path d=\"M 486.0 227.4 L 380.2 227.4\"></path><path d=\"M 486.0 245.6 L 380.2 245.6\"></path><path d=\"M 486.0 390.7 L 380.2 390.7\"></path><path d=\"M 486.0 372.6 L 380.2 372.6\"></path><path d=\"M 486.0 209.3 L 327.3 209.3\"></path><path d=\"M 486.0 408.9 L 327.3 408.9\"></path><path d=\"M 486.0 154.9 L 274.4 154.9\"></path><path d=\"M 486.0 173.0 L 221.4 173.0\"></path><path d=\"M 486.0 118.6 L 221.4 118.6\"></path><path d=\"M 486.0 100.4 L 221.4 100.4\"></path><path d=\"M 486.0 136.7 L 221.4 136.7\"></path><path d=\"M 486.0 64.2 L 168.5 64.2\"></path><path d=\"M 486.0 82.3 L 168.5 82.3\"></path><path d=\"M 486.0 535.8 L 115.6 535.8\"></path><path d=\"M 486.0 427.0 L 115.6 427.0\"></path><path d=\"M 486.0 191.1 L 115.6 191.1\"></path></g><g class=\"toytree-Nodes\" style=\"fill:rgb(40%,76.1%,64.7%);fill-opacity:1.0;stroke:None;stroke-width:1\"><g id=\"node-0\" transform=\"translate(486.030,499.565)\"><circle r=\"7.5\"></circle></g><g id=\"node-1\" transform=\"translate(486.030,445.138)\"><circle r=\"7.5\"></circle></g><g id=\"node-2\" transform=\"translate(433.114,481.422)\"><circle r=\"7.5\"></circle></g><g id=\"node-3\" transform=\"translate(433.114,463.280)\"><circle r=\"7.5\"></circle></g><g id=\"node-4\" transform=\"translate(433.114,517.707)\"><circle r=\"7.5\"></circle></g><g id=\"node-5\" transform=\"translate(380.197,336.284)\"><circle r=\"7.5\"></circle></g><g id=\"node-6\" transform=\"translate(380.197,318.142)\"><circle r=\"7.5\"></circle></g><g id=\"node-7\" transform=\"translate(380.197,354.427)\"><circle r=\"7.5\"></circle></g><g id=\"node-8\" transform=\"translate(433.114,281.858)\"><circle r=\"7.5\"></circle></g><g id=\"node-9\" transform=\"translate(433.114,263.716)\"><circle r=\"7.5\"></circle></g><g id=\"node-10\" transform=\"translate(433.114,300.000)\"><circle r=\"7.5\"></circle></g><g id=\"node-11\" transform=\"translate(380.197,227.431)\"><circle r=\"7.5\"></circle></g><g id=\"node-12\" transform=\"translate(380.197,245.573)\"><circle r=\"7.5\"></circle></g><g id=\"node-13\" transform=\"translate(380.197,390.711)\"><circle r=\"7.5\"></circle></g><g id=\"node-14\" transform=\"translate(380.197,372.569)\"><circle r=\"7.5\"></circle></g><g id=\"node-15\" transform=\"translate(327.281,209.289)\"><circle r=\"7.5\"></circle></g><g id=\"node-16\" transform=\"translate(327.281,408.853)\"><circle r=\"7.5\"></circle></g><g id=\"node-17\" transform=\"translate(274.365,154.862)\"><circle r=\"7.5\"></circle></g><g id=\"node-18\" transform=\"translate(221.449,173.004)\"><circle r=\"7.5\"></circle></g><g id=\"node-19\" transform=\"translate(221.449,118.578)\"><circle r=\"7.5\"></circle></g><g id=\"node-20\" transform=\"translate(221.449,100.435)\"><circle r=\"7.5\"></circle></g><g id=\"node-21\" transform=\"translate(221.449,136.720)\"><circle r=\"7.5\"></circle></g><g id=\"node-22\" transform=\"translate(168.532,64.151)\"><circle r=\"7.5\"></circle></g><g id=\"node-23\" transform=\"translate(168.532,82.293)\"><circle r=\"7.5\"></circle></g><g id=\"node-24\" transform=\"translate(115.616,535.849)\"><circle r=\"7.5\"></circle></g><g id=\"node-25\" transform=\"translate(115.616,426.996)\"><circle r=\"7.5\"></circle></g><g id=\"node-26\" transform=\"translate(115.616,191.147)\"><circle r=\"7.5\"></circle></g><g id=\"node-27\" transform=\"translate(433.114,472.351)\"><circle r=\"7.5\"></circle></g><g id=\"node-28\" transform=\"translate(380.197,483.690)\"><circle r=\"7.5\"></circle></g><g id=\"node-29\" transform=\"translate(380.197,281.858)\"><circle r=\"7.5\"></circle></g><g id=\"node-30\" transform=\"translate(327.281,373.136)\"><circle r=\"7.5\"></circle></g><g id=\"node-31\" transform=\"translate(327.281,251.621)\"><circle r=\"7.5\"></circle></g><g id=\"node-32\" transform=\"translate(327.281,381.640)\"><circle r=\"7.5\"></circle></g><g id=\"node-33\" transform=\"translate(274.365,324.908)\"><circle r=\"7.5\"></circle></g><g id=\"node-34\" transform=\"translate(221.449,239.885)\"><circle r=\"7.5\"></circle></g><g id=\"node-35\" transform=\"translate(168.532,206.445)\"><circle r=\"7.5\"></circle></g><g id=\"node-36\" transform=\"translate(168.532,118.578)\"><circle r=\"7.5\"></circle></g><g id=\"node-37\" transform=\"translate(115.616,117.867)\"><circle r=\"7.5\"></circle></g><g id=\"node-38\" transform=\"translate(62.700,317.964)\"><circle r=\"7.5\"></circle></g></g><g class=\"toytree-NodeLabels\" style=\"fill:rgb(14.9%,14.9%,14.9%);fill-opacity:1.0;font-size:9px;stroke:none\"><g transform=\"translate(477.27,501.86)\"><text>25.?</text></g><g transform=\"translate(477.27,447.44)\"><text>22.?</text></g><g transform=\"translate(424.36,483.72)\"><text>24.?</text></g><g transform=\"translate(424.36,465.58)\"><text>23.?</text></g><g transform=\"translate(424.36,520.01)\"><text>26.?</text></g><g transform=\"translate(371.44,338.58)\"><text>16.?</text></g><g transform=\"translate(371.44,320.44)\"><text>15.?</text></g><g transform=\"translate(371.44,356.73)\"><text>17.?</text></g><g transform=\"translate(424.36,284.16)\"><text>13.?</text></g><g transform=\"translate(424.36,266.02)\"><text>12.?</text></g><g transform=\"translate(424.36,302.30)\"><text>14.?</text></g><g transform=\"translate(371.44,229.73)\"><text>10.?</text></g><g transform=\"translate(371.44,247.87)\"><text>11.?</text></g><g transform=\"translate(371.44,393.01)\"><text>19.?</text></g><g transform=\"translate(371.44,374.87)\"><text>18.?</text></g><g transform=\"translate(321.03,211.59)\"><text>9.?</text></g><g transform=\"translate(318.52,411.15)\"><text>20.?</text></g><g transform=\"translate(268.11,157.16)\"><text>6.?</text></g><g transform=\"translate(215.19,175.30)\"><text>7.?</text></g><g transform=\"translate(215.19,120.88)\"><text>4.?</text></g><g transform=\"translate(215.19,102.73)\"><text>3.?</text></g><g transform=\"translate(215.19,139.02)\"><text>5.?</text></g><g transform=\"translate(162.28,66.45)\"><text>1.?</text></g><g transform=\"translate(162.28,84.59)\"><text>2.?</text></g><g transform=\"translate(106.86,538.15)\"><text>27.?</text></g><g transform=\"translate(106.86,429.30)\"><text>21.?</text></g><g transform=\"translate(109.36,193.45)\"><text>8.?</text></g><g transform=\"translate(426.86,474.65)\"><text>NP</text></g><g transform=\"translate(377.20,485.99)\"><text>S</text></g><g transform=\"translate(373.95,284.16)\"><text>NP</text></g><g transform=\"translate(321.03,375.44)\"><text>NP</text></g><g transform=\"translate(321.03,253.92)\"><text>NP</text></g><g transform=\"translate(321.28,383.94)\"><text>PP</text></g><g transform=\"translate(271.36,327.21)\"><text>S</text></g><g transform=\"translate(215.45,242.18)\"><text>PP</text></g><g transform=\"translate(162.53,208.74)\"><text>VP</text></g><g transform=\"translate(162.28,120.88)\"><text>NP</text></g><g transform=\"translate(112.61,120.17)\"><text>S</text></g><g transform=\"translate(46.70,320.26)\"><text>VROOT</text></g></g><g class=\"toytree-TipLabels\" style=\"fill:rgb(14.9%,14.9%,14.9%);fill-opacity:1.0;font-family:helvetica;font-size:11px;font-weight:normal;stroke:none;white-space:pre\"><g transform=\"translate(486.03,499.56)rotate(0)\"><text x=\"15.00\" y=\"2.81\" style=\"\">selbst</text></g><g transform=\"translate(486.03,445.14)rotate(0)\"><text x=\"15.00\" y=\"2.81\" style=\"\">die</text></g><g transform=\"translate(486.03,481.42)rotate(0)\"><text x=\"15.00\" y=\"2.81\" style=\"\">nicht</text></g><g transform=\"translate(486.03,463.28)rotate(0)\"><text x=\"15.00\" y=\"2.81\" style=\"\">sie</text></g><g transform=\"translate(486.03,517.71)rotate(0)\"><text x=\"15.00\" y=\"2.81\" style=\"\">besitzen</text></g><g transform=\"translate(486.03,336.28)rotate(0)\"><text x=\"15.00\" y=\"2.81\" style=\"\">jenen</text></g><g transform=\"translate(486.03,318.14)rotate(0)\"><text x=\"15.00\" y=\"2.81\" style=\"\">auch</text></g><g transform=\"translate(486.03,354.43)rotate(0)\"><text x=\"15.00\" y=\"2.81\" style=\"\">Programmanbietern</text></g><g transform=\"translate(486.03,281.86)rotate(0)\"><text x=\"15.00\" y=\"2.81\" style=\"\">digitalen</text></g><g transform=\"translate(486.03,263.72)rotate(0)\"><text x=\"15.00\" y=\"2.81\" style=\"\">des</text></g><g transform=\"translate(486.03,300.00)rotate(0)\"><text x=\"15.00\" y=\"2.81\" style=\"\">Fernsehens</text></g><g transform=\"translate(486.03,227.43)rotate(0)\"><text x=\"15.00\" y=\"2.81\" style=\"\">die</text></g><g transform=\"translate(486.03,245.57)rotate(0)\"><text x=\"15.00\" y=\"2.81\" style=\"\">Bausteine</text></g><g transform=\"translate(486.03,390.71)rotate(0)\"><text x=\"15.00\" y=\"2.81\" style=\"\">VerfÃ¼gung</text></g><g transform=\"translate(486.03,372.57)rotate(0)\"><text x=\"15.00\" y=\"2.81\" style=\"\">zur</text></g><g transform=\"translate(486.03,209.29)rotate(0)\"><text x=\"15.00\" y=\"2.81\" style=\"\">daÃ</text></g><g transform=\"translate(486.03,408.85)rotate(0)\"><text x=\"15.00\" y=\"2.81\" style=\"\">stehen</text></g><g transform=\"translate(486.03,154.86)rotate(0)\"><text x=\"15.00\" y=\"2.81\" style=\"\">dafÃ¼r</text></g><g transform=\"translate(486.03,173.00)rotate(0)\"><text x=\"15.00\" y=\"2.81\" style=\"\">sorgen</text></g><g transform=\"translate(486.03,118.58)rotate(0)\"><text x=\"15.00\" y=\"2.81\" style=\"\">staatlichen</text></g><g transform=\"translate(486.03,100.44)rotate(0)\"><text x=\"15.00\" y=\"2.81\" style=\"\">die</text></g><g transform=\"translate(486.03,136.72)rotate(0)\"><text x=\"15.00\" y=\"2.81\" style=\"\">Stellen</text></g><g transform=\"translate(486.03,64.15)rotate(0)\"><text x=\"15.00\" y=\"2.81\" style=\"\">Dabei</text></g><g transform=\"translate(486.03,82.29)rotate(0)\"><text x=\"15.00\" y=\"2.81\" style=\"\">mÃ¼Ãten</text></g><g transform=\"translate(486.03,535.85)rotate(0)\"><text x=\"15.00\" y=\"2.81\" style=\"\">.</text></g><g transform=\"translate(486.03,427.00)rotate(0)\"><text x=\"15.00\" y=\"2.81\" style=\"\">,</text></g><g transform=\"translate(486.03,191.15)rotate(0)\"><text x=\"15.00\" y=\"2.81\" style=\"\">,</text></g></g></g></g></g></svg><div class=\"toyplot-behavior\"><script>(function()\n",
       "{\n",
       "var modules={};\n",
       "})();</script></div></div>"
      ]
     },
     "metadata": {},
     "output_type": "display_data"
    }
   ],
   "source": [
    "t_c_tree.draw()"
   ]
  },
  {
   "cell_type": "markdown",
   "metadata": {},
   "source": [
    "# Evaluation"
   ]
  },
  {
   "cell_type": "code",
   "execution_count": 33,
   "metadata": {},
   "outputs": [],
   "source": [
    "from discodop import eval\n",
    "from discodop import tree"
   ]
  },
  {
   "cell_type": "code",
   "execution_count": 40,
   "metadata": {},
   "outputs": [],
   "source": [
    "c_tree_tree, c_tree_sent = tree.brackettree(c_tree.get_bracket(zero_indexed=True), detectdisc=True)\n",
    "t_c_tree_tree, t_c_tree_sent = tree.brackettree(t_c_tree.get_bracket(zero_indexed=True), detectdisc=True)"
   ]
  },
  {
   "cell_type": "code",
   "execution_count": 77,
   "metadata": {},
   "outputs": [],
   "source": [
    "params = {'LABELED': {},\n",
    "          'DELETE_LABEL': set(),\n",
    "          'DISC_ONLY': False,\n",
    "\n",
    "\n",
    "          'DELETE_WORD': set(),\n",
    "          'EQ_LABEL': {}, 'EQ_WORD': {},\n",
    "          'DELETE_ROOT_PRETERMS': 0,\n",
    "          'DELETE_LABEL_FOR_LENGTH': {}, \n",
    "\n",
    "          # do not calculate these unneeded metrics\n",
    "          'LA': False,\n",
    "          'TED': False,\n",
    "          'DEP': False\n",
    "          }"
   ]
  },
  {
   "cell_type": "code",
   "execution_count": null,
   "metadata": {},
   "outputs": [],
   "source": []
  }
 ],
 "metadata": {
  "kernelspec": {
   "display_name": "german",
   "language": "python",
   "name": "python3"
  },
  "language_info": {
   "codemirror_mode": {
    "name": "ipython",
    "version": 3
   },
   "file_extension": ".py",
   "mimetype": "text/x-python",
   "name": "python",
   "nbconvert_exporter": "python",
   "pygments_lexer": "ipython3",
   "version": "3.11.4"
  },
  "orig_nbformat": 4
 },
 "nbformat": 4,
 "nbformat_minor": 2
}
