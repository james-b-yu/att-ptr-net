{
 "cells": [
  {
   "cell_type": "code",
   "execution_count": 1,
   "metadata": {},
   "outputs": [],
   "source": [
    "import logging\n",
    "logging.basicConfig(level=logging.INFO)\n",
    "logger = logging.getLogger(__name__)\n",
    "import torch\n",
    "import torch.nn.functional as F"
   ]
  },
  {
   "cell_type": "code",
   "execution_count": 2,
   "metadata": {},
   "outputs": [],
   "source": [
    "from german_parser.util.const import CONSTS\n",
    "from german_parser.util.dataloader import TigerDatasetGenerator\n",
    "import dill as pickle\n",
    "from string import punctuation"
   ]
  },
  {
   "cell_type": "code",
   "execution_count": 3,
   "metadata": {},
   "outputs": [],
   "source": [
    "# character_flag_generators = [\n",
    "#             lambda c: int(c.isupper()),\n",
    "#             lambda c: int(c.lower() in [\"ä\", \"ö\", \"ü\", \"ß\"]),\n",
    "#             lambda c: int(c.isdigit()),\n",
    "#             lambda c: int(c in punctuation)\n",
    "#         ]\n",
    "# dataset_generator = TigerDatasetGenerator(f\"{CONSTS['data_dir']}/tiger/tiger_2.2_utf8.xml\", (0.2, 0.1), character_flag_generators=character_flag_generators) # type:ignore\n",
    "\n",
    "# required_vars = (*dataset_generator.get_training_dataloader(batch_size=32, shuffle=True), dataset_generator.character_set, dataset_generator.character_flag_generators, dataset_generator.inverse_word_dict)\n",
    "\n",
    "# pickle.dump(required_vars, open(\"required_vars.pkl\", \"wb\"))"
   ]
  },
  {
   "cell_type": "code",
   "execution_count": 4,
   "metadata": {},
   "outputs": [],
   "source": [
    "train_dataloader, train_new_words, character_set, character_flag_generators, inverse_word_dict = pickle.load(open(\"required_vars.pkl\", \"rb\"))"
   ]
  },
  {
   "cell_type": "code",
   "execution_count": 5,
   "metadata": {},
   "outputs": [],
   "source": [
    "from german_parser.model import TigerModel"
   ]
  },
  {
   "cell_type": "code",
   "execution_count": 7,
   "metadata": {},
   "outputs": [
    {
     "data": {
      "text/plain": [
       "16205163"
      ]
     },
     "execution_count": 7,
     "metadata": {},
     "output_type": "execute_result"
    }
   ],
   "source": [
    "model = TigerModel(TigerModel.WordEmbeddingParams(char_set=character_set, char_flag_generators=character_flag_generators, char_internal_embedding_dim=10, char_part_embedding_dim=100, word_part_embedding_dim=100, char_internal_window_size=3, word_dict=inverse_word_dict), TigerModel.LSTMParams(hidden_size=512, bidirectional=True), TigerModel.LSTMParams(hidden_size=512, bidirectional=False))\n",
    "model.cuda()\n",
    "sum([p.numel() for p in model.parameters()])"
   ]
  },
  {
   "cell_type": "code",
   "execution_count": 7,
   "metadata": {},
   "outputs": [],
   "source": [
    "optim = torch.optim.Adam(model.parameters(), lr=1e-2)"
   ]
  },
  {
   "cell_type": "code",
   "execution_count": 8,
   "metadata": {},
   "outputs": [
    {
     "name": "stdout",
     "output_type": "stream",
     "text": [
      "iteration 1 loss 3.170976\n",
      "iteration 2 loss 3.009099\n",
      "iteration 3 loss 3.284932\n",
      "iteration 4 loss 2.960798\n",
      "iteration 5 loss 3.036205\n",
      "iteration 6 loss 3.179747\n",
      "iteration 7 loss 3.141706\n",
      "iteration 8 loss 3.155389\n",
      "iteration 9 loss 2.963340\n",
      "iteration 10 loss 3.074751\n"
     ]
    },
    {
     "ename": "KeyboardInterrupt",
     "evalue": "",
     "output_type": "error",
     "traceback": [
      "\u001b[0;31m---------------------------------------------------------------------------\u001b[0m",
      "\u001b[0;31mKeyboardInterrupt\u001b[0m                         Traceback (most recent call last)",
      "Cell \u001b[0;32mIn[8], line 14\u001b[0m\n\u001b[1;32m     11\u001b[0m words \u001b[39m=\u001b[39m words\u001b[39m.\u001b[39mcuda()\n\u001b[1;32m     12\u001b[0m target_heads \u001b[39m=\u001b[39m target_heads\u001b[39m.\u001b[39mcuda()\n\u001b[0;32m---> 14\u001b[0m self_attention, labels, indices \u001b[39m=\u001b[39m model((words, sentence_lengths), train_new_words)\n\u001b[1;32m     15\u001b[0m loss \u001b[39m=\u001b[39m F\u001b[39m.\u001b[39mcross_entropy(self_attention[indices], target_heads[indices])\n\u001b[1;32m     17\u001b[0m \u001b[39mprint\u001b[39m(\u001b[39mf\u001b[39m\u001b[39m\"\u001b[39m\u001b[39miteration \u001b[39m\u001b[39m{\u001b[39;00mi\u001b[39m}\u001b[39;00m\u001b[39m loss \u001b[39m\u001b[39m{\u001b[39;00mloss\u001b[39m.\u001b[39mitem()\u001b[39m:\u001b[39;00m\u001b[39m.6f\u001b[39m\u001b[39m}\u001b[39;00m\u001b[39m\"\u001b[39m)\n",
      "File \u001b[0;32m~/anaconda3/envs/german/lib/python3.11/site-packages/torch/nn/modules/module.py:1501\u001b[0m, in \u001b[0;36mModule._call_impl\u001b[0;34m(self, *args, **kwargs)\u001b[0m\n\u001b[1;32m   1496\u001b[0m \u001b[39m# If we don't have any hooks, we want to skip the rest of the logic in\u001b[39;00m\n\u001b[1;32m   1497\u001b[0m \u001b[39m# this function, and just call forward.\u001b[39;00m\n\u001b[1;32m   1498\u001b[0m \u001b[39mif\u001b[39;00m \u001b[39mnot\u001b[39;00m (\u001b[39mself\u001b[39m\u001b[39m.\u001b[39m_backward_hooks \u001b[39mor\u001b[39;00m \u001b[39mself\u001b[39m\u001b[39m.\u001b[39m_backward_pre_hooks \u001b[39mor\u001b[39;00m \u001b[39mself\u001b[39m\u001b[39m.\u001b[39m_forward_hooks \u001b[39mor\u001b[39;00m \u001b[39mself\u001b[39m\u001b[39m.\u001b[39m_forward_pre_hooks\n\u001b[1;32m   1499\u001b[0m         \u001b[39mor\u001b[39;00m _global_backward_pre_hooks \u001b[39mor\u001b[39;00m _global_backward_hooks\n\u001b[1;32m   1500\u001b[0m         \u001b[39mor\u001b[39;00m _global_forward_hooks \u001b[39mor\u001b[39;00m _global_forward_pre_hooks):\n\u001b[0;32m-> 1501\u001b[0m     \u001b[39mreturn\u001b[39;00m forward_call(\u001b[39m*\u001b[39;49margs, \u001b[39m*\u001b[39;49m\u001b[39m*\u001b[39;49mkwargs)\n\u001b[1;32m   1502\u001b[0m \u001b[39m# Do not call functions when jit is used\u001b[39;00m\n\u001b[1;32m   1503\u001b[0m full_backward_hooks, non_full_backward_hooks \u001b[39m=\u001b[39m [], []\n",
      "File \u001b[0;32m~/programming/ml/german/german_parser/model/tiger_model.py:187\u001b[0m, in \u001b[0;36mTigerModel.forward\u001b[0;34m(self, input, new_words_dict)\u001b[0m\n\u001b[1;32m    183\u001b[0m self_attention \u001b[39m=\u001b[39m \u001b[39mself\u001b[39m\u001b[39m.\u001b[39mbiaffine_attention(enc_out_pad, dec_out_pad) \u001b[39m# size (B, T, T + 1). index by (batch_num, decoder_index, encoder_index + 1), which represents (batch_num, dependency_index, head_index + 1)\u001b[39;00m\n\u001b[1;32m    185\u001b[0m \u001b[39m# TASK 2: predict ATTACHMENT labels\u001b[39;00m\n\u001b[1;32m    186\u001b[0m \u001b[39m# for batch b and dependency index j and head index i, constituent_lables[b, j, i] gives logits to classify the label of the dependency from word j to HEAD word i\u001b[39;00m\n\u001b[0;32m--> 187\u001b[0m constituent_labels \u001b[39m=\u001b[39m \u001b[39mself\u001b[39;49m\u001b[39m.\u001b[39;49mbiaffine_constituent_classifier(enc_out_pad, dec_out_pad) \u001b[39m# size (B, T, T + 1, num_constituent_labels). index by (batch_num, decoder_index, encoder_index + 1, label_index), which represents (batch_num, dependency_index, head_index + 1, label_index)\u001b[39;00m\n\u001b[1;32m    189\u001b[0m \u001b[39m# TASK 3: predict attachment ORDER\u001b[39;00m\n\u001b[1;32m    191\u001b[0m \u001b[39mself\u001b[39m\u001b[39m.\u001b[39m_mask_out(self_attention, lengths)\n",
      "File \u001b[0;32m~/anaconda3/envs/german/lib/python3.11/site-packages/torch/nn/modules/module.py:1501\u001b[0m, in \u001b[0;36mModule._call_impl\u001b[0;34m(self, *args, **kwargs)\u001b[0m\n\u001b[1;32m   1496\u001b[0m \u001b[39m# If we don't have any hooks, we want to skip the rest of the logic in\u001b[39;00m\n\u001b[1;32m   1497\u001b[0m \u001b[39m# this function, and just call forward.\u001b[39;00m\n\u001b[1;32m   1498\u001b[0m \u001b[39mif\u001b[39;00m \u001b[39mnot\u001b[39;00m (\u001b[39mself\u001b[39m\u001b[39m.\u001b[39m_backward_hooks \u001b[39mor\u001b[39;00m \u001b[39mself\u001b[39m\u001b[39m.\u001b[39m_backward_pre_hooks \u001b[39mor\u001b[39;00m \u001b[39mself\u001b[39m\u001b[39m.\u001b[39m_forward_hooks \u001b[39mor\u001b[39;00m \u001b[39mself\u001b[39m\u001b[39m.\u001b[39m_forward_pre_hooks\n\u001b[1;32m   1499\u001b[0m         \u001b[39mor\u001b[39;00m _global_backward_pre_hooks \u001b[39mor\u001b[39;00m _global_backward_hooks\n\u001b[1;32m   1500\u001b[0m         \u001b[39mor\u001b[39;00m _global_forward_hooks \u001b[39mor\u001b[39;00m _global_forward_pre_hooks):\n\u001b[0;32m-> 1501\u001b[0m     \u001b[39mreturn\u001b[39;00m forward_call(\u001b[39m*\u001b[39;49margs, \u001b[39m*\u001b[39;49m\u001b[39m*\u001b[39;49mkwargs)\n\u001b[1;32m   1502\u001b[0m \u001b[39m# Do not call functions when jit is used\u001b[39;00m\n\u001b[1;32m   1503\u001b[0m full_backward_hooks, non_full_backward_hooks \u001b[39m=\u001b[39m [], []\n",
      "File \u001b[0;32m~/programming/ml/german/german_parser/nn/biaffine.py:37\u001b[0m, in \u001b[0;36mBiAffine.forward\u001b[0;34m(self, enc, dec)\u001b[0m\n\u001b[1;32m     34\u001b[0m Z \u001b[39m=\u001b[39m \u001b[39mself\u001b[39m\u001b[39m.\u001b[39mZ[\u001b[39mNone\u001b[39;00m, \u001b[39mNone\u001b[39;00m, \u001b[39mNone\u001b[39;00m, :, :, :]            \u001b[39m# (1, 1, 1,     num_classes, dec_input_size, enc_input_size)\u001b[39;00m\n\u001b[1;32m     35\u001b[0m enc_brd \u001b[39m=\u001b[39m enc[:, \u001b[39mNone\u001b[39;00m, :, \u001b[39mNone\u001b[39;00m, :, \u001b[39mNone\u001b[39;00m]         \u001b[39m# (B, 1, T + 1, 1,           enc_input_size, 1)\u001b[39;00m\n\u001b[0;32m---> 37\u001b[0m interaction_score \u001b[39m=\u001b[39m (dec_brd\u001b[39m.\u001b[39;49mtranspose(\u001b[39m-\u001b[39;49m\u001b[39m1\u001b[39;49m, \u001b[39m-\u001b[39;49m\u001b[39m2\u001b[39;49m) \u001b[39m@\u001b[39;49m Z \u001b[39m@\u001b[39;49m enc_brd)\u001b[39m.\u001b[39;49msqueeze(\u001b[39m-\u001b[39;49m\u001b[39m1\u001b[39;49m, \u001b[39m-\u001b[39;49m\u001b[39m2\u001b[39;49m) \u001b[39m# (B, T, T + 1, num_classes) index via [batch_number, DECoder_index, ENCoder_index]\u001b[39;00m\n\u001b[1;32m     39\u001b[0m dec_brd \u001b[39m=\u001b[39m dec_brd\u001b[39m.\u001b[39msqueeze(\u001b[39m3\u001b[39m)\n\u001b[1;32m     40\u001b[0m enc_brd \u001b[39m=\u001b[39m enc_brd\u001b[39m.\u001b[39msqueeze(\u001b[39m3\u001b[39m)\n",
      "\u001b[0;31mKeyboardInterrupt\u001b[0m: "
     ]
    }
   ],
   "source": [
    "i = 0\n",
    "\n",
    "while True:\n",
    "    i += 1\n",
    "    model.train()\n",
    "    optim.zero_grad()\n",
    "    input = next(iter(train_dataloader))\n",
    "\n",
    "    words, sentence_lengths, target_heads = input\n",
    "    \n",
    "    words = words.cuda()\n",
    "    target_heads = target_heads.cuda()\n",
    "\n",
    "    self_attention, labels, indices = model((words, sentence_lengths), train_new_words)\n",
    "    loss = F.cross_entropy(self_attention[indices], target_heads[indices])\n",
    "\n",
    "    print(f\"iteration {i} loss {loss.item():.6f}\")\n",
    "\n",
    "    loss.backward()\n",
    "\n",
    "    optim.step()\n",
    "    "
   ]
  },
  {
   "cell_type": "code",
   "execution_count": null,
   "metadata": {},
   "outputs": [],
   "source": []
  }
 ],
 "metadata": {
  "kernelspec": {
   "display_name": "german",
   "language": "python",
   "name": "python3"
  },
  "language_info": {
   "codemirror_mode": {
    "name": "ipython",
    "version": 3
   },
   "file_extension": ".py",
   "mimetype": "text/x-python",
   "name": "python",
   "nbconvert_exporter": "python",
   "pygments_lexer": "ipython3",
   "version": "3.11.4"
  },
  "orig_nbformat": 4
 },
 "nbformat": 4,
 "nbformat_minor": 2
}
