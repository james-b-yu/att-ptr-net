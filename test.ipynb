{
 "cells": [
  {
   "cell_type": "code",
   "execution_count": 1,
   "metadata": {},
   "outputs": [],
   "source": [
    "import logging\n",
    "logging.basicConfig(level=logging.INFO)\n",
    "logger = logging.getLogger(__name__)\n",
    "import torch\n",
    "import torch.nn.functional as F\n",
    "\n",
    "from german_parser.util.const import CONSTS\n",
    "from german_parser.util.dataloader import TigerDatasetGenerator\n",
    "import dill as pickle\n",
    "from string import punctuation\n",
    "from german_parser.model import TigerModel\n",
    "from german_parser.util import BatchUnionFind\n",
    "\n",
    "from german_parser.util.c_and_d import Dependency, DependencyTree, ConstituentTree, Terminal\n",
    "from collections import defaultdict"
   ]
  },
  {
   "cell_type": "markdown",
   "metadata": {},
   "source": [
    "# Define Methods"
   ]
  },
  {
   "cell_type": "code",
   "execution_count": 9,
   "metadata": {},
   "outputs": [],
   "source": [
    "def find_tree(model: TigerModel, input: tuple[torch.Tensor, torch.Tensor], new_words_dict: dict[int, str] | None):\n",
    "    \"\"\"NOTE: indices are 1-indexed. index 0 corresponds to virtual root of D-tree (which is different from virtual root of C-tree)\n",
    "\n",
    "    Args:\n",
    "        model (TigerModel): _description_\n",
    "        input (tuple[torch.Tensor, torch.Tensor]): _description_\n",
    "        new_words_dict (dict[int, str] | None): _description_\n",
    "    \"\"\"    \n",
    "    x, lengths = input\n",
    "    self_attention, constituent_labels, attachment_orders, indices = model.forward(input, new_words_dict)\n",
    "    # self_attention has size (B, T, T + 1)\n",
    "\n",
    "    B, T, *_ = self_attention.shape\n",
    "    uf = BatchUnionFind(B, model.beam_size, N=T + 1, device=model.dummy_param.device)\n",
    "\n",
    "    # initialise beams by finding top-K most probable root nodes\n",
    "    best_roots = self_attention[:, :, 0].topk(k=model.beam_size, dim=-1)\n",
    "\n",
    "    current_root_indices = best_roots.indices # (B, K)\n",
    "    joint_logits = best_roots.values # (B, K)\n",
    "\n",
    "    edges = torch.zeros(B, model.beam_size, T, dtype=torch.long, device=model.dummy_param.device) # (B, K, T); m[b, k, t - 1] is the 1-indexed parent of 1-indexed node t, in batch b, beam k\n",
    "\n",
    "    same_as_beams = torch.zeros(B, model.beam_size) # m[b, k] == 1 if beam k in batch b is equal to beam 1 in batch b. allows us to keep track of duplicates. duplicates are when m[b, k] != k\n",
    "    \n",
    "    def beams_are_unique():\n",
    "        return same_as_beams == torch.arange(model.beam_size).repeat(B, 1) # return where m[b, k] == same_as_beams[b, k] != k\n",
    "\n",
    "\n",
    "    for t in range(T):\n",
    "        relevant_batches = t < lengths # used for updating the final arcs. otherwise, we get nans in batch b if t >= sentence_length[b]\n",
    "\n",
    "        arc_probs = self_attention[:, t, :].log_softmax(dim=-1) # (B, T + 1)\n",
    "\n",
    "        candidate_joint_logits = joint_logits[:, :, None] + arc_probs[:, None, :] # (B, K, T + 1); the heuristic we would like to maximise\n",
    "\n",
    "        children = torch.tensor(t + 1, device=model.dummy_param.device) # all batches and beams share the same child index (1-indexed)\n",
    "        parents = torch.arange(0, T + 1, 1, device=model.dummy_param.device, dtype=torch.long).repeat(B, model.beam_size, 1) # (B, K, T + 1), where m[b, k, t] = t to represent the index of each parent \n",
    "\n",
    "        # prevent cycles\n",
    "        disable_mask = uf.is_same_set(children.expand_as(parents), parents) # (B, K, T + 1); m[b, k, s + 1] is true if in batch b, beam k, joining child (t + 1) and parent (s + 1) would lead to a cycle\n",
    "        # avoid setting words as head that are beyond the end of the sentence\n",
    "        disable_mask[:, :, 1:] |= ~indices.unsqueeze(1).to(device=model.dummy_param.device) \n",
    "        # force beams to be unique\n",
    "        disable_mask |= ~beams_are_unique()[:, :, None]\n",
    "        # force root indices to be enabled\n",
    "        disable_mask[:, :, 1:][current_root_indices == t] = True # for the batches and beams where t would be a root node, t's parent must be 0 (cannot be 1:)\n",
    "        # prevent other indices from becoming root\n",
    "        disable_mask[:, :, 0][current_root_indices != t] = True\n",
    "        candidate_joint_logits[disable_mask] = -torch.inf # these indices can never be a maximiser\n",
    "\n",
    "        flattened_top_candidate_idx = candidate_joint_logits.flatten(-2, -1).topk(k=model.beam_size, dim=-1).indices # (B, K) in range [0, (K * T + 1)); for each batch, find top 10 best performing parent-beam combinations\n",
    "        \n",
    "        top_parents = parents.flatten(-2, -1).gather(index=flattened_top_candidate_idx, dim=-1) # (B, K); for each batch and beam, get the 1-indexed id of the parent we want to attach\n",
    "\n",
    "        batch_names = torch.arange(model.beam_size, device=model.dummy_param.device, dtype=torch.long).view(1, -1, 1).expand(B, -1, T + 1).flatten(-2, -1) # (B, K, T + 1); m[b, k, s] = k for all b, s, k\n",
    "        used_batches = batch_names.gather(index=flattened_top_candidate_idx, dim=-1) # (B, K) where each element is in the range [0, K). m[b, k] tells you what the kth new beam should be\n",
    "\n",
    "        same_as_beams = used_batches # we have copied over these beams, so for now, these beams must be equal\n",
    "\n",
    "        new_data = uf.data.gather(index=used_batches.unsqueeze(-1).expand_as(uf.data), dim=1)\n",
    "        new_rank = uf.rank.gather(index=used_batches.unsqueeze(-1).expand_as(uf.rank), dim=1)\n",
    "        new_edges = edges.gather(index=used_batches.unsqueeze(-1).expand_as(edges), dim=1)\n",
    "        new_joint_logits = candidate_joint_logits.flatten(-2, -1).gather(index=flattened_top_candidate_idx, dim=-1)\n",
    "        new_roots = current_root_indices.gather(index=used_batches, dim=-1)\n",
    "        \n",
    "\n",
    "        uf.data[relevant_batches] = new_data[relevant_batches]\n",
    "        uf.rank[relevant_batches] = new_rank[relevant_batches]\n",
    "        edges[relevant_batches] = new_edges[relevant_batches]\n",
    "        joint_logits[relevant_batches] = new_joint_logits[relevant_batches]\n",
    "        current_root_indices[relevant_batches] = new_roots[relevant_batches]\n",
    "\n",
    "        uf.union(children.expand_as(top_parents), top_parents)\n",
    "\n",
    "        edges[:, :, t] = top_parents\n",
    "        new_unique_beams = top_parents.gather(index=same_as_beams, dim=-1) != top_parents  # indicates the beams that have BECOME unqiue: given any batch b, suppose beam j was a copy of beam k. suppose the new parent for beam j is different to the new parent of beam k. then m[b, j] = True\n",
    "        same_as_beams[new_unique_beams] = torch.arange(model.beam_size).repeat(B, 1)[new_unique_beams]\n",
    "\n",
    "        pass\n",
    "\n",
    "    num_labels = constituent_labels.shape[-1]\n",
    "    num_attachment_orders = attachment_orders.shape[-1]\n",
    "\n",
    "    best_edges = edges[torch.arange(edges.shape[0]), joint_logits.argmax(dim=-1)] # (B, T) containing elements in range [0, T + 1), where m[b, t - 1] denotes the 1-indexed parent of 1-indexed node t\n",
    "\n",
    "    label_logits_best_edges = constituent_labels.gather(index=best_edges[:, :, None, None].expand(-1, -1, -1, num_labels), dim=2).squeeze(2)\n",
    "    attachment_logits_best_edges = attachment_orders.gather(index=best_edges[:, :, None, None].expand(-1, -1, -1, num_attachment_orders), dim=2).squeeze(2)\n",
    "\n",
    "    labels_best_edges = label_logits_best_edges.argmax(-1)\n",
    "    attachment_orders_best_edges = attachment_logits_best_edges.argmax(-1)\n",
    "\n",
    "    return best_edges, labels_best_edges, attachment_orders_best_edges, (edges, joint_logits)"
   ]
  },
  {
   "cell_type": "code",
   "execution_count": 10,
   "metadata": {},
   "outputs": [],
   "source": [
    "def get_bracket(c_tree: ConstituentTree, node: int|None=None, ignore_pre_terminal_sym: bool=False, ignore_non_terminal_sym: bool=False, ignore_all_syms: bool=False):\n",
    "    if node is None:\n",
    "        return get_bracket(c_tree,\n",
    "                           node=c_tree.root,\n",
    "                           ignore_pre_terminal_sym=ignore_pre_terminal_sym,\n",
    "                           ignore_non_terminal_sym=ignore_non_terminal_sym,\n",
    "                           ignore_all_syms=ignore_all_syms\n",
    "                           )\n",
    "    \n",
    "    c = c_tree.constituents[node]\n",
    "    if c.is_pre_terminal:\n",
    "        return f\"({'?' if ignore_pre_terminal_sym or ignore_all_syms else c.sym} {c.id}={c_tree.terminals[node].word})\"\n",
    "    \n",
    "    res = f\"({'?' if ignore_non_terminal_sym or ignore_all_syms else c.sym} \"\n",
    "    for child in c.children:\n",
    "        res += get_bracket(c_tree,\n",
    "                           node=child,\n",
    "                           ignore_pre_terminal_sym=ignore_pre_terminal_sym,\n",
    "                           ignore_non_terminal_sym=ignore_non_terminal_sym,\n",
    "                           ignore_all_syms=ignore_all_syms\n",
    "                           )\n",
    "        \n",
    "    res += \")\"\n",
    "    return res"
   ]
  },
  {
   "cell_type": "code",
   "execution_count": 11,
   "metadata": {},
   "outputs": [],
   "source": [
    "def create_d_tree(heads: torch.Tensor, labels: torch.Tensor, orders: torch.Tensor, word_ids: torch.Tensor, word_dict: dict[int, str]):\n",
    "    num_words = len(heads)\n",
    "    modifiers: dict[int, dict[int, list[Dependency]]] = defaultdict(lambda: defaultdict(lambda x=None: []))\n",
    "    terminals: dict[int, Terminal] = {}\n",
    "\n",
    "    for child, (head, label, order, word) in enumerate(zip(heads, labels, orders, word_ids), start=1):\n",
    "        head = int(head.item())\n",
    "        label = int(label.item())\n",
    "        order = int(order.item())\n",
    "        word = int(word.item())\n",
    "\n",
    "        terminals[child] = Terminal(\n",
    "            idx=child,\n",
    "            word=word_dict[word]\n",
    "        )\n",
    "\n",
    "        # child with head of 0 is the root node of the d-tree; don't add it to modifiers dict\n",
    "        if head == 0:\n",
    "            continue\n",
    "        \n",
    "        modifiers[head][order].append(Dependency(head=head, modifier=child, sym=inverse_sym_dict[label]))\n",
    "\n",
    "    # with an ordering, all arcs must have the same symbol between dependency and head\n",
    "    for h in modifiers:\n",
    "        for o in modifiers[h]:\n",
    "            dependencies = modifiers[h][o]\n",
    "            closest_dependency_to_head = max(dependencies, key=lambda d: abs(d.head - d.modifier))\n",
    "            for d in dependencies:\n",
    "                if d.sym != closest_dependency_to_head.sym:\n",
    "                    print(f\"Warning: arc symbol from {d.modifier} to {d.head} ({d.sym}) does not match arc from closest dependency {closest_dependency_to_head.modifier} ({closest_dependency_to_head.sym}). Setting this to ({closest_dependency_to_head.sym})\")\n",
    "                    d.sym = closest_dependency_to_head.sym\n",
    "            pass\n",
    "\n",
    "    return DependencyTree(modifiers=modifiers, terminals=terminals, num_words=num_words)\n",
    "\n",
    "def create_c_tree(heads: torch.Tensor, labels: torch.Tensor, orders: torch.Tensor, word_ids: torch.Tensor, word_dict: dict[int, str]):\n",
    "    d_tree = create_d_tree(heads, labels, orders, word_ids, word_dict)\n",
    "    return ConstituentTree.from_d_tree(d_tree)"
   ]
  },
  {
   "cell_type": "markdown",
   "metadata": {},
   "source": [
    "# Playing Around"
   ]
  },
  {
   "cell_type": "code",
   "execution_count": 6,
   "metadata": {},
   "outputs": [],
   "source": [
    "(train_dataloader, train_new_words), (dev_dataloader, dev_new_words), (test_dataloader, test_new_words), character_set, character_flag_generators, inverse_word_dict, inverse_sym_dict = pickle.load(open(\"required_vars.pkl\", \"rb\"))\n",
    "model: TigerModel = pickle.load(open(\"./models/epoch_25_cpu_eval.pickle\", \"rb\"))\n",
    "dl_en = enumerate(test_dataloader)\n",
    "_, (x, l, target_ex, target_lab, target_att) = next(dl_en)"
   ]
  },
  {
   "cell_type": "code",
   "execution_count": 12,
   "metadata": {},
   "outputs": [],
   "source": [
    "best_edges, labels_best_edges, attachment_orders_best_edges, (edges, joint_logits) = find_tree(model, (x, l), test_new_words)"
   ]
  },
  {
   "cell_type": "code",
   "execution_count": 13,
   "metadata": {},
   "outputs": [
    {
     "data": {
      "text/plain": [
       "tensor([ 1.1600,  0.6360,  0.4139,  0.3725,  0.3133, -0.8975, -1.4497, -1.9736,\n",
       "        -2.1114, -2.1957], grad_fn=<SelectBackward0>)"
      ]
     },
     "execution_count": 13,
     "metadata": {},
     "output_type": "execute_result"
    }
   ],
   "source": [
    "joint_logits[0]"
   ]
  },
  {
   "cell_type": "code",
   "execution_count": 15,
   "metadata": {},
   "outputs": [],
   "source": [
    "s_num = 3\n",
    "\n",
    "words = x[s_num, :l[s_num]].to(\"cpu\")\n",
    "\n",
    "ex = best_edges[s_num, :l[s_num]].to(\"cpu\")\n",
    "lab = labels_best_edges[s_num, :l[s_num]].to(\"cpu\")\n",
    "att = attachment_orders_best_edges[s_num, :l[s_num]].to(\"cpu\")\n",
    "\n",
    "t_ex = target_ex[s_num, :l[s_num]].to(\"cpu\")\n",
    "t_lab = target_lab[s_num, :l[s_num]].to(\"cpu\")\n",
    "t_att = target_att[s_num, :l[s_num]].to(\"cpu\")"
   ]
  },
  {
   "cell_type": "code",
   "execution_count": 16,
   "metadata": {},
   "outputs": [
    {
     "name": "stdout",
     "output_type": "stream",
     "text": [
      "TreePlot[{{14->1, \"VROOT#2\"}, {3->2, \"NP#1\"}, {14->3, \"S#1\"}, {14->4, \"VROOT#2\"}, {6->5, \"NP#1\"}, {3->6, \"NP#1\"}, {14->7, \"VROOT#2\"}, {12->8, \"S#1\"}, {12->9, \"VP#1\"}, {9->10, \"CNP#1\"}, {9->11, \"CNP#1\"}, {6->12, \"NP#1\"}, {14->13, \"VROOT#2\"}, {0->14, \"DROOT#1\"}, {20->15, \"VP#1\"}, {20->16, \"VP#1\"}, {16->17, \"PP#1\"}, {17->18, \"CNP#1\"}, {17->19, \"CNP#1\"}, {14->20, \"S#1\"}, {14->21, \"VROOT#2\"}, {24->22, \"VP#1\"}, {24->23, \"VP#1\"}, {20->24, \"VP#1\"}, {14->25, \"VROOT#2\"}}, Top, 0, VertexLabels -> Automatic, DirectedEdges -> True]\n"
     ]
    }
   ],
   "source": [
    "edges = []\n",
    "\n",
    "for i, (i_parent, i_lab, i_att) in enumerate(zip(ex, lab, att), 1):\n",
    "    edges.append(f\"{{{i_parent}->{i}, \\\"{inverse_sym_dict[i_lab.item()]}#{i_att}\\\"}}\")\n",
    "\n",
    "print(f\"TreePlot[{{{', '.join(edges)}}}, Top, 0, VertexLabels -> Automatic, DirectedEdges -> True]\")"
   ]
  },
  {
   "cell_type": "code",
   "execution_count": 17,
   "metadata": {},
   "outputs": [
    {
     "name": "stdout",
     "output_type": "stream",
     "text": [
      "TreePlot[{{14->1, \"VROOT#2\"}, {3->2, \"NP#1\"}, {14->3, \"S#1\"}, {14->4, \"VROOT#2\"}, {6->5, \"NP#1\"}, {3->6, \"NP#1\"}, {14->7, \"VROOT#2\"}, {12->8, \"S#1\"}, {12->9, \"S#1\"}, {9->10, \"CNP#1\"}, {9->11, \"CNP#1\"}, {6->12, \"NP#1\"}, {14->13, \"VROOT#2\"}, {0->14, \"DROOT#1\"}, {20->15, \"VP#1\"}, {20->16, \"VP#1\"}, {16->17, \"PP#1\"}, {17->18, \"CNP#1\"}, {17->19, \"CNP#1\"}, {14->20, \"S#1\"}, {14->21, \"VROOT#2\"}, {24->22, \"VP#1\"}, {24->23, \"VP#1\"}, {20->24, \"VP#1\"}, {14->25, \"VROOT#2\"}}, Top, 0, VertexLabels -> Automatic, DirectedEdges -> True]\n"
     ]
    }
   ],
   "source": [
    "target_edges = []\n",
    "\n",
    "for i, (i_parent, i_lab, i_att) in enumerate(zip(t_ex, t_lab, t_att), 1):\n",
    "    target_edges.append(f\"{{{i_parent}->{i}, \\\"{inverse_sym_dict[i_lab.item()]}#{i_att}\\\"}}\")\n",
    "\n",
    "print(f\"TreePlot[{{{', '.join(target_edges)}}}, Top, 0, VertexLabels -> Automatic, DirectedEdges -> True]\")"
   ]
  },
  {
   "cell_type": "code",
   "execution_count": 18,
   "metadata": {},
   "outputs": [
    {
     "name": "stdout",
     "output_type": "stream",
     "text": [
      "Warning: arc symbol from 9 to 12 (VP) does not match arc from closest dependency 8 (S). Setting this to (S)\n"
     ]
    }
   ],
   "source": [
    "c_tree = create_c_tree(heads=ex, labels=lab, orders=att, word_ids=words, word_dict={**inverse_word_dict, **{-i: w for i, w in test_new_words.items()}})\n",
    "t_c_tree = create_c_tree(heads=t_ex, labels=t_lab, orders=t_att, word_ids=words, word_dict={**inverse_word_dict, **{-i: w for i, w in test_new_words.items()}})"
   ]
  },
  {
   "cell_type": "code",
   "execution_count": 19,
   "metadata": {},
   "outputs": [
    {
     "data": {
      "text/plain": [
       "\"(VROOT (S (? 14=werde)(NP (? 3=Großteil)(? 2=Ein)(NP (? 6=Entscheidungen)(? 5=der)(S (? 12=betreffen)(? 8=die)(CNP (? 9=Einwanderer)(? 10=und)(? 11=Minderheiten)))))(VP (? 20=getroffen)(? 15=bislang)(PP (? 16=auf)(CNP (? 17=Bundes-)(? 18=und)(? 19=Landesebene)))(VP (? 24=anzuhören)(? 22=ohne)(? 23=diese))))(? 1=``)(? 4='')(? 7=,)(? 13=,)(? 21=,)(? 25=.))\""
      ]
     },
     "execution_count": 19,
     "metadata": {},
     "output_type": "execute_result"
    }
   ],
   "source": [
    "get_bracket(c_tree)"
   ]
  },
  {
   "cell_type": "code",
   "execution_count": 20,
   "metadata": {},
   "outputs": [
    {
     "data": {
      "text/plain": [
       "\"(VROOT (S (? 14=werde)(NP (? 3=Großteil)(? 2=Ein)(NP (? 6=Entscheidungen)(? 5=der)(S (? 12=betreffen)(? 8=die)(CNP (? 9=Einwanderer)(? 10=und)(? 11=Minderheiten)))))(VP (? 20=getroffen)(? 15=bislang)(PP (? 16=auf)(CNP (? 17=Bundes-)(? 18=und)(? 19=Landesebene)))(VP (? 24=anzuhören)(? 22=ohne)(? 23=diese))))(? 1=``)(? 4='')(? 7=,)(? 13=,)(? 21=,)(? 25=.))\""
      ]
     },
     "execution_count": 20,
     "metadata": {},
     "output_type": "execute_result"
    }
   ],
   "source": [
    "get_bracket(t_c_tree)"
   ]
  },
  {
   "cell_type": "code",
   "execution_count": 21,
   "metadata": {},
   "outputs": [
    {
     "data": {
      "text/plain": [
       "(<toyplot.canvas.Canvas at 0x7f299e7d9c50>,\n",
       " <toyplot.coordinates.Cartesian at 0x7f299e7d93d0>,\n",
       " <toytree.Render.ToytreeMark at 0x7f299e7803d0>)"
      ]
     },
     "execution_count": 21,
     "metadata": {},
     "output_type": "execute_result"
    },
    {
     "data": {
      "text/html": [
       "<div class=\"toyplot\" id=\"ta8186eb24ff543b69874f6f7b0fab067\" style=\"text-align:center\"><svg class=\"toyplot-canvas-Canvas\" xmlns:toyplot=\"http://www.sandia.gov/toyplot\" xmlns:xlink=\"http://www.w3.org/1999/xlink\" xmlns=\"http://www.w3.org/2000/svg\" width=\"600.0px\" height=\"600.0px\" viewBox=\"0 0 600.0 600.0\" preserveAspectRatio=\"xMidYMid meet\" style=\"background-color:transparent;border-color:#292724;border-style:none;border-width:1.0;fill:rgb(16.1%,15.3%,14.1%);fill-opacity:1.0;font-family:Helvetica;font-size:12px;opacity:1.0;stroke:rgb(16.1%,15.3%,14.1%);stroke-opacity:1.0;stroke-width:1.0\" id=\"td8906defb804441eb57ebc7f8befd580\"><g class=\"toyplot-coordinates-Cartesian\" id=\"tb5181cc11494493dbdfa9612872f2587\"><clipPath id=\"t4722ea67a5354aeba33022ad5cd9576d\"><rect x=\"30.0\" y=\"30.0\" width=\"540.0\" height=\"540.0\"></rect></clipPath><g clip-path=\"url(#t4722ea67a5354aeba33022ad5cd9576d)\"><g class=\"toytree-mark-Toytree\" id=\"t37d5d14cd1614182a997009795a1626e\"><g class=\"toytree-Edges\" style=\"fill:none;stroke:rgb(55.3%,62.7%,79.6%);stroke-linecap:round;stroke-opacity:0.5;stroke-width:2.5\"><path d=\"M 61.5 278.2 L 125.5 285.3\" id=\"34,33\"></path><path d=\"M 125.5 285.3 L 189.4 123.1\" id=\"33,32\"></path><path d=\"M 125.5 285.3 L 189.4 413.0\" id=\"33,31\"></path><path d=\"M 189.4 123.1 L 253.4 182.1\" id=\"32,30\"></path><path d=\"M 189.4 413.0 L 253.4 496.5\" id=\"31,29\"></path><path d=\"M 189.4 413.0 L 253.4 378.6\" id=\"31,28\"></path><path d=\"M 253.4 182.1 L 317.4 241.0\" id=\"30,27\"></path><path d=\"M 253.4 378.6 L 317.4 398.3\" id=\"28,26\"></path><path d=\"M 317.4 241.0 L 381.3 241.0\" id=\"27,25\"></path><path d=\"M 61.5 278.2 L 125.5 64.2\" id=\"34,24\"></path><path d=\"M 61.5 278.2 L 125.5 123.1\" id=\"34,23\"></path><path d=\"M 61.5 278.2 L 125.5 182.1\" id=\"34,22\"></path><path d=\"M 61.5 278.2 L 125.5 300.0\" id=\"34,21\"></path><path d=\"M 61.5 278.2 L 125.5 457.2\" id=\"34,20\"></path><path d=\"M 61.5 278.2 L 125.5 535.8\" id=\"34,19\"></path><path d=\"M 125.5 285.3 L 189.4 319.7\" id=\"33,18\"></path><path d=\"M 189.4 123.1 L 253.4 103.5\" id=\"32,17\"></path><path d=\"M 189.4 123.1 L 253.4 83.8\" id=\"32,16\"></path><path d=\"M 253.4 182.1 L 317.4 162.4\" id=\"30,15\"></path><path d=\"M 253.4 182.1 L 317.4 142.8\" id=\"30,14\"></path><path d=\"M 317.4 241.0 L 381.3 280.3\" id=\"27,13\"></path><path d=\"M 317.4 241.0 L 381.3 201.7\" id=\"27,12\"></path><path d=\"M 381.3 241.0 L 445.3 221.4\" id=\"25,11\"></path><path d=\"M 381.3 241.0 L 445.3 241.0\" id=\"25,10\"></path><path d=\"M 381.3 241.0 L 445.3 260.7\" id=\"25,9\"></path><path d=\"M 189.4 413.0 L 253.4 437.6\" id=\"31,8\"></path><path d=\"M 189.4 413.0 L 253.4 339.3\" id=\"31,7\"></path><path d=\"M 253.4 496.5 L 317.4 516.2\" id=\"29,6\"></path><path d=\"M 253.4 496.5 L 317.4 476.9\" id=\"29,5\"></path><path d=\"M 253.4 496.5 L 317.4 496.5\" id=\"29,4\"></path><path d=\"M 253.4 378.6 L 317.4 359.0\" id=\"28,3\"></path><path d=\"M 317.4 398.3 L 381.3 378.6\" id=\"26,2\"></path><path d=\"M 317.4 398.3 L 381.3 398.3\" id=\"26,1\"></path><path d=\"M 317.4 398.3 L 381.3 417.9\" id=\"26,0\"></path></g><g class=\"toytree-AlignEdges\" style=\"stroke:rgb(66.3%,66.3%,66.3%);stroke-dasharray:2, 4;stroke-linecap:round;stroke-opacity:1.0;stroke-width:2\"><path d=\"M 445.3 417.9 L 381.3 417.9\"></path><path d=\"M 445.3 398.3 L 381.3 398.3\"></path><path d=\"M 445.3 378.6 L 381.3 378.6\"></path><path d=\"M 445.3 359.0 L 317.4 359.0\"></path><path d=\"M 445.3 496.5 L 317.4 496.5\"></path><path d=\"M 445.3 476.9 L 317.4 476.9\"></path><path d=\"M 445.3 516.2 L 317.4 516.2\"></path><path d=\"M 445.3 339.3 L 253.4 339.3\"></path><path d=\"M 445.3 437.6 L 253.4 437.6\"></path><path d=\"M 445.3 260.7 L 445.3 260.7\"></path><path d=\"M 445.3 241.0 L 445.3 241.0\"></path><path d=\"M 445.3 221.4 L 445.3 221.4\"></path><path d=\"M 445.3 201.7 L 381.3 201.7\"></path><path d=\"M 445.3 280.3 L 381.3 280.3\"></path><path d=\"M 445.3 142.8 L 317.4 142.8\"></path><path d=\"M 445.3 162.4 L 317.4 162.4\"></path><path d=\"M 445.3 83.8 L 253.4 83.8\"></path><path d=\"M 445.3 103.5 L 253.4 103.5\"></path><path d=\"M 445.3 319.7 L 189.4 319.7\"></path><path d=\"M 445.3 535.8 L 125.5 535.8\"></path><path d=\"M 445.3 457.2 L 125.5 457.2\"></path><path d=\"M 445.3 300.0 L 125.5 300.0\"></path><path d=\"M 445.3 182.1 L 125.5 182.1\"></path><path d=\"M 445.3 123.1 L 125.5 123.1\"></path><path d=\"M 445.3 64.2 L 125.5 64.2\"></path></g><g class=\"toytree-Nodes\" style=\"fill:rgb(40%,76.1%,64.7%);fill-opacity:1.0;stroke:None;stroke-width:1\"><g id=\"node-0\" transform=\"translate(381.348,417.925)\"><circle r=\"7.5\"></circle></g><g id=\"node-1\" transform=\"translate(381.348,398.270)\"><circle r=\"7.5\"></circle></g><g id=\"node-2\" transform=\"translate(381.348,378.616)\"><circle r=\"7.5\"></circle></g><g id=\"node-3\" transform=\"translate(317.381,358.962)\"><circle r=\"7.5\"></circle></g><g id=\"node-4\" transform=\"translate(317.381,496.541)\"><circle r=\"7.5\"></circle></g><g id=\"node-5\" transform=\"translate(317.381,476.887)\"><circle r=\"7.5\"></circle></g><g id=\"node-6\" transform=\"translate(317.381,516.195)\"><circle r=\"7.5\"></circle></g><g id=\"node-7\" transform=\"translate(253.414,339.308)\"><circle r=\"7.5\"></circle></g><g id=\"node-8\" transform=\"translate(253.414,437.579)\"><circle r=\"7.5\"></circle></g><g id=\"node-9\" transform=\"translate(445.315,260.692)\"><circle r=\"7.5\"></circle></g><g id=\"node-10\" transform=\"translate(445.315,241.038)\"><circle r=\"7.5\"></circle></g><g id=\"node-11\" transform=\"translate(445.315,221.384)\"><circle r=\"7.5\"></circle></g><g id=\"node-12\" transform=\"translate(381.348,201.730)\"><circle r=\"7.5\"></circle></g><g id=\"node-13\" transform=\"translate(381.348,280.346)\"><circle r=\"7.5\"></circle></g><g id=\"node-14\" transform=\"translate(317.381,142.767)\"><circle r=\"7.5\"></circle></g><g id=\"node-15\" transform=\"translate(317.381,162.421)\"><circle r=\"7.5\"></circle></g><g id=\"node-16\" transform=\"translate(253.414,83.805)\"><circle r=\"7.5\"></circle></g><g id=\"node-17\" transform=\"translate(253.414,103.459)\"><circle r=\"7.5\"></circle></g><g id=\"node-18\" transform=\"translate(189.448,319.654)\"><circle r=\"7.5\"></circle></g><g id=\"node-19\" transform=\"translate(125.481,535.849)\"><circle r=\"7.5\"></circle></g><g id=\"node-20\" transform=\"translate(125.481,457.233)\"><circle r=\"7.5\"></circle></g><g id=\"node-21\" transform=\"translate(125.481,300.000)\"><circle r=\"7.5\"></circle></g><g id=\"node-22\" transform=\"translate(125.481,182.075)\"><circle r=\"7.5\"></circle></g><g id=\"node-23\" transform=\"translate(125.481,123.113)\"><circle r=\"7.5\"></circle></g><g id=\"node-24\" transform=\"translate(125.481,64.151)\"><circle r=\"7.5\"></circle></g><g id=\"node-25\" transform=\"translate(381.348,241.038)\"><circle r=\"7.5\"></circle></g><g id=\"node-26\" transform=\"translate(317.381,398.270)\"><circle r=\"7.5\"></circle></g><g id=\"node-27\" transform=\"translate(317.381,241.038)\"><circle r=\"7.5\"></circle></g><g id=\"node-28\" transform=\"translate(253.414,378.616)\"><circle r=\"7.5\"></circle></g><g id=\"node-29\" transform=\"translate(253.414,496.541)\"><circle r=\"7.5\"></circle></g><g id=\"node-30\" transform=\"translate(253.414,182.075)\"><circle r=\"7.5\"></circle></g><g id=\"node-31\" transform=\"translate(189.448,413.011)\"><circle r=\"7.5\"></circle></g><g id=\"node-32\" transform=\"translate(189.448,123.113)\"><circle r=\"7.5\"></circle></g><g id=\"node-33\" transform=\"translate(125.481,285.259)\"><circle r=\"7.5\"></circle></g><g id=\"node-34\" transform=\"translate(61.514,278.240)\"><circle r=\"7.5\"></circle></g></g><g class=\"toytree-NodeLabels\" style=\"fill:rgb(14.9%,14.9%,14.9%);fill-opacity:1.0;font-size:9px;stroke:none\"><g transform=\"translate(372.59,420.22)\"><text>19.?</text></g><g transform=\"translate(372.59,400.57)\"><text>18.?</text></g><g transform=\"translate(372.59,380.92)\"><text>17.?</text></g><g transform=\"translate(308.62,361.26)\"><text>16.?</text></g><g transform=\"translate(308.62,498.84)\"><text>23.?</text></g><g transform=\"translate(308.62,479.19)\"><text>22.?</text></g><g transform=\"translate(308.62,518.49)\"><text>24.?</text></g><g transform=\"translate(244.66,341.61)\"><text>15.?</text></g><g transform=\"translate(244.66,439.88)\"><text>20.?</text></g><g transform=\"translate(436.56,262.99)\"><text>11.?</text></g><g transform=\"translate(436.56,243.34)\"><text>10.?</text></g><g transform=\"translate(439.06,223.68)\"><text>9.?</text></g><g transform=\"translate(375.09,204.03)\"><text>8.?</text></g><g transform=\"translate(372.59,282.65)\"><text>12.?</text></g><g transform=\"translate(311.13,145.07)\"><text>5.?</text></g><g transform=\"translate(311.13,164.72)\"><text>6.?</text></g><g transform=\"translate(247.16,86.10)\"><text>2.?</text></g><g transform=\"translate(247.16,105.76)\"><text>3.?</text></g><g transform=\"translate(180.69,321.95)\"><text>14.?</text></g><g transform=\"translate(116.72,538.15)\"><text>25.?</text></g><g transform=\"translate(116.72,459.53)\"><text>21.?</text></g><g transform=\"translate(116.72,302.30)\"><text>13.?</text></g><g transform=\"translate(119.23,184.37)\"><text>7.?</text></g><g transform=\"translate(119.23,125.41)\"><text>4.?</text></g><g transform=\"translate(119.23,66.45)\"><text>1.?</text></g><g transform=\"translate(371.85,243.34)\"><text>CNP</text></g><g transform=\"translate(307.88,400.57)\"><text>CNP</text></g><g transform=\"translate(314.38,243.34)\"><text>S</text></g><g transform=\"translate(247.41,380.92)\"><text>PP</text></g><g transform=\"translate(247.41,498.84)\"><text>VP</text></g><g transform=\"translate(247.16,184.37)\"><text>NP</text></g><g transform=\"translate(183.44,415.31)\"><text>VP</text></g><g transform=\"translate(183.20,125.41)\"><text>NP</text></g><g transform=\"translate(122.48,287.56)\"><text>S</text></g><g transform=\"translate(45.51,280.54)\"><text>VROOT</text></g></g><g class=\"toytree-TipLabels\" style=\"fill:rgb(14.9%,14.9%,14.9%);fill-opacity:1.0;font-family:helvetica;font-size:11px;font-weight:normal;stroke:none;white-space:pre\"><g transform=\"translate(445.31,417.92)rotate(0)\"><text x=\"15.00\" y=\"2.81\" style=\"\">Landesebene</text></g><g transform=\"translate(445.31,398.27)rotate(0)\"><text x=\"15.00\" y=\"2.81\" style=\"\">und</text></g><g transform=\"translate(445.31,378.62)rotate(0)\"><text x=\"15.00\" y=\"2.81\" style=\"\">Bundes-</text></g><g transform=\"translate(445.31,358.96)rotate(0)\"><text x=\"15.00\" y=\"2.81\" style=\"\">auf</text></g><g transform=\"translate(445.31,496.54)rotate(0)\"><text x=\"15.00\" y=\"2.81\" style=\"\">diese</text></g><g transform=\"translate(445.31,476.89)rotate(0)\"><text x=\"15.00\" y=\"2.81\" style=\"\">ohne</text></g><g transform=\"translate(445.31,516.19)rotate(0)\"><text x=\"15.00\" y=\"2.81\" style=\"\">anzuhören</text></g><g transform=\"translate(445.31,339.31)rotate(0)\"><text x=\"15.00\" y=\"2.81\" style=\"\">bislang</text></g><g transform=\"translate(445.31,437.58)rotate(0)\"><text x=\"15.00\" y=\"2.81\" style=\"\">getroffen</text></g><g transform=\"translate(445.31,260.69)rotate(0)\"><text x=\"15.00\" y=\"2.81\" style=\"\">Minderheiten</text></g><g transform=\"translate(445.31,241.04)rotate(0)\"><text x=\"15.00\" y=\"2.81\" style=\"\">und</text></g><g transform=\"translate(445.31,221.38)rotate(0)\"><text x=\"15.00\" y=\"2.81\" style=\"\">Einwanderer</text></g><g transform=\"translate(445.31,201.73)rotate(0)\"><text x=\"15.00\" y=\"2.81\" style=\"\">die</text></g><g transform=\"translate(445.31,280.35)rotate(0)\"><text x=\"15.00\" y=\"2.81\" style=\"\">betreffen</text></g><g transform=\"translate(445.31,142.77)rotate(0)\"><text x=\"15.00\" y=\"2.81\" style=\"\">der</text></g><g transform=\"translate(445.31,162.42)rotate(0)\"><text x=\"15.00\" y=\"2.81\" style=\"\">Entscheidungen</text></g><g transform=\"translate(445.31,83.81)rotate(0)\"><text x=\"15.00\" y=\"2.81\" style=\"\">Ein</text></g><g transform=\"translate(445.31,103.46)rotate(0)\"><text x=\"15.00\" y=\"2.81\" style=\"\">Großteil</text></g><g transform=\"translate(445.31,319.65)rotate(0)\"><text x=\"15.00\" y=\"2.81\" style=\"\">werde</text></g><g transform=\"translate(445.31,535.85)rotate(0)\"><text x=\"15.00\" y=\"2.81\" style=\"\">.</text></g><g transform=\"translate(445.31,457.23)rotate(0)\"><text x=\"15.00\" y=\"2.81\" style=\"\">,</text></g><g transform=\"translate(445.31,300.00)rotate(0)\"><text x=\"15.00\" y=\"2.81\" style=\"\">,</text></g><g transform=\"translate(445.31,182.08)rotate(0)\"><text x=\"15.00\" y=\"2.81\" style=\"\">,</text></g><g transform=\"translate(445.31,123.11)rotate(0)\"><text x=\"15.00\" y=\"2.81\" style=\"\">''</text></g><g transform=\"translate(445.31,64.15)rotate(0)\"><text x=\"15.00\" y=\"2.81\" style=\"\">``</text></g></g></g></g></g></svg><div class=\"toyplot-behavior\"><script>(function()\n",
       "{\n",
       "var modules={};\n",
       "})();</script></div></div>"
      ]
     },
     "metadata": {},
     "output_type": "display_data"
    }
   ],
   "source": [
    "c_tree.draw()"
   ]
  },
  {
   "cell_type": "code",
   "execution_count": 22,
   "metadata": {},
   "outputs": [
    {
     "data": {
      "text/plain": [
       "(<toyplot.canvas.Canvas at 0x7f29adfd2210>,\n",
       " <toyplot.coordinates.Cartesian at 0x7f299e8c86d0>,\n",
       " <toytree.Render.ToytreeMark at 0x7f29b00c4410>)"
      ]
     },
     "execution_count": 22,
     "metadata": {},
     "output_type": "execute_result"
    },
    {
     "data": {
      "text/html": [
       "<div class=\"toyplot\" id=\"tf56f384d9e154220bf878975367f8628\" style=\"text-align:center\"><svg class=\"toyplot-canvas-Canvas\" xmlns:toyplot=\"http://www.sandia.gov/toyplot\" xmlns:xlink=\"http://www.w3.org/1999/xlink\" xmlns=\"http://www.w3.org/2000/svg\" width=\"600.0px\" height=\"600.0px\" viewBox=\"0 0 600.0 600.0\" preserveAspectRatio=\"xMidYMid meet\" style=\"background-color:transparent;border-color:#292724;border-style:none;border-width:1.0;fill:rgb(16.1%,15.3%,14.1%);fill-opacity:1.0;font-family:Helvetica;font-size:12px;opacity:1.0;stroke:rgb(16.1%,15.3%,14.1%);stroke-opacity:1.0;stroke-width:1.0\" id=\"t9deeb3a647d0411eb879b11f1625175c\"><g class=\"toyplot-coordinates-Cartesian\" id=\"td90f731211dd4628b628231cbb62eed3\"><clipPath id=\"t27703d6ca7894a54951fe1f00d0cf00b\"><rect x=\"30.0\" y=\"30.0\" width=\"540.0\" height=\"540.0\"></rect></clipPath><g clip-path=\"url(#t27703d6ca7894a54951fe1f00d0cf00b)\"><g class=\"toytree-mark-Toytree\" id=\"t46c627ea9bac4d49b458c29c763e20a2\"><g class=\"toytree-Edges\" style=\"fill:none;stroke:rgb(55.3%,62.7%,79.6%);stroke-linecap:round;stroke-opacity:0.5;stroke-width:2.5\"><path d=\"M 61.5 278.2 L 125.5 285.3\" id=\"34,33\"></path><path d=\"M 125.5 285.3 L 189.4 123.1\" id=\"33,32\"></path><path d=\"M 125.5 285.3 L 189.4 413.0\" id=\"33,31\"></path><path d=\"M 189.4 123.1 L 253.4 182.1\" id=\"32,30\"></path><path d=\"M 189.4 413.0 L 253.4 496.5\" id=\"31,29\"></path><path d=\"M 189.4 413.0 L 253.4 378.6\" id=\"31,28\"></path><path d=\"M 253.4 182.1 L 317.4 241.0\" id=\"30,27\"></path><path d=\"M 253.4 378.6 L 317.4 398.3\" id=\"28,26\"></path><path d=\"M 317.4 241.0 L 381.3 241.0\" id=\"27,25\"></path><path d=\"M 61.5 278.2 L 125.5 64.2\" id=\"34,24\"></path><path d=\"M 61.5 278.2 L 125.5 123.1\" id=\"34,23\"></path><path d=\"M 61.5 278.2 L 125.5 182.1\" id=\"34,22\"></path><path d=\"M 61.5 278.2 L 125.5 300.0\" id=\"34,21\"></path><path d=\"M 61.5 278.2 L 125.5 457.2\" id=\"34,20\"></path><path d=\"M 61.5 278.2 L 125.5 535.8\" id=\"34,19\"></path><path d=\"M 125.5 285.3 L 189.4 319.7\" id=\"33,18\"></path><path d=\"M 189.4 123.1 L 253.4 103.5\" id=\"32,17\"></path><path d=\"M 189.4 123.1 L 253.4 83.8\" id=\"32,16\"></path><path d=\"M 253.4 182.1 L 317.4 162.4\" id=\"30,15\"></path><path d=\"M 253.4 182.1 L 317.4 142.8\" id=\"30,14\"></path><path d=\"M 317.4 241.0 L 381.3 280.3\" id=\"27,13\"></path><path d=\"M 317.4 241.0 L 381.3 201.7\" id=\"27,12\"></path><path d=\"M 381.3 241.0 L 445.3 221.4\" id=\"25,11\"></path><path d=\"M 381.3 241.0 L 445.3 241.0\" id=\"25,10\"></path><path d=\"M 381.3 241.0 L 445.3 260.7\" id=\"25,9\"></path><path d=\"M 189.4 413.0 L 253.4 437.6\" id=\"31,8\"></path><path d=\"M 189.4 413.0 L 253.4 339.3\" id=\"31,7\"></path><path d=\"M 253.4 496.5 L 317.4 516.2\" id=\"29,6\"></path><path d=\"M 253.4 496.5 L 317.4 476.9\" id=\"29,5\"></path><path d=\"M 253.4 496.5 L 317.4 496.5\" id=\"29,4\"></path><path d=\"M 253.4 378.6 L 317.4 359.0\" id=\"28,3\"></path><path d=\"M 317.4 398.3 L 381.3 378.6\" id=\"26,2\"></path><path d=\"M 317.4 398.3 L 381.3 398.3\" id=\"26,1\"></path><path d=\"M 317.4 398.3 L 381.3 417.9\" id=\"26,0\"></path></g><g class=\"toytree-AlignEdges\" style=\"stroke:rgb(66.3%,66.3%,66.3%);stroke-dasharray:2, 4;stroke-linecap:round;stroke-opacity:1.0;stroke-width:2\"><path d=\"M 445.3 417.9 L 381.3 417.9\"></path><path d=\"M 445.3 398.3 L 381.3 398.3\"></path><path d=\"M 445.3 378.6 L 381.3 378.6\"></path><path d=\"M 445.3 359.0 L 317.4 359.0\"></path><path d=\"M 445.3 496.5 L 317.4 496.5\"></path><path d=\"M 445.3 476.9 L 317.4 476.9\"></path><path d=\"M 445.3 516.2 L 317.4 516.2\"></path><path d=\"M 445.3 339.3 L 253.4 339.3\"></path><path d=\"M 445.3 437.6 L 253.4 437.6\"></path><path d=\"M 445.3 260.7 L 445.3 260.7\"></path><path d=\"M 445.3 241.0 L 445.3 241.0\"></path><path d=\"M 445.3 221.4 L 445.3 221.4\"></path><path d=\"M 445.3 201.7 L 381.3 201.7\"></path><path d=\"M 445.3 280.3 L 381.3 280.3\"></path><path d=\"M 445.3 142.8 L 317.4 142.8\"></path><path d=\"M 445.3 162.4 L 317.4 162.4\"></path><path d=\"M 445.3 83.8 L 253.4 83.8\"></path><path d=\"M 445.3 103.5 L 253.4 103.5\"></path><path d=\"M 445.3 319.7 L 189.4 319.7\"></path><path d=\"M 445.3 535.8 L 125.5 535.8\"></path><path d=\"M 445.3 457.2 L 125.5 457.2\"></path><path d=\"M 445.3 300.0 L 125.5 300.0\"></path><path d=\"M 445.3 182.1 L 125.5 182.1\"></path><path d=\"M 445.3 123.1 L 125.5 123.1\"></path><path d=\"M 445.3 64.2 L 125.5 64.2\"></path></g><g class=\"toytree-Nodes\" style=\"fill:rgb(40%,76.1%,64.7%);fill-opacity:1.0;stroke:None;stroke-width:1\"><g id=\"node-0\" transform=\"translate(381.348,417.925)\"><circle r=\"7.5\"></circle></g><g id=\"node-1\" transform=\"translate(381.348,398.270)\"><circle r=\"7.5\"></circle></g><g id=\"node-2\" transform=\"translate(381.348,378.616)\"><circle r=\"7.5\"></circle></g><g id=\"node-3\" transform=\"translate(317.381,358.962)\"><circle r=\"7.5\"></circle></g><g id=\"node-4\" transform=\"translate(317.381,496.541)\"><circle r=\"7.5\"></circle></g><g id=\"node-5\" transform=\"translate(317.381,476.887)\"><circle r=\"7.5\"></circle></g><g id=\"node-6\" transform=\"translate(317.381,516.195)\"><circle r=\"7.5\"></circle></g><g id=\"node-7\" transform=\"translate(253.414,339.308)\"><circle r=\"7.5\"></circle></g><g id=\"node-8\" transform=\"translate(253.414,437.579)\"><circle r=\"7.5\"></circle></g><g id=\"node-9\" transform=\"translate(445.315,260.692)\"><circle r=\"7.5\"></circle></g><g id=\"node-10\" transform=\"translate(445.315,241.038)\"><circle r=\"7.5\"></circle></g><g id=\"node-11\" transform=\"translate(445.315,221.384)\"><circle r=\"7.5\"></circle></g><g id=\"node-12\" transform=\"translate(381.348,201.730)\"><circle r=\"7.5\"></circle></g><g id=\"node-13\" transform=\"translate(381.348,280.346)\"><circle r=\"7.5\"></circle></g><g id=\"node-14\" transform=\"translate(317.381,142.767)\"><circle r=\"7.5\"></circle></g><g id=\"node-15\" transform=\"translate(317.381,162.421)\"><circle r=\"7.5\"></circle></g><g id=\"node-16\" transform=\"translate(253.414,83.805)\"><circle r=\"7.5\"></circle></g><g id=\"node-17\" transform=\"translate(253.414,103.459)\"><circle r=\"7.5\"></circle></g><g id=\"node-18\" transform=\"translate(189.448,319.654)\"><circle r=\"7.5\"></circle></g><g id=\"node-19\" transform=\"translate(125.481,535.849)\"><circle r=\"7.5\"></circle></g><g id=\"node-20\" transform=\"translate(125.481,457.233)\"><circle r=\"7.5\"></circle></g><g id=\"node-21\" transform=\"translate(125.481,300.000)\"><circle r=\"7.5\"></circle></g><g id=\"node-22\" transform=\"translate(125.481,182.075)\"><circle r=\"7.5\"></circle></g><g id=\"node-23\" transform=\"translate(125.481,123.113)\"><circle r=\"7.5\"></circle></g><g id=\"node-24\" transform=\"translate(125.481,64.151)\"><circle r=\"7.5\"></circle></g><g id=\"node-25\" transform=\"translate(381.348,241.038)\"><circle r=\"7.5\"></circle></g><g id=\"node-26\" transform=\"translate(317.381,398.270)\"><circle r=\"7.5\"></circle></g><g id=\"node-27\" transform=\"translate(317.381,241.038)\"><circle r=\"7.5\"></circle></g><g id=\"node-28\" transform=\"translate(253.414,378.616)\"><circle r=\"7.5\"></circle></g><g id=\"node-29\" transform=\"translate(253.414,496.541)\"><circle r=\"7.5\"></circle></g><g id=\"node-30\" transform=\"translate(253.414,182.075)\"><circle r=\"7.5\"></circle></g><g id=\"node-31\" transform=\"translate(189.448,413.011)\"><circle r=\"7.5\"></circle></g><g id=\"node-32\" transform=\"translate(189.448,123.113)\"><circle r=\"7.5\"></circle></g><g id=\"node-33\" transform=\"translate(125.481,285.259)\"><circle r=\"7.5\"></circle></g><g id=\"node-34\" transform=\"translate(61.514,278.240)\"><circle r=\"7.5\"></circle></g></g><g class=\"toytree-NodeLabels\" style=\"fill:rgb(14.9%,14.9%,14.9%);fill-opacity:1.0;font-size:9px;stroke:none\"><g transform=\"translate(372.59,420.22)\"><text>19.?</text></g><g transform=\"translate(372.59,400.57)\"><text>18.?</text></g><g transform=\"translate(372.59,380.92)\"><text>17.?</text></g><g transform=\"translate(308.62,361.26)\"><text>16.?</text></g><g transform=\"translate(308.62,498.84)\"><text>23.?</text></g><g transform=\"translate(308.62,479.19)\"><text>22.?</text></g><g transform=\"translate(308.62,518.49)\"><text>24.?</text></g><g transform=\"translate(244.66,341.61)\"><text>15.?</text></g><g transform=\"translate(244.66,439.88)\"><text>20.?</text></g><g transform=\"translate(436.56,262.99)\"><text>11.?</text></g><g transform=\"translate(436.56,243.34)\"><text>10.?</text></g><g transform=\"translate(439.06,223.68)\"><text>9.?</text></g><g transform=\"translate(375.09,204.03)\"><text>8.?</text></g><g transform=\"translate(372.59,282.65)\"><text>12.?</text></g><g transform=\"translate(311.13,145.07)\"><text>5.?</text></g><g transform=\"translate(311.13,164.72)\"><text>6.?</text></g><g transform=\"translate(247.16,86.10)\"><text>2.?</text></g><g transform=\"translate(247.16,105.76)\"><text>3.?</text></g><g transform=\"translate(180.69,321.95)\"><text>14.?</text></g><g transform=\"translate(116.72,538.15)\"><text>25.?</text></g><g transform=\"translate(116.72,459.53)\"><text>21.?</text></g><g transform=\"translate(116.72,302.30)\"><text>13.?</text></g><g transform=\"translate(119.23,184.37)\"><text>7.?</text></g><g transform=\"translate(119.23,125.41)\"><text>4.?</text></g><g transform=\"translate(119.23,66.45)\"><text>1.?</text></g><g transform=\"translate(371.85,243.34)\"><text>CNP</text></g><g transform=\"translate(307.88,400.57)\"><text>CNP</text></g><g transform=\"translate(314.38,243.34)\"><text>S</text></g><g transform=\"translate(247.41,380.92)\"><text>PP</text></g><g transform=\"translate(247.41,498.84)\"><text>VP</text></g><g transform=\"translate(247.16,184.37)\"><text>NP</text></g><g transform=\"translate(183.44,415.31)\"><text>VP</text></g><g transform=\"translate(183.20,125.41)\"><text>NP</text></g><g transform=\"translate(122.48,287.56)\"><text>S</text></g><g transform=\"translate(45.51,280.54)\"><text>VROOT</text></g></g><g class=\"toytree-TipLabels\" style=\"fill:rgb(14.9%,14.9%,14.9%);fill-opacity:1.0;font-family:helvetica;font-size:11px;font-weight:normal;stroke:none;white-space:pre\"><g transform=\"translate(445.31,417.92)rotate(0)\"><text x=\"15.00\" y=\"2.81\" style=\"\">Landesebene</text></g><g transform=\"translate(445.31,398.27)rotate(0)\"><text x=\"15.00\" y=\"2.81\" style=\"\">und</text></g><g transform=\"translate(445.31,378.62)rotate(0)\"><text x=\"15.00\" y=\"2.81\" style=\"\">Bundes-</text></g><g transform=\"translate(445.31,358.96)rotate(0)\"><text x=\"15.00\" y=\"2.81\" style=\"\">auf</text></g><g transform=\"translate(445.31,496.54)rotate(0)\"><text x=\"15.00\" y=\"2.81\" style=\"\">diese</text></g><g transform=\"translate(445.31,476.89)rotate(0)\"><text x=\"15.00\" y=\"2.81\" style=\"\">ohne</text></g><g transform=\"translate(445.31,516.19)rotate(0)\"><text x=\"15.00\" y=\"2.81\" style=\"\">anzuhören</text></g><g transform=\"translate(445.31,339.31)rotate(0)\"><text x=\"15.00\" y=\"2.81\" style=\"\">bislang</text></g><g transform=\"translate(445.31,437.58)rotate(0)\"><text x=\"15.00\" y=\"2.81\" style=\"\">getroffen</text></g><g transform=\"translate(445.31,260.69)rotate(0)\"><text x=\"15.00\" y=\"2.81\" style=\"\">Minderheiten</text></g><g transform=\"translate(445.31,241.04)rotate(0)\"><text x=\"15.00\" y=\"2.81\" style=\"\">und</text></g><g transform=\"translate(445.31,221.38)rotate(0)\"><text x=\"15.00\" y=\"2.81\" style=\"\">Einwanderer</text></g><g transform=\"translate(445.31,201.73)rotate(0)\"><text x=\"15.00\" y=\"2.81\" style=\"\">die</text></g><g transform=\"translate(445.31,280.35)rotate(0)\"><text x=\"15.00\" y=\"2.81\" style=\"\">betreffen</text></g><g transform=\"translate(445.31,142.77)rotate(0)\"><text x=\"15.00\" y=\"2.81\" style=\"\">der</text></g><g transform=\"translate(445.31,162.42)rotate(0)\"><text x=\"15.00\" y=\"2.81\" style=\"\">Entscheidungen</text></g><g transform=\"translate(445.31,83.81)rotate(0)\"><text x=\"15.00\" y=\"2.81\" style=\"\">Ein</text></g><g transform=\"translate(445.31,103.46)rotate(0)\"><text x=\"15.00\" y=\"2.81\" style=\"\">Großteil</text></g><g transform=\"translate(445.31,319.65)rotate(0)\"><text x=\"15.00\" y=\"2.81\" style=\"\">werde</text></g><g transform=\"translate(445.31,535.85)rotate(0)\"><text x=\"15.00\" y=\"2.81\" style=\"\">.</text></g><g transform=\"translate(445.31,457.23)rotate(0)\"><text x=\"15.00\" y=\"2.81\" style=\"\">,</text></g><g transform=\"translate(445.31,300.00)rotate(0)\"><text x=\"15.00\" y=\"2.81\" style=\"\">,</text></g><g transform=\"translate(445.31,182.08)rotate(0)\"><text x=\"15.00\" y=\"2.81\" style=\"\">,</text></g><g transform=\"translate(445.31,123.11)rotate(0)\"><text x=\"15.00\" y=\"2.81\" style=\"\">''</text></g><g transform=\"translate(445.31,64.15)rotate(0)\"><text x=\"15.00\" y=\"2.81\" style=\"\">``</text></g></g></g></g></g></svg><div class=\"toyplot-behavior\"><script>(function()\n",
       "{\n",
       "var modules={};\n",
       "})();</script></div></div>"
      ]
     },
     "metadata": {},
     "output_type": "display_data"
    }
   ],
   "source": [
    "t_c_tree.draw()"
   ]
  },
  {
   "cell_type": "code",
   "execution_count": null,
   "metadata": {},
   "outputs": [],
   "source": []
  }
 ],
 "metadata": {
  "kernelspec": {
   "display_name": "german",
   "language": "python",
   "name": "python3"
  },
  "language_info": {
   "codemirror_mode": {
    "name": "ipython",
    "version": 3
   },
   "file_extension": ".py",
   "mimetype": "text/x-python",
   "name": "python",
   "nbconvert_exporter": "python",
   "pygments_lexer": "ipython3",
   "version": "3.11.4"
  },
  "orig_nbformat": 4
 },
 "nbformat": 4,
 "nbformat_minor": 2
}
