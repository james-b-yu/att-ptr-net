{
 "cells": [
  {
   "cell_type": "code",
   "execution_count": 2,
   "metadata": {},
   "outputs": [],
   "source": [
    "import importlib\n",
    "\n",
    "from german_parser.model.words import WordCNN\n",
    "from german_parser.model.words import WordEmbedding\n",
    "\n",
    "from torch.utils.data import DataLoader, default_collate\n",
    "\n",
    "import logging\n",
    "logging.basicConfig(level=logging.INFO)\n",
    "logger = logging.getLogger(__name__)\n",
    "\n",
    "import pickle\n",
    "import torch"
   ]
  },
  {
   "cell_type": "code",
   "execution_count": 3,
   "metadata": {},
   "outputs": [],
   "source": [
    "from german_parser.util.const import CONSTS"
   ]
  },
  {
   "cell_type": "code",
   "execution_count": 4,
   "metadata": {},
   "outputs": [],
   "source": [
    "from german_parser.util.dataloader import TigerDatasetGenerator"
   ]
  },
  {
   "cell_type": "code",
   "execution_count": 5,
   "metadata": {},
   "outputs": [
    {
     "name": "stderr",
     "output_type": "stream",
     "text": [
      "INFO:model:Parsing dataset from '/home/james/programming/ml/german/german_parser/util/../../data/tiger/tiger_2.2_utf8.xml'...\n",
      "INFO:model:Parsed 5047 sentences.\n",
      "INFO:model:Generating trees...\n",
      "INFO:model:4361 (86.41%) trees generated.\n",
      "INFO:model:Dataset split into 3052 training, 872 dev, and 437 test trees.\n"
     ]
    }
   ],
   "source": [
    "g = TigerDatasetGenerator(f\"{CONSTS['data_dir']}/tiger/tiger_2.2_utf8.xml\", (0.2, 0.1), prop_of_tiger_to_use=0.1)"
   ]
  },
  {
   "cell_type": "code",
   "execution_count": 6,
   "metadata": {},
   "outputs": [],
   "source": [
    "train_dataset = g.get_training_dataset()"
   ]
  },
  {
   "cell_type": "code",
   "execution_count": 7,
   "metadata": {},
   "outputs": [],
   "source": [
    "def my_fn(x):\n",
    "    res = default_collate(x)\n",
    "    sentence_lenghts: torch.Tensor = res[1]\n",
    "    arg_sort = sentence_lenghts.argsort(descending=True)\n",
    "\n",
    "    return [r[arg_sort] for r in res]"
   ]
  },
  {
   "cell_type": "code",
   "execution_count": 8,
   "metadata": {},
   "outputs": [],
   "source": [
    "train_dataloader = DataLoader(train_dataset, batch_size=32, shuffle=True, collate_fn=my_fn)"
   ]
  },
  {
   "cell_type": "code",
   "execution_count": 10,
   "metadata": {},
   "outputs": [],
   "source": [
    "from german_parser.model import TigerModel"
   ]
  },
  {
   "cell_type": "code",
   "execution_count": 11,
   "metadata": {},
   "outputs": [],
   "source": [
    "m = TigerModel(TigerModel.WordEmbeddingParams(char_set=g.character_set, char_flag_generators=g.character_flag_generators, char_internal_embedding_dim=10, char_part_embedding_dim=10, word_part_embedding_dim=10, char_internal_window_size=3, word_dict=g.inverse_word_dict), TigerModel.LSTMParams(hidden_size=10, bidirectional=True), TigerModel.LSTMParams(hidden_size=10, bidirectional=False))"
   ]
  },
  {
   "cell_type": "code",
   "execution_count": 12,
   "metadata": {},
   "outputs": [],
   "source": [
    "input = next(iter(train_dataloader))"
   ]
  },
  {
   "cell_type": "code",
   "execution_count": 13,
   "metadata": {},
   "outputs": [],
   "source": [
    "self_attention, labels, indices = m((input[0], input[1]), train_dataset.get_new_words_dict())"
   ]
  },
  {
   "cell_type": "code",
   "execution_count": 14,
   "metadata": {},
   "outputs": [],
   "source": [
    "T = input[1][0]"
   ]
  },
  {
   "cell_type": "code",
   "execution_count": 15,
   "metadata": {},
   "outputs": [
    {
     "data": {
      "text/plain": [
       "tensor([72, 59, 32, 31, 27, 26, 25, 24, 24, 23, 21, 19, 19, 18, 17, 17, 16, 16,\n",
       "        15, 14, 14, 14, 11, 11, 10, 10, 10,  9,  7,  1,  1,  1])"
      ]
     },
     "execution_count": 15,
     "metadata": {},
     "output_type": "execute_result"
    }
   ],
   "source": [
    "input[1]"
   ]
  },
  {
   "cell_type": "code",
   "execution_count": 17,
   "metadata": {},
   "outputs": [],
   "source": [
    "import torch.nn.functional as F\n",
    "F.cross_entropy(self_attention[indices], input[2][:,0:T][indices]).backward()"
   ]
  },
  {
   "cell_type": "code",
   "execution_count": null,
   "metadata": {},
   "outputs": [],
   "source": []
  }
 ],
 "metadata": {
  "kernelspec": {
   "display_name": "german",
   "language": "python",
   "name": "python3"
  },
  "language_info": {
   "codemirror_mode": {
    "name": "ipython",
    "version": 3
   },
   "file_extension": ".py",
   "mimetype": "text/x-python",
   "name": "python",
   "nbconvert_exporter": "python",
   "pygments_lexer": "ipython3",
   "version": "3.11.4"
  },
  "orig_nbformat": 4
 },
 "nbformat": 4,
 "nbformat_minor": 2
}
