{
 "cells": [
  {
   "cell_type": "code",
   "execution_count": 1,
   "metadata": {},
   "outputs": [],
   "source": [
    "import torch\n",
    "from torch import nn"
   ]
  },
  {
   "cell_type": "code",
   "execution_count": 46,
   "metadata": {},
   "outputs": [],
   "source": [
    "class MLinear(nn.Module):\n",
    "    letters = \"abcdefghijklmopqrstuvwxyz\" # all letters except n\n",
    "\n",
    "    def _index_generator(self, num_indices: int | None=None):\n",
    "        for c in (self.available_indexing_names[:num_indices] if num_indices is not None else self.available_indexing_names):\n",
    "            yield c\n",
    "\n",
    "    def __init__(self, N: int, *S: int):\n",
    "        \"\"\"class for computing a linear transformation between $M$ vectors, where vector i lives in S[i]-dimensional space\n",
    "        Args:\n",
    "            N (int): the dimension of the output\n",
    "            *S (int): the dimensions of the inputs. Should be of length $M$\n",
    "        \"\"\"\n",
    "        super().__init__()\n",
    "\n",
    "        self.S = S\n",
    "        self.M = len(S)\n",
    "        self.N = N\n",
    "\n",
    "        self.Z = nn.Parameter(torch.zeros(N, *S)) # (N, S_{1}, ..., S_{M})\n",
    "\n",
    "        self.summing_names = self.letters[-self.M:]\n",
    "        self.available_indexing_names = self.letters[:-self.M]\n",
    "\n",
    "    def forward(self, *X: torch.Tensor):\n",
    "        \"\"\"compute linear transformation given the M tensors in N\n",
    "        Args:\n",
    "            *X (torch.Tensor): sequence of M tensors, where X[i].shape[-1] == S[i], and X[i].shape[:-1]\n",
    "        Returns:\n",
    "            torch.Tensor: _description_\n",
    "        \"\"\"\n",
    "        total_indexing_dim = sum(map(lambda x: x.dim() - 1, X))\n",
    "        i_gen = self._index_generator()\n",
    "\n",
    "        z_indices = \"n\" + self.summing_names\n",
    "        x_indices = \",\".join([\"\".join([next(i_gen) for j in range(m.dim() - 1)]) + self.summing_names[i] for i, m in enumerate(X)])\n",
    "        r_indices = self.available_indexing_names[:total_indexing_dim] + \"n\"\n",
    "\n",
    "        return torch.einsum(f\"{z_indices},{x_indices}->{r_indices}\", self.Z, *X)"
   ]
  },
  {
   "cell_type": "code",
   "execution_count": 71,
   "metadata": {},
   "outputs": [],
   "source": [
    "class MAffine(nn.Module):\n",
    "    @classmethod\n",
    "    def _combinations(cls, n, c):\n",
    "        # Initialize the first combination (lexicographically smallest)\n",
    "        combination = torch.arange(c)\n",
    "\n",
    "        while combination[0] < n - c + 1:\n",
    "            yield combination\n",
    "\n",
    "            # Find the rightmost element that can be incremented\n",
    "            j = c - 1\n",
    "            while j >= 0 and combination[j] == n - c + j:\n",
    "                j -= 1\n",
    "\n",
    "            # Increment the rightmost element that can be incremented\n",
    "            combination[j] += 1\n",
    "\n",
    "            # Adjust the elements to the right\n",
    "            for k in range(j + 1, c):\n",
    "                combination[k] = combination[k - 1] + 1\n",
    "\n",
    "    def __init__(self, N: int, *S: int):\n",
    "        \"\"\"class for computing an affine transformation between $M$ vectors, where vector i lives in S[i]-dimensional space\n",
    "        Args:\n",
    "            N (int): the dimension of the output\n",
    "            *S (int): the dimensions of the inputs. Should be of length $M$\n",
    "        \"\"\"\n",
    "\n",
    "        super().__init__()\n",
    "\n",
    "        self.S = torch.tensor(S, dtype=torch.long)\n",
    "        self.M = len(S)\n",
    "        self.N = N\n",
    "        \n",
    "        self.b = nn.Parameter(torch.zeros(self.M)) # the bias term\n",
    "\n",
    "        self.linears = nn.ModuleDict()\n",
    "\n",
    "        for k in range(self.M):\n",
    "            for comb in self._combinations(self.M, k + 1):\n",
    "                S_subset = self.S.gather(index=comb, dim=-1)\n",
    "                self.linears[str(k + 1)] = MLinear(10, *S_subset.numpy())\n",
    "\n",
    "    def forward(self, *X: torch.Tensor):\n",
    "        raise NotImplementedError(\"Sorry!\") # TODO\n",
    "        # make sure you broadcast things together!"
   ]
  },
  {
   "cell_type": "code",
   "execution_count": 73,
   "metadata": {},
   "outputs": [],
   "source": [
    "a = MAffine(10, 2, 3, 4)"
   ]
  },
  {
   "cell_type": "code",
   "execution_count": 49,
   "metadata": {},
   "outputs": [
    {
     "data": {
      "text/plain": [
       "torch.Size([10])"
      ]
     },
     "execution_count": 49,
     "metadata": {},
     "output_type": "execute_result"
    }
   ],
   "source": [
    "a.forward(torch.randn(2), torch.randn(3), torch.randn(4)).shape"
   ]
  },
  {
   "cell_type": "code",
   "execution_count": 54,
   "metadata": {},
   "outputs": [],
   "source": [
    "a = torch.tensor([1,2,3])"
   ]
  },
  {
   "cell_type": "code",
   "execution_count": 58,
   "metadata": {},
   "outputs": [
    {
     "data": {
      "text/plain": [
       "[1, 2, 3]"
      ]
     },
     "execution_count": 58,
     "metadata": {},
     "output_type": "execute_result"
    }
   ],
   "source": [
    "[*a.numpy()]"
   ]
  },
  {
   "cell_type": "code",
   "execution_count": null,
   "metadata": {},
   "outputs": [],
   "source": []
  }
 ],
 "metadata": {
  "kernelspec": {
   "display_name": "german",
   "language": "python",
   "name": "python3"
  },
  "language_info": {
   "codemirror_mode": {
    "name": "ipython",
    "version": 3
   },
   "file_extension": ".py",
   "mimetype": "text/x-python",
   "name": "python",
   "nbconvert_exporter": "python",
   "pygments_lexer": "ipython3",
   "version": "3.11.4"
  },
  "orig_nbformat": 4
 },
 "nbformat": 4,
 "nbformat_minor": 2
}
