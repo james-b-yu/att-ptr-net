{
 "cells": [
  {
   "cell_type": "code",
   "execution_count": 1,
   "metadata": {},
   "outputs": [],
   "source": [
    "import logging\n",
    "logging.basicConfig(level=logging.INFO)\n",
    "logger = logging.getLogger(__name__)\n",
    "import torch\n",
    "import torch.nn.functional as F\n",
    "\n",
    "from german_parser.util.const import CONSTS\n",
    "from german_parser.util.dataloader import TigerDatasetGenerator\n",
    "import dill as pickle\n",
    "from string import punctuation\n",
    "from german_parser.model import TigerModel\n",
    "from german_parser.util import BatchUnionFind\n",
    "\n",
    "from german_parser.util.c_and_d import Dependency, DependencyTree, ConstituentTree, Terminal\n",
    "from collections import defaultdict\n",
    "from typing import Sequence"
   ]
  },
  {
   "cell_type": "code",
   "execution_count": 2,
   "metadata": {},
   "outputs": [],
   "source": [
    "(train_dataloader, train_new_words), (dev_dataloader, dev_new_words), (test_dataloader, test_new_words), character_set, character_flag_generators, inverse_word_dict, inverse_sym_dict = pickle.load(open(\"required_vars.pkl\", \"rb\"))\n",
    "model: TigerModel = pickle.load(open(\"./models/epoch_25_cpu_eval.pickle\", \"rb\"))\n",
    "dl_en = enumerate(test_dataloader)"
   ]
  },
  {
   "cell_type": "markdown",
   "metadata": {},
   "source": [
    "# Playing Around"
   ]
  },
  {
   "cell_type": "code",
   "execution_count": 11,
   "metadata": {},
   "outputs": [],
   "source": [
    "_, (x, l, target_ex, target_lab, target_att) = next(dl_en)"
   ]
  },
  {
   "cell_type": "code",
   "execution_count": 12,
   "metadata": {},
   "outputs": [],
   "source": [
    "best_edges, labels_best_edges, attachment_orders_best_edges, (edges, joint_logits) = model.find_tree((x, l), test_new_words)"
   ]
  },
  {
   "cell_type": "code",
   "execution_count": 14,
   "metadata": {},
   "outputs": [],
   "source": [
    "s_num = 3\n",
    "\n",
    "words = x[s_num, :l[s_num]].to(\"cpu\")\n",
    "\n",
    "ex = best_edges[s_num, :l[s_num]].to(\"cpu\")\n",
    "lab = labels_best_edges[s_num, :l[s_num]].to(\"cpu\")\n",
    "att = attachment_orders_best_edges[s_num, :l[s_num]].to(\"cpu\")\n",
    "\n",
    "t_ex = target_ex[s_num, :l[s_num]].to(\"cpu\")\n",
    "t_lab = target_lab[s_num, :l[s_num]].to(\"cpu\")\n",
    "t_att = target_att[s_num, :l[s_num]].to(\"cpu\")"
   ]
  },
  {
   "cell_type": "code",
   "execution_count": 15,
   "metadata": {},
   "outputs": [
    {
     "name": "stdout",
     "output_type": "stream",
     "text": [
      "TreePlot[{{5->1, \"S#1\"}, {1->2, \"VP#1\"}, {2->3, \"PP#1\"}, {2->4, \"PP#1\"}, {0->5, \"DROOT#1\"}, {8->6, \"PP#1\"}, {8->7, \"PP#1\"}, {10->8, \"AP#1\"}, {10->9, \"AP#1\"}, {11->10, \"NP#1\"}, {5->11, \"S#1\"}, {13->12, \"NP#1\"}, {11->13, \"NP#1\"}, {13->14, \"NP#1\"}, {14->15, \"CNP#1\"}, {14->16, \"CNP#1\"}, {5->17, \"VROOT#2\"}, {24->18, \"S#1\"}, {20->19, \"NP#1\"}, {23->20, \"VP#1\"}, {23->21, \"VP#1\"}, {21->22, \"PP#1\"}, {24->23, \"S#1\"}, {11->24, \"NP#1\"}, {5->25, \"VROOT#2\"}, {5->26, \"S#1\"}, {26->27, \"PP#1\"}, {26->28, \"PP#1\"}, {26->29, \"PP#1\"}, {29->30, \"PP#1\"}, {5->31, \"VROOT#2\"}}, Top, 0, VertexLabels -> Automatic, DirectedEdges -> True]\n"
     ]
    }
   ],
   "source": [
    "edges = []\n",
    "\n",
    "for i, (i_parent, i_lab, i_att) in enumerate(zip(ex, lab, att), 1):\n",
    "    edges.append(f\"{{{i_parent}->{i}, \\\"{inverse_sym_dict[i_lab.item()]}#{i_att}\\\"}}\")\n",
    "\n",
    "print(f\"TreePlot[{{{', '.join(edges)}}}, Top, 0, VertexLabels -> Automatic, DirectedEdges -> True]\")"
   ]
  },
  {
   "cell_type": "code",
   "execution_count": 16,
   "metadata": {},
   "outputs": [
    {
     "name": "stdout",
     "output_type": "stream",
     "text": [
      "TreePlot[{{5->1, \"S#1\"}, {1->2, \"AP#1\"}, {2->3, \"PP#1\"}, {2->4, \"PP#1\"}, {0->5, \"DROOT#1\"}, {8->6, \"PP#1\"}, {8->7, \"PP#1\"}, {5->8, \"S#1\"}, {10->9, \"AP#1\"}, {11->10, \"NP#1\"}, {5->11, \"S#1\"}, {13->12, \"NP#1\"}, {11->13, \"NP#1\"}, {13->14, \"NP#1\"}, {14->15, \"CNP#1\"}, {14->16, \"CNP#1\"}, {5->17, \"VROOT#2\"}, {24->18, \"S#1\"}, {20->19, \"NP#1\"}, {23->20, \"VP#1\"}, {23->21, \"VP#1\"}, {21->22, \"PP#1\"}, {24->23, \"S#1\"}, {13->24, \"NP#1\"}, {5->25, \"VROOT#2\"}, {5->26, \"S#1\"}, {26->27, \"PP#1\"}, {26->28, \"PP#1\"}, {26->29, \"PP#1\"}, {29->30, \"PP#1\"}, {5->31, \"VROOT#2\"}}, Top, 0, VertexLabels -> Automatic, DirectedEdges -> True]\n"
     ]
    }
   ],
   "source": [
    "target_edges = []\n",
    "\n",
    "for i, (i_parent, i_lab, i_att) in enumerate(zip(t_ex, t_lab, t_att), 1):\n",
    "    target_edges.append(f\"{{{i_parent}->{i}, \\\"{inverse_sym_dict[i_lab.item()]}#{i_att}\\\"}}\")\n",
    "\n",
    "print(f\"TreePlot[{{{', '.join(target_edges)}}}, Top, 0, VertexLabels -> Automatic, DirectedEdges -> True]\")"
   ]
  },
  {
   "cell_type": "code",
   "execution_count": 24,
   "metadata": {},
   "outputs": [],
   "source": [
    "the_sentence = [inverse_word_dict[w.item()] if w > 0 else test_new_words[-w.item()] for w in words]\n",
    "c_tree = ConstituentTree.from_collection(heads=ex, syms=[inverse_sym_dict[l.item()] for l in lab], orders=att, words=the_sentence)\n",
    "t_c_tree = ConstituentTree.from_collection(heads=t_ex, syms=[inverse_sym_dict[l.item()] for l in t_lab], orders=t_att, words=the_sentence)"
   ]
  },
  {
   "cell_type": "markdown",
   "metadata": {},
   "source": [
    "# Evaluation"
   ]
  },
  {
   "cell_type": "code",
   "execution_count": 1,
   "metadata": {},
   "outputs": [],
   "source": [
    "from discodop import eval\n",
    "from discodop import tree"
   ]
  },
  {
   "cell_type": "code",
   "execution_count": 40,
   "metadata": {},
   "outputs": [],
   "source": [
    "c_tree_tree, c_tree_sent = tree.brackettree(c_tree.get_bracket(zero_indexed=True), detectdisc=True)\n",
    "t_c_tree_tree, t_c_tree_sent = tree.brackettree(t_c_tree.get_bracket(zero_indexed=True), detectdisc=True)"
   ]
  },
  {
   "cell_type": "code",
   "execution_count": 77,
   "metadata": {},
   "outputs": [],
   "source": [
    "params = {'LABELED': {},\n",
    "          'DELETE_LABEL': set(),\n",
    "          'DISC_ONLY': False,\n",
    "\n",
    "\n",
    "          'DELETE_WORD': set(),\n",
    "          'EQ_LABEL': {}, 'EQ_WORD': {},\n",
    "          'DELETE_ROOT_PRETERMS': 0,\n",
    "          'DELETE_LABEL_FOR_LENGTH': {}, \n",
    "\n",
    "          # do not calculate these unneeded metrics\n",
    "          'LA': False,\n",
    "          'TED': False,\n",
    "          'DEP': False\n",
    "          }"
   ]
  }
 ],
 "metadata": {
  "kernelspec": {
   "display_name": "german",
   "language": "python",
   "name": "python3"
  },
  "language_info": {
   "codemirror_mode": {
    "name": "ipython",
    "version": 3
   },
   "file_extension": ".py",
   "mimetype": "text/x-python",
   "name": "python",
   "nbconvert_exporter": "python",
   "pygments_lexer": "ipython3",
   "version": "3.11.4"
  },
  "orig_nbformat": 4
 },
 "nbformat": 4,
 "nbformat_minor": 2
}
